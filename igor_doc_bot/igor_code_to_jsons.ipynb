{
 "cells": [
  {
   "cell_type": "code",
   "execution_count": 1,
   "id": "d6bdeb67-758e-4ffb-9cbb-a38ca51b778f",
   "metadata": {
    "tags": []
   },
   "outputs": [],
   "source": [
    "%load_ext autoreload\n",
    "%autoreload 2"
   ]
  },
  {
   "cell_type": "markdown",
   "id": "9bd6b164-0917-463b-898f-62016b3e0e7d",
   "metadata": {},
   "source": [
    "## Load code and split on each function\n"
   ]
  },
  {
   "cell_type": "code",
   "execution_count": 2,
   "id": "73e251af-9eae-4227-a9cf-5da446b9845a",
   "metadata": {
    "tags": []
   },
   "outputs": [
    {
     "name": "stderr",
     "output_type": "stream",
     "text": [
      "C:\\Users\\Child\\.conda\\envs\\gpt3.11\\Lib\\site-packages\\tqdm\\auto.py:21: TqdmWarning: IProgress not found. Please update jupyter and ipywidgets. See https://ipywidgets.readthedocs.io/en/stable/user_install.html\n",
      "  from .autonotebook import tqdm as notebook_tqdm\n"
     ]
    }
   ],
   "source": [
    "from igor_funciton_loading import parse_igor_file, parse_all_ipf_files\n",
    "from IPython.display import Markdown, display\n",
    "\n",
    "# Test with a single file\n",
    "# filename = \"IgorAcq_test/fastdac.ipf\"\n",
    "filename = \"IgorAcq_test/babydac.ipf\"\n",
    "# filename = \"IgorAcq_test/ScanController_IO.ipf\"\n",
    "igor_file = parse_igor_file(filename, verbose=False)"
   ]
  },
  {
   "cell_type": "code",
   "execution_count": 3,
   "id": "46840081-10ee-475c-871e-39531a1e1099",
   "metadata": {
    "tags": []
   },
   "outputs": [
    {
     "data": {
      "text/markdown": [
       "## Summary\n",
       "\n",
       "- **Name**: bd_GetBoard\n",
       "- **Declaration**: bd_GetBoard(channel)\n",
       "- **Start_line**: 431\n",
       "- **End_line**: 446\n",
       "- **Filename**: babydac\n",
       "## Docstring\n",
       "\n",
       "```\n",
       "given a channel number\n",
       "return a board number\n",
       "throws an error if the board is not defined/connected\n",
       "```\n",
       "## Code\n",
       "\n",
       "```igor\n",
       "function bd_GetBoard(channel)\n",
       "    // given a channel number\n",
       "    //    return a board number\n",
       "    //    throws an error if the board is not defined/connected\n",
       "\tvariable channel\n",
       "\twave bd_boardnumbers=bd_boardnumbers\n",
       "\tvariable index\n",
       "\tstring err\n",
       "\tindex = floor(channel/4)\n",
       "\tif(bd_boardnumbers[index] == nan)\n",
       "\t\tsprintf err, \"BabyDAC board %d is not defined/connected!\", index\n",
       "\t\tabort err\n",
       "\telse\n",
       "\t\treturn bd_boardnumbers[index]\n",
       "\tendif\n",
       "\n",
       "```\n"
      ],
      "text/plain": [
       "<IPython.core.display.Markdown object>"
      ]
     },
     "metadata": {},
     "output_type": "display_data"
    }
   ],
   "source": [
    "display(Markdown(igor_file.functions[10].to_markdown(include_code=True)))"
   ]
  },
  {
   "cell_type": "code",
   "execution_count": 4,
   "id": "a1552d96-527c-46cc-9c75-54c1e02e86d9",
   "metadata": {
    "tags": []
   },
   "outputs": [
    {
     "name": "stderr",
     "output_type": "stream",
     "text": [
      "12it [00:00, 352.92it/s]"
     ]
    },
    {
     "name": "stdout",
     "output_type": "stream",
     "text": [
      "IgorAcq_test\\babydac.ipf\n",
      "IgorAcq_test\\fastdac.ipf\n",
      "IgorAcq_test\\hp34401A.ipf\n",
      "IgorAcq_test\\keithley2400.ipf\n",
      "IgorAcq_test\\ls370_resistancebridge.ipf\n",
      "IgorAcq_test\\ls625_single_supply.ipf\n",
      "IgorAcq_test\\ScanController.ipf\n",
      "IgorAcq_test\\ScanController_INSTR.ipf\n",
      "IgorAcq_test\\ScanController_IO.ipf\n",
      "IgorAcq_test\\ScanController_SQL.ipf\n",
      "IgorAcq_test\\Scans.ipf\n",
      "IgorAcq_test\\srs830.ipf\n"
     ]
    },
    {
     "name": "stderr",
     "output_type": "stream",
     "text": [
      "\n"
     ]
    },
    {
     "data": {
      "text/plain": [
       "12"
      ]
     },
     "execution_count": 4,
     "metadata": {},
     "output_type": "execute_result"
    }
   ],
   "source": [
    "igor_files = parse_all_ipf_files('IgorAcq_test', progress=True, verbose=False)\n",
    "len(igor_files)"
   ]
  },
  {
   "cell_type": "code",
   "execution_count": 5,
   "id": "28de968e-e555-49a6-8761-dc119d701af6",
   "metadata": {
    "tags": []
   },
   "outputs": [
    {
     "name": "stdout",
     "output_type": "stream",
     "text": [
      "babydac\n",
      "fastdac\n",
      "hp34401A\n",
      "keithley2400\n",
      "ls370_resistancebridge\n",
      "ls625_single_supply\n",
      "ScanController\n",
      "ScanController_INSTR\n",
      "ScanController_IO\n",
      "ScanController_SQL\n",
      "Scans\n",
      "srs830\n"
     ]
    }
   ],
   "source": [
    "for igor_file in igor_files:\n",
    "    print(igor_file.filename)"
   ]
  },
  {
   "cell_type": "code",
   "execution_count": 6,
   "id": "fbd50042-ae2a-44f3-903c-6897ecdd0d43",
   "metadata": {
    "tags": []
   },
   "outputs": [],
   "source": [
    "from pathlib import Path\n",
    "import os\n",
    "code_json_folder = Path('igor_code_jsons')\n",
    "os.makedirs(code_json_folder, exist_ok=True)\n",
    "\n",
    "for igor_file in igor_files:\n",
    "    igor_file.to_file(code_json_folder / f'{igor_file.filename}.json')"
   ]
  },
  {
   "cell_type": "code",
   "execution_count": null,
   "id": "63f5f131-3d50-4ee7-870d-241ba8db6221",
   "metadata": {},
   "outputs": [],
   "source": []
  },
  {
   "cell_type": "code",
   "execution_count": null,
   "id": "5c15e58e-76fe-47ef-bd78-f5da83a58db4",
   "metadata": {},
   "outputs": [],
   "source": []
  }
 ],
 "metadata": {
  "kernelspec": {
   "display_name": "Python 3 (ipykernel)",
   "language": "python",
   "name": "python3"
  },
  "language_info": {
   "codemirror_mode": {
    "name": "ipython",
    "version": 3
   },
   "file_extension": ".py",
   "mimetype": "text/x-python",
   "name": "python",
   "nbconvert_exporter": "python",
   "pygments_lexer": "ipython3",
   "version": "3.11.3"
  }
 },
 "nbformat": 4,
 "nbformat_minor": 5
}
