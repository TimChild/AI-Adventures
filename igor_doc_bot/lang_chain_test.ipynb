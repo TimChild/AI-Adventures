{
 "cells": [
  {
   "cell_type": "code",
   "execution_count": 5,
   "id": "ce3af52c-46d6-4ba3-a19c-4023d5c72c43",
   "metadata": {
    "collapsed": true,
    "jupyter": {
     "outputs_hidden": true
    },
    "tags": []
   },
   "outputs": [
    {
     "name": "stdout",
     "output_type": "stream",
     "text": [
      "Collecting transformers\n",
      "  Using cached transformers-4.29.2-py3-none-any.whl (7.1 MB)\n",
      "Collecting tiktoken\n",
      "  Downloading tiktoken-0.4.0-cp38-cp38-win_amd64.whl (635 kB)\n",
      "     ---------------------------------------- 0.0/635.3 kB ? eta -:--:--\n",
      "     ----------------------------- ------- 512.0/635.3 kB 10.7 MB/s eta 0:00:01\n",
      "     ------------------------------------- 635.3/635.3 kB 10.1 MB/s eta 0:00:00\n",
      "Collecting textract\n",
      "  Downloading textract-1.6.5-py3-none-any.whl (23 kB)\n",
      "Collecting faiss-cpu\n",
      "  Downloading faiss_cpu-1.7.4-cp38-cp38-win_amd64.whl (10.8 MB)\n",
      "     ---------------------------------------- 0.0/10.8 MB ? eta -:--:--\n",
      "     ----- ---------------------------------- 1.5/10.8 MB 31.8 MB/s eta 0:00:01\n",
      "     ------------ --------------------------- 3.4/10.8 MB 36.3 MB/s eta 0:00:01\n",
      "     ----------------- ---------------------- 4.7/10.8 MB 33.1 MB/s eta 0:00:01\n",
      "     ----------------------- ---------------- 6.2/10.8 MB 33.2 MB/s eta 0:00:01\n",
      "     ------------------------------ --------- 8.1/10.8 MB 34.6 MB/s eta 0:00:01\n",
      "     ------------------------------- -------- 8.4/10.8 MB 30.0 MB/s eta 0:00:01\n",
      "     ---------------------------------- ----- 9.4/10.8 MB 31.7 MB/s eta 0:00:01\n",
      "     --------------------------------------  10.8/10.8 MB 28.5 MB/s eta 0:00:01\n",
      "     --------------------------------------- 10.8/10.8 MB 26.2 MB/s eta 0:00:00\n",
      "Requirement already satisfied: pandas in c:\\users\\child\\.conda\\envs\\gpt\\lib\\site-packages (1.3.4)\n",
      "Collecting pypdf\n",
      "  Downloading pypdf-3.9.0-py3-none-any.whl (249 kB)\n",
      "     ---------------------------------------- 0.0/249.5 kB ? eta -:--:--\n",
      "     ------------------------------------- 249.5/249.5 kB 15.9 MB/s eta 0:00:00\n",
      "Requirement already satisfied: numpy>=1.17 in c:\\users\\child\\.conda\\envs\\gpt\\lib\\site-packages (from transformers) (1.21.3)\n",
      "Collecting huggingface-hub<1.0,>=0.14.1\n",
      "  Using cached huggingface_hub-0.14.1-py3-none-any.whl (224 kB)\n",
      "Collecting regex!=2019.12.17\n",
      "  Using cached regex-2023.5.5-cp38-cp38-win_amd64.whl (267 kB)\n",
      "Collecting filelock\n",
      "  Using cached filelock-3.12.0-py3-none-any.whl (10 kB)\n",
      "Requirement already satisfied: pyyaml>=5.1 in c:\\users\\child\\.conda\\envs\\gpt\\lib\\site-packages (from transformers) (6.0)\n",
      "Requirement already satisfied: packaging>=20.0 in c:\\users\\child\\appdata\\roaming\\python\\python38\\site-packages (from transformers) (23.1)\n",
      "Collecting tokenizers!=0.11.3,<0.14,>=0.11.1\n",
      "  Downloading tokenizers-0.13.3-cp38-cp38-win_amd64.whl (3.5 MB)\n",
      "     ---------------------------------------- 0.0/3.5 MB ? eta -:--:--\n",
      "     ---------------------------------------  3.5/3.5 MB 107.8 MB/s eta 0:00:01\n",
      "     ---------------------------------------- 3.5/3.5 MB 73.6 MB/s eta 0:00:00\n",
      "Requirement already satisfied: tqdm>=4.27 in c:\\users\\child\\.conda\\envs\\gpt\\lib\\site-packages (from transformers) (4.65.0)\n",
      "Requirement already satisfied: requests in c:\\users\\child\\appdata\\roaming\\python\\python38\\site-packages (from transformers) (2.30.0)\n",
      "Collecting beautifulsoup4~=4.8.0\n",
      "  Downloading beautifulsoup4-4.8.2-py3-none-any.whl (106 kB)\n",
      "     ---------------------------------------- 0.0/106.9 kB ? eta -:--:--\n",
      "     ---------------------------------------- 106.9/106.9 kB ? eta 0:00:00\n",
      "Collecting SpeechRecognition~=3.8.1\n",
      "  Downloading SpeechRecognition-3.8.1-py2.py3-none-any.whl (32.8 MB)\n",
      "     ---------------------------------------- 0.0/32.8 MB ? eta -:--:--\n",
      "     --- ------------------------------------ 2.5/32.8 MB 52.7 MB/s eta 0:00:01\n",
      "     ----- ---------------------------------- 4.4/32.8 MB 46.4 MB/s eta 0:00:01\n",
      "     ------- -------------------------------- 6.3/32.8 MB 44.7 MB/s eta 0:00:01\n",
      "     ---------- ----------------------------- 8.3/32.8 MB 43.8 MB/s eta 0:00:01\n",
      "     ------------ -------------------------- 10.2/32.8 MB 43.5 MB/s eta 0:00:01\n",
      "     -------------- ------------------------ 12.1/32.8 MB 40.9 MB/s eta 0:00:01\n",
      "     ----------------- --------------------- 14.8/32.8 MB 43.7 MB/s eta 0:00:01\n",
      "     ------------------- ------------------- 16.7/32.8 MB 40.9 MB/s eta 0:00:01\n",
      "     ---------------------- ---------------- 18.6/32.8 MB 43.7 MB/s eta 0:00:01\n",
      "     ------------------------ -------------- 20.5/32.8 MB 40.9 MB/s eta 0:00:01\n",
      "     -------------------------- ------------ 22.5/32.8 MB 43.5 MB/s eta 0:00:01\n",
      "     ----------------------------- --------- 24.5/32.8 MB 40.9 MB/s eta 0:00:01\n",
      "     ------------------------------- ------- 26.4/32.8 MB 40.9 MB/s eta 0:00:01\n",
      "     --------------------------------- ----- 28.3/32.8 MB 40.9 MB/s eta 0:00:01\n",
      "     ------------------------------------ -- 30.3/32.8 MB 40.9 MB/s eta 0:00:01\n",
      "     --------------------------------------  32.3/32.8 MB 40.9 MB/s eta 0:00:01\n",
      "     --------------------------------------  32.8/32.8 MB 40.9 MB/s eta 0:00:01\n",
      "     --------------------------------------- 32.8/32.8 MB 29.8 MB/s eta 0:00:00\n",
      "Collecting xlrd~=1.2.0\n",
      "  Using cached xlrd-1.2.0-py2.py3-none-any.whl (103 kB)\n",
      "Collecting docx2txt~=0.8\n",
      "  Downloading docx2txt-0.8.tar.gz (2.8 kB)\n",
      "  Preparing metadata (setup.py): started\n",
      "  Preparing metadata (setup.py): finished with status 'done'\n",
      "Collecting python-pptx~=0.6.18\n",
      "  Downloading python-pptx-0.6.21.tar.gz (10.1 MB)\n",
      "     ---------------------------------------- 0.0/10.1 MB ? eta -:--:--\n",
      "     ---------- ----------------------------- 2.5/10.1 MB 53.8 MB/s eta 0:00:01\n",
      "     ----------------- ---------------------- 4.5/10.1 MB 48.1 MB/s eta 0:00:01\n",
      "     ------------------------- -------------- 6.4/10.1 MB 45.9 MB/s eta 0:00:01\n",
      "     --------------------------------- ------ 8.4/10.1 MB 44.8 MB/s eta 0:00:01\n",
      "     --------------------------------------  10.1/10.1 MB 46.1 MB/s eta 0:00:01\n",
      "     --------------------------------------- 10.1/10.1 MB 40.4 MB/s eta 0:00:00\n",
      "  Preparing metadata (setup.py): started\n",
      "  Preparing metadata (setup.py): finished with status 'done'\n",
      "Collecting pdfminer.six==20191110\n",
      "  Downloading pdfminer.six-20191110-py2.py3-none-any.whl (5.6 MB)\n",
      "     ---------------------------------------- 0.0/5.6 MB ? eta -:--:--\n",
      "     ---------------- ----------------------- 2.4/5.6 MB 50.1 MB/s eta 0:00:01\n",
      "     ------------------------------ --------- 4.3/5.6 MB 46.1 MB/s eta 0:00:01\n",
      "     ---------------------------------------  5.6/5.6 MB 44.7 MB/s eta 0:00:01\n",
      "     ---------------------------------------- 5.6/5.6 MB 40.0 MB/s eta 0:00:00\n",
      "Collecting six~=1.12.0\n",
      "  Downloading six-1.12.0-py2.py3-none-any.whl (10 kB)\n",
      "Collecting argcomplete~=1.10.0\n",
      "  Downloading argcomplete-1.10.3-py2.py3-none-any.whl (36 kB)\n",
      "Collecting extract-msg<=0.29.*\n",
      "  Downloading extract_msg-0.28.7-py2.py3-none-any.whl (69 kB)\n",
      "     ---------------------------------------- 0.0/69.0 kB ? eta -:--:--\n",
      "     ---------------------------------------- 69.0/69.0 kB ? eta 0:00:00\n",
      "Collecting chardet==3.*\n",
      "  Using cached chardet-3.0.4-py2.py3-none-any.whl (133 kB)\n",
      "Collecting pycryptodome\n",
      "  Downloading pycryptodome-3.18.0-cp35-abi3-win_amd64.whl (1.7 MB)\n",
      "     ---------------------------------------- 0.0/1.7 MB ? eta -:--:--\n",
      "     ---------------------------------------  1.7/1.7 MB 55.5 MB/s eta 0:00:01\n",
      "     ---------------------------------------- 1.7/1.7 MB 36.7 MB/s eta 0:00:00\n",
      "Collecting sortedcontainers\n",
      "  Using cached sortedcontainers-2.4.0-py2.py3-none-any.whl (29 kB)\n",
      "Requirement already satisfied: python-dateutil>=2.7.3 in c:\\users\\child\\appdata\\roaming\\python\\python38\\site-packages (from pandas) (2.8.2)\n",
      "Requirement already satisfied: pytz>=2017.3 in c:\\users\\child\\.conda\\envs\\gpt\\lib\\site-packages (from pandas) (2021.3)\n",
      "Requirement already satisfied: typing_extensions>=3.10.0.0 in c:\\users\\child\\.conda\\envs\\gpt\\lib\\site-packages (from pypdf) (4.5.0)\n",
      "Requirement already satisfied: soupsieve>=1.2 in c:\\users\\child\\.conda\\envs\\gpt\\lib\\site-packages (from beautifulsoup4~=4.8.0->textract) (2.4.1)\n",
      "Collecting ebcdic>=1.1.1\n",
      "  Downloading ebcdic-1.1.1-py2.py3-none-any.whl (128 kB)\n",
      "     ---------------------------------------- 0.0/128.5 kB ? eta -:--:--\n",
      "     ---------------------------------------- 128.5/128.5 kB ? eta 0:00:00\n",
      "Collecting compressed-rtf>=1.0.6\n",
      "  Downloading compressed_rtf-1.0.6.tar.gz (5.8 kB)\n",
      "  Preparing metadata (setup.py): started\n",
      "  Preparing metadata (setup.py): finished with status 'done'\n",
      "Collecting olefile>=0.46\n",
      "  Downloading olefile-0.46.zip (112 kB)\n",
      "     ---------------------------------------- 0.0/112.2 kB ? eta -:--:--\n",
      "     -------------------------------------- 112.2/112.2 kB 6.4 MB/s eta 0:00:00\n",
      "  Preparing metadata (setup.py): started\n",
      "  Preparing metadata (setup.py): finished with status 'done'\n",
      "Collecting tzlocal>=2.1\n",
      "  Downloading tzlocal-5.0.1-py3-none-any.whl (20 kB)\n",
      "Collecting imapclient==2.1.0\n",
      "  Downloading IMAPClient-2.1.0-py2.py3-none-any.whl (73 kB)\n",
      "     ---------------------------------------- 0.0/74.0 kB ? eta -:--:--\n",
      "     ---------------------------------------- 74.0/74.0 kB 4.0 MB/s eta 0:00:00\n",
      "Collecting fsspec\n",
      "  Using cached fsspec-2023.5.0-py3-none-any.whl (160 kB)\n",
      "Collecting lxml>=3.1.0\n",
      "  Downloading lxml-4.9.2-cp38-cp38-win_amd64.whl (3.9 MB)\n",
      "     ---------------------------------------- 0.0/3.9 MB ? eta -:--:--\n",
      "     ---------------------- ----------------- 2.2/3.9 MB 46.4 MB/s eta 0:00:01\n",
      "     ---------------------------------------  3.9/3.9 MB 41.3 MB/s eta 0:00:01\n",
      "     ---------------------------------------- 3.9/3.9 MB 35.4 MB/s eta 0:00:00\n",
      "Requirement already satisfied: Pillow>=3.3.2 in c:\\users\\child\\.conda\\envs\\gpt\\lib\\site-packages (from python-pptx~=0.6.18->textract) (9.5.0)\n",
      "Collecting XlsxWriter>=0.5.7\n",
      "  Downloading XlsxWriter-3.1.1-py3-none-any.whl (152 kB)\n",
      "     ---------------------------------------- 0.0/152.9 kB ? eta -:--:--\n",
      "     -------------------------------------- 152.9/152.9 kB 9.5 MB/s eta 0:00:00\n",
      "Requirement already satisfied: urllib3<3,>=1.21.1 in c:\\users\\child\\.conda\\envs\\gpt\\lib\\site-packages (from requests->transformers) (1.26.7)\n",
      "Requirement already satisfied: certifi>=2017.4.17 in c:\\users\\child\\.conda\\envs\\gpt\\lib\\site-packages (from requests->transformers) (2021.10.8)\n",
      "Requirement already satisfied: idna<4,>=2.5 in c:\\users\\child\\.conda\\envs\\gpt\\lib\\site-packages (from requests->transformers) (3.3)\n",
      "Requirement already satisfied: charset-normalizer<4,>=2 in c:\\users\\child\\.conda\\envs\\gpt\\lib\\site-packages (from requests->transformers) (2.0.7)\n",
      "Requirement already satisfied: colorama in c:\\users\\child\\.conda\\envs\\gpt\\lib\\site-packages (from tqdm>=4.27->transformers) (0.4.6)\n",
      "Collecting tzdata\n",
      "  Using cached tzdata-2023.3-py2.py3-none-any.whl (341 kB)\n",
      "Collecting backports.zoneinfo\n",
      "  Downloading backports.zoneinfo-0.2.1-cp38-cp38-win_amd64.whl (38 kB)\n",
      "Building wheels for collected packages: docx2txt, python-pptx, compressed-rtf, olefile\n",
      "  Building wheel for docx2txt (setup.py): started\n",
      "  Building wheel for docx2txt (setup.py): finished with status 'done'\n",
      "  Created wheel for docx2txt: filename=docx2txt-0.8-py3-none-any.whl size=3973 sha256=8600f45b595cfeebde9ff5a829200592d2cf86724a35cbb103520ceed26c7e10\n",
      "  Stored in directory: c:\\users\\child\\appdata\\local\\pip\\cache\\wheels\\55\\f0\\2c\\81637d42670985178b77df6d41b9b6c6dc18c94818447414b9\n",
      "  Building wheel for python-pptx (setup.py): started\n",
      "  Building wheel for python-pptx (setup.py): finished with status 'done'\n",
      "  Created wheel for python-pptx: filename=python_pptx-0.6.21-py3-none-any.whl size=470993 sha256=3e13c2981ec1b062d22e14c2b1c871daaf570ffa01583e45a3402817672586de\n",
      "  Stored in directory: c:\\users\\child\\appdata\\local\\pip\\cache\\wheels\\b0\\38\\58\\8530ed1681bfee42349acf166867cc9fb369517b2fce83e599\n",
      "  Building wheel for compressed-rtf (setup.py): started\n",
      "  Building wheel for compressed-rtf (setup.py): finished with status 'done'\n",
      "  Created wheel for compressed-rtf: filename=compressed_rtf-1.0.6-py3-none-any.whl size=6197 sha256=19138a1a25dcc9aa3f4020db4f9a5d49db5577d078e441901f40ec002ab7753b\n",
      "  Stored in directory: c:\\users\\child\\appdata\\local\\pip\\cache\\wheels\\11\\f5\\c4\\81acab65ab073b5a3e67fd82e4b9accf3dbcf1de39c7b246ec\n",
      "  Building wheel for olefile (setup.py): started\n",
      "  Building wheel for olefile (setup.py): finished with status 'done'\n",
      "  Created wheel for olefile: filename=olefile-0.46-py2.py3-none-any.whl size=35472 sha256=a6fdbb582efd8888a5b5423cf76d2b61497ba233c36e251fe31ab25843f0ef89\n",
      "  Stored in directory: c:\\users\\child\\appdata\\local\\pip\\cache\\wheels\\0b\\d8\\16\\1e2d32ad7455728b8af9efdb9d2a0c3d03cd8f2e4be0191b8c\n",
      "Successfully built docx2txt python-pptx compressed-rtf olefile\n",
      "Installing collected packages: tokenizers, SpeechRecognition, sortedcontainers, faiss-cpu, ebcdic, docx2txt, compressed-rtf, chardet, argcomplete, XlsxWriter, xlrd, tzdata, six, regex, pypdf, pycryptodome, olefile, lxml, fsspec, filelock, beautifulsoup4, backports.zoneinfo, tzlocal, tiktoken, python-pptx, pdfminer.six, imapclient, huggingface-hub, transformers, extract-msg, textract\n",
      "  Attempting uninstall: six\n",
      "    Found existing installation: six 1.16.0\n",
      "    Uninstalling six-1.16.0:\n",
      "      Successfully uninstalled six-1.16.0\n",
      "  Attempting uninstall: beautifulsoup4\n",
      "    Found existing installation: beautifulsoup4 4.12.2\n",
      "    Uninstalling beautifulsoup4-4.12.2:\n",
      "      Successfully uninstalled beautifulsoup4-4.12.2\n",
      "Successfully installed SpeechRecognition-3.8.1 XlsxWriter-3.1.1 argcomplete-1.10.3 backports.zoneinfo-0.2.1 beautifulsoup4-4.8.2 chardet-3.0.4 compressed-rtf-1.0.6 docx2txt-0.8 ebcdic-1.1.1 extract-msg-0.28.7 faiss-cpu-1.7.4 filelock-3.12.0 fsspec-2023.5.0 huggingface-hub-0.14.1 imapclient-2.1.0 lxml-4.9.2 olefile-0.46 pdfminer.six-20191110 pycryptodome-3.18.0 pypdf-3.9.0 python-pptx-0.6.21 regex-2023.5.5 six-1.12.0 sortedcontainers-2.4.0 textract-1.6.5 tiktoken-0.4.0 tokenizers-0.13.3 transformers-4.29.2 tzdata-2023.3 tzlocal-5.0.1 xlrd-1.2.0\n"
     ]
    },
    {
     "name": "stderr",
     "output_type": "stream",
     "text": [
      "ERROR: pip's dependency resolver does not currently take into account all the packages that are installed. This behaviour is the source of the following dependency conflicts.\n",
      "google-auth 2.14.1 requires cachetools<6.0,>=2.0.0, which is not installed.\n",
      "google-auth 2.14.1 requires pyasn1-modules>=0.2.1, which is not installed.\n",
      "google-auth 2.14.1 requires rsa<5,>=3.1.4; python_version >= \"3.6\", which is not installed.\n",
      "google-auth-oauthlib 0.4.6 requires requests-oauthlib>=0.7.0, which is not installed.\n"
     ]
    }
   ],
   "source": [
    "!pip install transformers tiktoken textract faiss-cpu pandas pypdf langchain matplotlib"
   ]
  },
  {
   "cell_type": "code",
   "execution_count": 1,
   "id": "6bf96045-e81a-451a-bb71-ff1c4f1d15be",
   "metadata": {
    "tags": []
   },
   "outputs": [
    {
     "name": "stderr",
     "output_type": "stream",
     "text": [
      "None of PyTorch, TensorFlow >= 2.0, or Flax have been found. Models won't be available and only tokenizers, configuration and file/data utilities can be used.\n"
     ]
    }
   ],
   "source": [
    "import os\n",
    "import pandas as pd\n",
    "import matplotlib.pyplot as plt\n",
    "from transformers import GPT2TokenizerFast\n",
    "from langchain.document_loaders import PyPDFLoader\n",
    "from langchain.text_splitter import RecursiveCharacterTextSplitter\n",
    "from langchain.embeddings import OpenAIEmbeddings\n",
    "from langchain.vectorstores import FAISS\n",
    "from langchain.chains.question_answering import load_qa_chain\n",
    "from langchain.llms import OpenAI\n",
    "from langchain.chains import ConversationalRetrievalChain"
   ]
  },
  {
   "cell_type": "code",
   "execution_count": 34,
   "id": "a06b2f3c-59c2-4450-933b-be256ca5de7a",
   "metadata": {
    "tags": []
   },
   "outputs": [],
   "source": [
    "# os.environ['OPENAI_API_KEY'] = \"\""
   ]
  },
  {
   "cell_type": "markdown",
   "id": "0970f987-863d-4381-b463-73b757f3deb5",
   "metadata": {},
   "source": [
    "# Loading PDFs"
   ]
  },
  {
   "cell_type": "markdown",
   "id": "560b62db-606d-4b26-97a6-63489ed54512",
   "metadata": {},
   "source": [
    "## Split Text\n",
    "\n",
    "Either by page or by character chunks"
   ]
  },
  {
   "cell_type": "code",
   "execution_count": 24,
   "id": "28a17f13-712c-417a-8626-ca320b33e1de",
   "metadata": {},
   "outputs": [],
   "source": [
    "mode = 'characters'\n",
    "# pdf_path = \"./pdfs/background_chapter.pdf\"\n",
    "pdf_path = \"./pdfs/robust_paper.pdf\""
   ]
  },
  {
   "cell_type": "markdown",
   "id": "c871c2d2-19a1-4a60-8d35-a6ac0f7f2777",
   "metadata": {},
   "source": [
    "### Split by pages"
   ]
  },
  {
   "cell_type": "code",
   "execution_count": 25,
   "id": "b42e2594-d80d-4301-b342-60d12acda485",
   "metadata": {
    "tags": []
   },
   "outputs": [],
   "source": [
    "if mode == 'pages':\n",
    "    loader = PyPDFLoader(pdf_path)\n",
    "    pages = loader.load_and_split()\n",
    "    print(pages[0])\n",
    "\n",
    "    # SKIP TO STEP 2 IF YOU'RE USING THIS METHOD\n",
    "    chunks = pages"
   ]
  },
  {
   "cell_type": "markdown",
   "id": "33890f54-35f1-4ea1-b603-f2bc9068f3ad",
   "metadata": {},
   "source": [
    "### Or Split by characters"
   ]
  },
  {
   "cell_type": "code",
   "execution_count": 37,
   "id": "6b6a52f7-545c-44cd-9512-2e60d37d76e8",
   "metadata": {
    "tags": []
   },
   "outputs": [],
   "source": [
    "if mode == 'characters':\n",
    "    # raise Exception(\"Not tested this yet, has issues\")\n",
    "    # Step 1: Convert PDF to text\n",
    "    import textract\n",
    "    doc = textract.process(pdf_path)\n",
    "\n",
    "    # Step 2: Save to .txt and reopen (helps prevent issues)\n",
    "    with open('test.txt', 'w', encoding='utf-8') as f:\n",
    "        f.write(doc.decode('utf-8'))\n",
    "\n",
    "    with open('test.txt', 'r', encoding='utf-8') as f:\n",
    "        text = f.read()\n",
    "\n",
    "    # Step 3: Create function to count tokens\n",
    "    tokenizer = GPT2TokenizerFast.from_pretrained(\"gpt2\")\n",
    "\n",
    "    def count_tokens(text: str) -> int:\n",
    "        return len(tokenizer.encode(text))\n",
    "\n",
    "    # Step 4: Split text into chunks\n",
    "    text_splitter = RecursiveCharacterTextSplitter(\n",
    "        # Set a really small chunk size, just to show.\n",
    "        # chunk_size = 512,\n",
    "        # chunk_overlap  = 24,\n",
    "        chunk_size = 100,\n",
    "        chunk_overlap  = 20,\n",
    "        length_function = count_tokens,\n",
    "    )\n",
    "\n",
    "    chunks = text_splitter.create_documents([text])"
   ]
  },
  {
   "cell_type": "code",
   "execution_count": 38,
   "id": "b7babcaf-5579-4ac6-90e8-12adf81f2001",
   "metadata": {
    "tags": []
   },
   "outputs": [
    {
     "data": {
      "text/plain": [
       "langchain.schema.Document"
      ]
     },
     "execution_count": 38,
     "metadata": {},
     "output_type": "execute_result"
    }
   ],
   "source": [
    "# Result is many LangChain 'Documents' around 500 tokens or less (Recursive splitter sometimes allows more tokens to retain context)\n",
    "type(chunks[0]) "
   ]
  },
  {
   "cell_type": "code",
   "execution_count": 39,
   "id": "c40a4613-a647-4aab-8084-91d426b0a996",
   "metadata": {
    "tags": []
   },
   "outputs": [
    {
     "data": {
      "image/png": "[encoded data removed]",
      "text/plain": [
       "<Figure size 640x480 with 1 Axes>"
      ]
     },
     "metadata": {},
     "output_type": "display_data"
    }
   ],
   "source": [
    "# Quick data visualization to ensure chunking was successful\n",
    "\n",
    "# Create a list of token counts\n",
    "token_counts = [count_tokens(chunk.page_content) for chunk in chunks]\n",
    "\n",
    "# Create a DataFrame from the token counts\n",
    "df = pd.DataFrame({'Token Count': token_counts})\n",
    "\n",
    "# Create a histogram of the token count distribution\n",
    "df.hist(bins=100, )\n",
    "\n",
    "# Show the plot\n",
    "plt.show()"
   ]
  },
  {
   "cell_type": "markdown",
   "id": "8551f215-1527-4fa9-a81c-c0fc7bae1711",
   "metadata": {},
   "source": [
    "# Embed and store"
   ]
  },
  {
   "cell_type": "code",
   "execution_count": 40,
   "id": "62fe369c-cae8-46dd-b6ec-6d5654cd50a4",
   "metadata": {
    "tags": []
   },
   "outputs": [],
   "source": [
    "# Get embedding model\n",
    "embeddings = OpenAIEmbeddings()\n",
    "\n",
    "# Create vector database\n",
    "db = FAISS.from_documents(chunks, embeddings)"
   ]
  },
  {
   "cell_type": "markdown",
   "id": "f88498f5-a740-4456-9d76-58972d00248c",
   "metadata": {},
   "source": [
    "# Setup retrieval function"
   ]
  },
  {
   "cell_type": "code",
   "execution_count": 44,
   "id": "610d4a40-cd34-425a-84ea-3b3c135857bb",
   "metadata": {
    "tags": []
   },
   "outputs": [
    {
     "name": "stdout",
     "output_type": "stream",
     "text": [
      "page_content='e24030417\\n\\n\\n\\n1. Introduction\\n\\nAcademic Editor: Armin Feldhoff\\n\\nReceived: 24 February 2022\\n\\nAccepted: 13 March 2022\\n\\nPublished: 17 March 2022\\n\\nPublisher’s Note: MDPI stays neutral\\n\\nwith regard to jurisdictional claims in\\n\\npublished maps and institutional affiliations.\\n\\n\\n\\nCopyright: © 2022 by the authors.\\n\\nLicensee MDPI, Basel, Switzerland.\\n\\nThis article is an open access article' metadata={}\n",
      "\n",
      "\n",
      "\n",
      "page_content='The goal of this paper is to outline the improvements made to the experimental\\n\\napproach in Ref. [1] that make it more robust at a technical level and applicable to a broader\\n\\nrange of measurements. From the analytical side, the extraction of ∆S is based on a different\\n\\nformulation of the Maxwell relation [7],\\n\\n∆Sµ1 →µ2 =\\n\\n\\n\\nZ µ2\\n\\ndN (µ)\\n\\nµ1\\n\\n\\n\\ndT' metadata={}\n",
      "\n",
      "\n",
      "\n",
      "page_content='2 of 12\\n\\n\\n\\nholds little scientific value and allowed only the determination of entropy change caused\\n\\nby adding one full electron at a time. At the same time, the experimental method described\\n\\nin that work left room for artifacts in the measurement signal that could contaminate the\\n\\ndetermination of ∆S.\\n\\nThe goal of this paper is to outline the improvements made to the experimental' metadata={}\n",
      "\n",
      "\n",
      "\n",
      "page_content='[CrossRef] [PubMed]\\n\\nGehring, P.; Sowa, J.K.; Hsu, C.; de Bruijckere, J.; van der Star, M.; Le Roy, J.J.; Bogani, L.; Gauger, E.M.; van der Zant, H.S.' metadata={}\n",
      "\n",
      "\n",
      "\n"
     ]
    }
   ],
   "source": [
    "# Check similarity search is working\n",
    "query = \"What's the aim of the paper?\"\n",
    "docs = db.similarity_search(query, )\n",
    "for doc in docs:\n",
    "    print(doc)\n",
    "    print('\\n\\n')"
   ]
  },
  {
   "cell_type": "code",
   "execution_count": 45,
   "id": "77ee9311-22a1-4949-a1d2-759fcb235d5f",
   "metadata": {
    "tags": []
   },
   "outputs": [
    {
     "name": "stdout",
     "output_type": "stream",
     "text": [
      "\n",
      "\n",
      "\u001b[1m> Entering new StuffDocumentsChain chain...\u001b[0m\n",
      "\n",
      "\n",
      "\u001b[1m> Entering new LLMChain chain...\u001b[0m\n",
      "Prompt after formatting:\n",
      "\u001b[32;1m\u001b[1;3mUse the following pieces of context to answer the question at the end. If you don't know the answer, just say that you don't know, don't try to make up an answer.\n",
      "\n",
      "e24030417\n",
      "\n",
      "\n",
      "\n",
      "1. Introduction\n",
      "\n",
      "Academic Editor: Armin Feldhoff\n",
      "\n",
      "Received: 24 February 2022\n",
      "\n",
      "Accepted: 13 March 2022\n",
      "\n",
      "Published: 17 March 2022\n",
      "\n",
      "Publisher’s Note: MDPI stays neutral\n",
      "\n",
      "with regard to jurisdictional claims in\n",
      "\n",
      "published maps and institutional affiliations.\n",
      "\n",
      "\n",
      "\n",
      "Copyright: © 2022 by the authors.\n",
      "\n",
      "Licensee MDPI, Basel, Switzerland.\n",
      "\n",
      "This article is an open access article\n",
      "\n",
      "The goal of this paper is to outline the improvements made to the experimental\n",
      "\n",
      "approach in Ref. [1] that make it more robust at a technical level and applicable to a broader\n",
      "\n",
      "range of measurements. From the analytical side, the extraction of ∆S is based on a different\n",
      "\n",
      "formulation of the Maxwell relation [7],\n",
      "\n",
      "∆Sµ1 →µ2 =\n",
      "\n",
      "\n",
      "\n",
      "Z µ2\n",
      "\n",
      "dN (µ)\n",
      "\n",
      "µ1\n",
      "\n",
      "\n",
      "\n",
      "dT\n",
      "\n",
      "2 of 12\n",
      "\n",
      "\n",
      "\n",
      "holds little scientific value and allowed only the determination of entropy change caused\n",
      "\n",
      "by adding one full electron at a time. At the same time, the experimental method described\n",
      "\n",
      "in that work left room for artifacts in the measurement signal that could contaminate the\n",
      "\n",
      "determination of ∆S.\n",
      "\n",
      "The goal of this paper is to outline the improvements made to the experimental\n",
      "\n",
      "[CrossRef] [PubMed]\n",
      "\n",
      "Gehring, P.; Sowa, J.K.; Hsu, C.; de Bruijckere, J.; van der Star, M.; Le Roy, J.J.; Bogani, L.; Gauger, E.M.; van der Zant, H.S.\n",
      "\n",
      "Question: What's the aim of the paper?\n",
      "Helpful Answer:\u001b[0m\n",
      "\n",
      "\u001b[1m> Finished chain.\u001b[0m\n",
      "\n",
      "\u001b[1m> Finished chain.\u001b[0m\n"
     ]
    },
    {
     "data": {
      "text/plain": [
       "' The aim of the paper is to outline the improvements made to the experimental approach in Ref. [1] that make it more robust at a technical level and applicable to a broader range of measurements.'"
      ]
     },
     "execution_count": 45,
     "metadata": {},
     "output_type": "execute_result"
    }
   ],
   "source": [
    "# Create QA chain to integrate similarity search with user queries (answer query from knowledge base)\n",
    "\n",
    "chain = load_qa_chain(OpenAI(temperature=0), chain_type=\"stuff\", verbose=True)\n",
    "\n",
    "query = \"What's the aim of the paper?\"\n",
    "docs = db.similarity_search(query)\n",
    "\n",
    "response = chain.run(input_documents=docs, question=query)\n",
    "response"
   ]
  },
  {
   "cell_type": "markdown",
   "id": "fefb5eae-8c57-441a-b039-e05050740806",
   "metadata": {},
   "source": [
    "# Create chatbot with chat memory"
   ]
  },
  {
   "cell_type": "code",
   "execution_count": 51,
   "id": "4925862a-2b04-4479-b057-7b9437f180e9",
   "metadata": {
    "tags": []
   },
   "outputs": [],
   "source": [
    "from IPython.display import display, HTML, clear_output\n",
    "import ipywidgets as widgets\n",
    "\n",
    "# Create conversation chain that uses our vectordb as retriver, this also allows for chat history management\n",
    "qa = ConversationalRetrievalChain.from_llm(OpenAI(temperature=0.1), db.as_retriever())"
   ]
  },
  {
   "cell_type": "code",
   "execution_count": 61,
   "id": "4c4c27a4-d79d-4623-b783-449f84631b5e",
   "metadata": {
    "tags": []
   },
   "outputs": [
    {
     "name": "stdout",
     "output_type": "stream",
     "text": [
      "Welcome to the GPTim chatbot! Type 'exit' to stop.\n"
     ]
    },
    {
     "data": {
      "application/vnd.jupyter.widget-view+json": {
       "model_id": "833cbf462c874c55a83e153738820cc0",
       "version_major": 2,
       "version_minor": 0
      },
      "text/plain": [
       "Text(value='', placeholder='Please enter your question...')"
      ]
     },
     "metadata": {},
     "output_type": "display_data"
    },
    {
     "data": {
      "application/vnd.jupyter.widget-view+json": {
       "model_id": "5c2909f55fb74cbcaeac54bf70b5670e",
       "version_major": 2,
       "version_minor": 0
      },
      "text/plain": [
       "Button(description='Submit', style=ButtonStyle())"
      ]
     },
     "metadata": {},
     "output_type": "display_data"
    },
    {
     "data": {
      "application/vnd.jupyter.widget-view+json": {
       "model_id": "89b5bb0f7abf4520a280acbd0ac04934",
       "version_major": 2,
       "version_minor": 0
      },
      "text/plain": [
       "Output()"
      ]
     },
     "metadata": {},
     "output_type": "display_data"
    }
   ],
   "source": [
    "import ipywidgets as widgets\n",
    "from IPython.display import display, clear_output, HTML\n",
    "\n",
    "chat_history = []\n",
    "\n",
    "# Create widgets\n",
    "button = widgets.Button(description=\"Submit\")    # This is the button the user will press when they input something\n",
    "output = widgets.Output()                        # This is where we'll print the results\n",
    "\n",
    "# Create a text box for user input\n",
    "input_box = widgets.Text(\n",
    "    value='',\n",
    "    placeholder='Please enter your question...',\n",
    ")\n",
    "\n",
    "# Define the button click event\n",
    "def on_button_clicked(b):\n",
    "    query = input_box.value\n",
    "    input_box.value = \"\"\n",
    "    \n",
    "    if query.lower() == 'exit':\n",
    "        with output:\n",
    "            print(\"Thank you for using the GPTim chatbot!\")\n",
    "        return\n",
    "    \n",
    "    result = qa({\"question\": query, \"chat_history\": chat_history})\n",
    "    chat_history.append((query, result['answer']))\n",
    "    \n",
    "    with output:\n",
    "        # clear_output()\n",
    "        display(widgets.HTML(f'<b>User:</b> {query}'))\n",
    "        display(widgets.HTML(f'<b><font color=\"green\">GPTim:</font></b> {result[\"answer\"]}'))\n",
    "    \n",
    "        # # Scroll to the bottom of the output\n",
    "        # display(HTML(\"<script>window.scrollTo(0, document.body.scrollHeight);</script>\"))\n",
    "\n",
    "button.on_click(on_button_clicked)\n",
    "\n",
    "print(\"Welcome to the GPTim chatbot! Type 'exit' to stop.\")\n",
    "display(input_box, button, output)\n"
   ]
  },
  {
   "cell_type": "code",
   "execution_count": null,
   "id": "36760b4b-01e2-4fbc-9ab6-b2cd0dc7b687",
   "metadata": {},
   "outputs": [],
   "source": [
    "# db.save_local('test_folder'"
   ]
  }
 ],
 "metadata": {
  "kernelspec": {
   "display_name": "Python 3 (ipykernel)",
   "language": "python",
   "name": "python3"
  },
  "language_info": {
   "codemirror_mode": {
    "name": "ipython",
    "version": 3
   },
   "file_extension": ".py",
   "mimetype": "text/x-python",
   "name": "python",
   "nbconvert_exporter": "python",
   "pygments_lexer": "ipython3",
   "version": "3.11.3"
  }
 },
 "nbformat": 4,
 "nbformat_minor": 5
}
