{
 "cells": [
  {
   "cell_type": "code",
   "execution_count": 46,
   "id": "d6bdeb67-758e-4ffb-9cbb-a38ca51b778f",
   "metadata": {
    "tags": []
   },
   "outputs": [
    {
     "name": "stdout",
     "output_type": "stream",
     "text": [
      "The autoreload extension is already loaded. To reload it, use:\n",
      "  %reload_ext autoreload\n"
     ]
    }
   ],
   "source": [
    "%load_ext autoreload\n",
    "%autoreload 2"
   ]
  },
  {
   "cell_type": "code",
   "execution_count": 47,
   "id": "146d3461-ae1e-4f7b-9aa0-6a8768c207e2",
   "metadata": {
    "tags": []
   },
   "outputs": [],
   "source": [
    "import os\n",
    "\n",
    "with open('../API_KEY', 'r') as f:\n",
    "    os.environ['OPENAI_API_KEY'] = f.read()"
   ]
  },
  {
   "cell_type": "markdown",
   "id": "9bd6b164-0917-463b-898f-62016b3e0e7d",
   "metadata": {},
   "source": [
    "## Load code and split on each function\n"
   ]
  },
  {
   "cell_type": "code",
   "execution_count": 40,
   "id": "73e251af-9eae-4227-a9cf-5da446b9845a",
   "metadata": {
    "tags": []
   },
   "outputs": [],
   "source": [
    "from igor_funciton_loading import parse_igor_file, IgorFile\n",
    "from IPython.display import Markdown, display\n",
    "\n",
    "filename = \"IgorAcq_test/fastdac.ipf\"\n",
    "igor_file = parse_igor_file(filename, verbose=False)"
   ]
  },
  {
   "cell_type": "code",
   "execution_count": 36,
   "id": "46840081-10ee-475c-871e-39531a1e1099",
   "metadata": {
    "tags": []
   },
   "outputs": [
    {
     "data": {
      "text/markdown": [
       "## Summary\n",
       "\n",
       "- **Name**: RampMultipleFDAC\n",
       "- **Declaration**: RampMultipleFDAC(InstrID,channels,setpoint,[ramprate,setpoints_str,ignore_lims])\n",
       "- **Start_line**: 343\n",
       "- **End_line**: 373\n",
       "- **Filename**: IgorAcq_test/fastdac.ipf\n",
       "## Docstring\n",
       "\n",
       "```\n",
       "Ramps multiple channels to setpoint(s) (this is the ramp function that SHOULD be used)\n",
       "InstrID - FastDAC connection variable (e.g. fd)\n",
       "channels - comma separated list of channels to sweep\n",
       "setpoint - Value to sweep channels to (ignored if using setpoints_str)\n",
       "ramprate - sweeprate of channels to setpoint mV/s\n",
       "setpoints_str - comma separated list of setpoints for each channel in channels (setpoint ignored)\n",
       "Note: If ramprate is left default, then each channel will ramp at speed specified in FastDAC window\n",
       "```\n"
      ],
      "text/plain": [
       "<IPython.core.display.Markdown object>"
      ]
     },
     "metadata": {},
     "output_type": "display_data"
    }
   ],
   "source": [
    "display(Markdown(igor_file.functions[10].to_markdown(include_code=False)))"
   ]
  },
  {
   "cell_type": "code",
   "execution_count": 35,
   "id": "51096fda-fc2c-49be-b4ca-692ce6e79c5e",
   "metadata": {
    "tags": []
   },
   "outputs": [
    {
     "name": "stdout",
     "output_type": "stream",
     "text": [
      "Ignoring: ï»¿#pragma TextEncoding = \"UTF-8\"\n",
      "\n",
      "Ignoring: #pragma rtGlobals=3\t\t// Use modern global access method and strict wave access.\n",
      "\n",
      "Ignoring: \n",
      "\n",
      "Ignoring: // Fast DAC (8 DAC channels + 4 ADC channels). Build in-house by Mark (Electronic work shop).\n",
      "\n",
      "Ignoring: // This is the instrument specific .ipf for FastDACs. For interface integration into IgorAqc see ScanController_FastDAC.ipf\n",
      "\n",
      "Ignoring: // Note: the Fast DAC is generally \"stand alone\", no other instruments can read at the same time (unless taking point by point measurements with fastdac, in which case you should be using a DMM)\n",
      "\n",
      "Ignoring: //\t\tOpen a connection to the FastDAC FIRST, and then InitFastDAC() from ScanController_FastDAC\n",
      "\n",
      "Ignoring: // \t\tThe fastdac will only run with the scancontroller_fastdac window specifically (not the regular scancontroller windowm, except for point by point measurements)\n",
      "\n",
      "Ignoring: // \t   In order to save fastdac waves with Scancontroller the user must add the fastdac=1 flag to initWaves() and SaveWaves()\n",
      "\n",
      "Ignoring: //\n",
      "\n",
      "Ignoring: // The fastdac can also act as a spectrum analyzer method. See the Spectrum Analyzer section at the bottom. \n",
      "\n",
      "Ignoring: // As for everyting else, you must open a connection to a FastDAC first and then run \"InitFastDAC\" before you can use the\n",
      "\n",
      "Ignoring: // spectrum analyzer method.\n",
      "\n",
      "Ignoring: //\n",
      "\n",
      "Ignoring: // Written by Christian Olsen and Tim Child, 2020-03-27\n",
      "\n",
      "Ignoring: // Modified by Tim Child, 2020-06-06 -- Separated Fastdac device from scancontroller_fastdac\n",
      "\n",
      "Ignoring: // Added PID related functions by Ruiheng Su, 2021-06-02  \n",
      "\n",
      "Ignoring: // Massive refactoring of code, 2021-11 -- Tim Child\n",
      "\n",
      "Ignoring: \n",
      "\n",
      "Ignoring: ////////////////////\n",
      "\n",
      "Ignoring: //// Connection ////\n",
      "\n",
      "Ignoring: ////////////////////\n",
      "\n",
      "Ignoring: \n",
      "\n",
      "Ignoring: \n",
      "\n",
      "Ignoring: \n",
      "\n",
      "Ignoring: ///////////////////////\n",
      "\n",
      "Ignoring: //// Get functions ////\n",
      "\n",
      "Ignoring: ///////////////////////\n",
      "\n",
      "Ignoring: \n",
      "\n",
      "Ignoring: \n",
      "\n",
      "Ignoring: \n",
      "\n",
      "Ignoring: \n",
      "\n",
      "Ignoring: \n",
      "\n",
      "Ignoring: \n",
      "\n",
      "Ignoring: \n",
      "\n",
      "Ignoring: \n",
      "\n",
      "Ignoring: \n",
      "\n",
      "Ignoring: \n",
      "\n",
      "Ignoring: \n",
      "\n",
      "Ignoring: \n",
      "\n",
      "Ignoring: \n",
      "\n",
      "Ignoring: ///////////////////////\n",
      "\n",
      "Ignoring: //// Set functions ////\n",
      "\n",
      "Ignoring: ///////////////////////\n",
      "\n",
      "Ignoring: \n",
      "\n",
      "Ignoring: \n",
      "\n",
      "Ignoring: \n",
      "\n",
      "Ignoring: \n",
      "\n",
      "Ignoring: \n",
      "\n",
      "Ignoring: \n",
      "\n",
      "Ignoring: \n",
      "\n",
      "Ignoring: \n",
      "\n",
      "Ignoring: \n",
      "\n",
      "Ignoring: \n",
      "\n",
      "Ignoring: \n",
      "\n",
      "Ignoring: \n",
      "\n",
      "Ignoring: ///////////////////////\n",
      "\n",
      "Ignoring: //// PID functions ////\n",
      "\n",
      "Ignoring: ///////////////////////\n",
      "\n",
      "Ignoring: \n",
      "\n",
      "Ignoring: \n",
      "\n",
      "Ignoring: \n",
      "\n",
      "Ignoring: \n",
      "\n",
      "Ignoring: \n",
      "\n",
      "Ignoring: \n",
      "\n",
      "Ignoring: \n",
      "\n",
      "Ignoring: \n",
      "\n",
      "Ignoring: \n",
      "\n",
      "Ignoring: \n",
      "\n",
      "Ignoring: \n",
      "\n",
      "Ignoring: \n",
      "\n",
      "Ignoring: /////////////////////////////////////////////////////////////////////////////////////\n",
      "\n",
      "Ignoring: //////////////////////// Calibration /////////////////////////////////////////////////\n",
      "\n",
      "Ignoring: ////////////////////////////////////////////////////////////////////////////////////\n",
      "\n",
      "Ignoring: \n",
      "\n",
      "Ignoring: \n",
      "\n",
      "Ignoring: \n",
      "\n",
      "Ignoring: \n",
      "\n",
      "Ignoring: \n",
      "\n",
      "Ignoring: \n",
      "\n",
      "Ignoring: \n",
      "\n",
      "Ignoring: \n",
      "\n",
      "Ignoring: \n",
      "\n",
      "Ignoring: \n",
      "\n",
      "Ignoring: ///////////////////\n",
      "\n",
      "Ignoring: //// Utilities ////\n",
      "\n",
      "Ignoring: ///////////////////\n",
      "\n",
      "Ignoring: \n",
      "\n",
      "Ignoring: \n",
      "\n",
      "Ignoring: \n",
      "\n",
      "Ignoring: \n",
      "\n",
      "Ignoring: \n",
      "\n",
      "Ignoring: //////////////////////////////////////////////////////////////////////////////////////////\n",
      "\n",
      "Ignoring: ///////////////////////// Spectrum Analyzer //////////////////////////////////////////////\n",
      "\n",
      "Ignoring: /////////////////////////////////////////////////////////////////////////////////////////\n",
      "\n",
      "Ignoring: \n",
      "\n",
      "Ignoring: \n",
      "\n",
      "Ignoring: \n",
      "\n",
      "Ignoring: \n",
      "\n",
      "Ignoring: \n",
      "\n",
      "Ignoring: //////////////////////////////////\n",
      "\n",
      "Ignoring: ///// Load FastDACs from HDF /////\n",
      "\n",
      "Ignoring: //////////////////////////////////\n",
      "\n",
      "Ignoring: \n",
      "\n",
      "Ignoring: \n",
      "\n",
      "Ignoring: \n",
      "\n",
      "Ignoring: \n",
      "\n",
      "Ignoring: \n",
      "\n",
      "Ignoring: \n",
      "\n",
      "Ignoring: \n",
      "\n",
      "Ignoring: Window fd_LoadWindow() : Panel\n",
      "\n",
      "Ignoring: \tPauseUpdate; Silent 1 // building window\n",
      "\n",
      "Ignoring: \tNewPanel /W=(0,0,740,390) // window size\n",
      "\n",
      "Ignoring: \tModifyPanel frameStyle=2\n",
      "\n",
      "Ignoring: \tSetDrawLayer UserBack\n",
      "\n",
      "Ignoring: \t\n",
      "\n",
      "Ignoring: \tvariable tcoord = 80\n",
      "\n",
      "Ignoring: \t\n",
      "\n",
      "Ignoring: \tSetDrawEnv fsize= 25,fstyle= 1\n",
      "\n",
      "Ignoring: \tDrawText 90, 35,\"FastDAC Load From HDF\" // Headline\n",
      "\n",
      "Ignoring: \t\n",
      "\n",
      "Ignoring: \tSetDrawEnv fsize= 20,fstyle= 1\n",
      "\n",
      "Ignoring: \tDrawText 70, 65,\"Current Setup\" \n",
      "\n",
      "Ignoring: \t\n",
      "\n",
      "Ignoring: \tSetDrawEnv fsize=14, fstyle=1\n",
      "\n",
      "Ignoring: \tDrawText 15, tcoord, \"Ch\"\n",
      "\n",
      "Ignoring: \tSetDrawEnv fsize=14, fstyle=1\n",
      "\n",
      "Ignoring: \tDrawText 50, tcoord, \"Output\"\n",
      "\n",
      "Ignoring: \tSetDrawEnv fsize=14, fstyle=1\n",
      "\n",
      "Ignoring: \tDrawText 120, tcoord, \"Limit\"\n",
      "\n",
      "Ignoring: \tSetDrawEnv fsize=14, fstyle=1\n",
      "\n",
      "Ignoring: \tDrawText 220, tcoord, \"Label\"\n",
      "\n",
      "Ignoring: \tSetDrawEnv fsize=14, fstyle=1\n",
      "\n",
      "Ignoring: \tDrawText 287, tcoord, \"Ramprate\"\n",
      "\n",
      "Ignoring: \tListBox fdaclist,pos={10,tcoord+5},size={360,270},fsize=14,frame=2,widths={30,70,100,65}\n",
      "\n",
      "Ignoring: \tListBox fdaclist,listwave=root:fdacvalstr,selwave=root:fdacattr,mode=1\n",
      "\n",
      "Ignoring: \t\n",
      "\n",
      "Ignoring: \tvariable x_offset = 360\n",
      "\n",
      "Ignoring: \tSetDrawEnv fsize= 20,fstyle= 1\n",
      "\n",
      "Ignoring: \tDrawText 70+x_offset, 65,\"Load from HDF Setup\" \n",
      "\n",
      "Ignoring: \n",
      "\n",
      "Ignoring: \tSetDrawEnv fsize=14, fstyle=1\n",
      "\n",
      "Ignoring: \tDrawText 15+x_offset, tcoord, \"Ch\"\n",
      "\n",
      "Ignoring: \tSetDrawEnv fsize=14, fstyle=1\n",
      "\n",
      "Ignoring: \tDrawText 50+x_offset, tcoord, \"Output\"\n",
      "\n",
      "Ignoring: \tSetDrawEnv fsize=14, fstyle=1\n",
      "\n",
      "Ignoring: \tDrawText 120+x_offset, tcoord, \"Limit\"\n",
      "\n",
      "Ignoring: \tSetDrawEnv fsize=14, fstyle=1\n",
      "\n",
      "Ignoring: \tDrawText 220+x_offset, tcoord, \"Label\"\n",
      "\n",
      "Ignoring: \tSetDrawEnv fsize=14, fstyle=1\n",
      "\n",
      "Ignoring: \tDrawText 287+x_offset, tcoord, \"Ramprate\"\n",
      "\n",
      "Ignoring: \tListBox load_fdaclist,pos={10+x_offset,tcoord+5},size={360,270},fsize=14,frame=2,widths={30,70,100,65}\n",
      "\n",
      "Ignoring: \tListBox load_fdaclist,listwave=root:load_fdacvalstr,selwave=root:fdacattr,mode=1\n",
      "\n",
      "Ignoring: \t\n",
      "\n",
      "Ignoring: \n",
      "\n",
      "Ignoring: \n",
      "\n",
      "Ignoring: \tButton do_nothing,pos={80,tcoord+280},size={120,20},proc=fd_LoadAskUserButton,title=\"Keep Current Setup\"\n",
      "\n",
      "Ignoring: \tButton load_from_hdf,pos={80+x_offset,tcoord+280},size={100,20},proc=fd_LoadAskUserButton,title=\"Load From HDF\"\n",
      "\n",
      "Ignoring: EndMacro\n",
      "\n",
      "Ignoring: \n",
      "\n",
      "Ignoring: \n",
      "\n",
      "Ignoring: ////////////////////////////////////////////////////\n",
      "\n",
      "Ignoring: //////////// Arbitrary Wave Generator //////////////\n",
      "\n",
      "Ignoring: ////////////////////////////////////////////////////\n",
      "\n",
      "Ignoring: \n",
      "\n",
      "Ignoring: \n",
      "\n",
      "Ignoring: \n",
      "\n",
      "Ignoring: \n",
      "\n",
      "Ignoring: \n",
      "\n",
      "Ignoring: \n",
      "\n",
      "Ignoring: \n",
      "\n",
      "Ignoring: \n",
      "\n",
      "Ignoring: \n",
      "\n",
      "Ignoring: \n",
      "\n",
      "Ignoring: \n",
      "\n",
      "Ignoring: \n",
      "\n",
      "Ignoring: \n",
      "\n",
      "Ignoring: ////////////////////////////////////////////////////////////////////////////////////////\n",
      "\n",
      "Ignoring: /////////////////////////////////// FastDAC Sweeps /////////////////////////////////////\n",
      "\n",
      "Ignoring: /////////////////////////////////////////////////////////////////////////////////////////\n",
      "\n",
      "Ignoring: \n",
      "\n",
      "Ignoring: \n",
      "\n",
      "Ignoring: \n",
      "\n",
      "Ignoring: \n",
      "\n",
      "Ignoring: \n",
      "\n",
      "Ignoring: \n",
      "\n",
      "Ignoring: \n",
      "\n",
      "Ignoring: //////////////////////////////////////\n",
      "\n",
      "Ignoring: ///////////// Structs ////////////////\n",
      "\n",
      "Ignoring: //////////////////////////////////////\n",
      "\n",
      "Ignoring: \n",
      "\n",
      "Ignoring: Structure AWGVars\n",
      "\n",
      "Ignoring: \t// strings/waves/etc //\n",
      "\n",
      "Ignoring: \t// Convenience\n",
      "\n",
      "Ignoring: \tstring AW_Waves\t\t// Which AWs to use e.g. \"2\" for AW_2 only, \"1,2\" for fdAW_1 and fdAW_2. (only supports 1 and 2 so far)\n",
      "\n",
      "Ignoring: \t\n",
      "\n",
      "Ignoring: \t// Used in AWG_RAMP\n",
      "\n",
      "Ignoring: \tstring AW_dacs\t\t// Dacs to use for waves\n",
      "\n",
      "Ignoring: \t\t\t\t\t\t\t// Note: AW_dacs is formatted (dacs_for_wave0, dacs_for_wave1, .... e.g. '01,23' for Dacs 0,1 to output wave0, Dacs 2,3 to output wave1)\n",
      "\n",
      "Ignoring: \n",
      "\n",
      "Ignoring: \t// Variables //\n",
      "\n",
      "Ignoring: \t// Convenience\t\n",
      "\n",
      "Ignoring: \tvariable initialized\t// Must set to 1 in order for this to be used in fd_Record_Values (this is per setup change basis)\n",
      "\n",
      "Ignoring: \tvariable use_AWG \t\t// Is AWG going to be on during the scan\n",
      "\n",
      "Ignoring: \tvariable lims_checked \t// Have limits been checked before scanning\n",
      "\n",
      "Ignoring: \tvariable waveLen\t\t\t// in samples (i.e. sum of samples at each setpoint for a single wave cycle)\n",
      "\n",
      "Ignoring: \t\n",
      "\n",
      "Ignoring: \t// Checking things don't change\n",
      "\n",
      "Ignoring: \tvariable numADCs  \t// num ADCs selected to measure when setting up AWG\n",
      "\n",
      "Ignoring: \tvariable samplingFreq // SampleFreq when setting up AWG\n",
      "\n",
      "Ignoring: \tvariable measureFreq // MeasureFreq when setting up AWG\n",
      "\n",
      "Ignoring: \n",
      "\n",
      "Ignoring: \t// Used in AWG_Ramp\n",
      "\n",
      "Ignoring: \tvariable numWaves\t// Number of AWs being used\n",
      "\n",
      "Ignoring: \tvariable numCycles \t// # wave cycles per DAC step for a full 1D scan\n",
      "\n",
      "Ignoring: \tvariable numSteps  \t// # DAC steps for a full 1D scan\n",
      "\n",
      "Ignoring: endstructure\n",
      "\n",
      "Ignoring: \n",
      "\n",
      "Ignoring: \n",
      "\n",
      "Ignoring: \n",
      "\n",
      "Ignoring: \n",
      "\n",
      "Ignoring: \n",
      "\n",
      "Ignoring: \n",
      "\n",
      "Ignoring: \n",
      "\n",
      "Ignoring: \n",
      "\n",
      "Ignoring: \n",
      "\n",
      "Collected len(functions) functions\n"
     ]
    },
    {
     "data": {
      "text/markdown": [
       "## Summary\n",
       "\n",
       "- **Name**: openFastDACconnection\n",
       "- **Start_line**: 24\n",
       "- **End_line**: 60\n",
       "- **Filename**: IgorAcq_test/fastdac.ipf\n",
       "- **Docstring**: instrID is the name of the global variable that will be used for communication visa_address is the VISA address string, i.e. ASRL1::INSTR Most FastDAC communication relies on the info in \"sc_fdackeys\". Pass numDACCh and numADCCh to fill info into \"sc_fdackeys\" fill info into \"sc_fdackeys\"\n",
       "## Docstring\n",
       "\n",
       "```\n",
       "instrID is the name of the global variable that will be used for communication visa_address is the VISA address string, i.e. ASRL1::INSTR Most FastDAC communication relies on the info in \"sc_fdackeys\". Pass numDACCh and numADCCh to fill info into \"sc_fdackeys\" fill info into \"sc_fdackeys\"\n",
       "```\n",
       "## Code\n",
       "\n",
       "```igor\n",
       "function openFastDACconnection(instrID, visa_address, [verbose,numDACCh,numADCCh,master, optical])\n",
       "\t// instrID is the name of the global variable that will be used for communication\n",
       "\t// visa_address is the VISA address string, i.e. ASRL1::INSTR\n",
       "\t// Most FastDAC communication relies on the info in \"sc_fdackeys\". Pass numDACCh and\n",
       "\t// numADCCh to fill info into \"sc_fdackeys\"\n",
       "\tstring instrID, visa_address\n",
       "\tvariable verbose, numDACCh, numADCCh, master\n",
       "\tvariable optical  // Whether connected by optical (or usb)\n",
       "\n",
       "\tmaster = paramisDefault(master) ? 0 : master\n",
       "\toptical = paramisDefault(optical) ? 1 : optical\n",
       "\tverbose = paramisDefault(verbose) ? 1 : verbose\n",
       "\t\t\n",
       "\tvariable localRM\n",
       "\tvariable status = viOpenDefaultRM(localRM) // open local copy of resource manager\n",
       "\tif(status < 0)\n",
       "\t\tVISAerrormsg(\"open FastDAC connection:\", localRM, status)\n",
       "\t\tabort\n",
       "\tendif\n",
       "\t\n",
       "\tstring comm = \"\"\n",
       "\tsprintf comm, \"name=FastDAC,instrID=%s,visa_address=%s\" instrID, visa_address\n",
       "\tstring options\n",
       "\tif(optical)\n",
       " \t\toptions = \"baudrate=1750000,databits=8,parity=0,test_query=*IDN?\"  // For Optical\n",
       "\telse\n",
       "\t\toptions = \"baudrate=57600,databits=8,parity=0,test_query=*IDN?\"  // For USB\n",
       "\tendif\n",
       "\topenVISAinstr(comm, options=options, localRM=localRM, verbose=verbose)\n",
       "\t\n",
       "\t// fill info into \"sc_fdackeys\"\n",
       "\tif(!paramisdefault(numDACCh) && !paramisdefault(numADCCh))\n",
       "\t\tscf_addFDinfos(instrID,visa_address,numDACCh,numADCCh,master=master)\n",
       "\tendif\n",
       "\t\n",
       "\treturn localRM\n",
       "\n",
       "```\n"
      ],
      "text/plain": [
       "<IPython.core.display.Markdown object>"
      ]
     },
     "metadata": {},
     "output_type": "display_data"
    }
   ],
   "source": [
    "# from dataclasses import dataclass, asdict\n",
    "# from typing import List\n",
    "# from IPython.display import Markdown, display\n",
    "# from langchain.schema import Document\n",
    "\n",
    "\n",
    "\n",
    "\n",
    "\n",
    "functions = extract_functions(filename)\n",
    "print(f'Collected len(functions) functions')\n",
    "\n",
    "display(Markdown(functions[0].to_markdown()))"
   ]
  },
  {
   "cell_type": "code",
   "execution_count": null,
   "id": "a1552d96-527c-46cc-9c75-54c1e02e86d9",
   "metadata": {},
   "outputs": [],
   "source": [
    "for \n",
    "all_functions = "
   ]
  },
  {
   "cell_type": "markdown",
   "id": "10eb5aed-564d-473b-847c-ef7df26e73ee",
   "metadata": {},
   "source": [
    "## Check the length of the functions"
   ]
  },
  {
   "cell_type": "code",
   "execution_count": 19,
   "id": "c8569201-7b1e-4376-8223-b32fc918a4a0",
   "metadata": {
    "tags": []
   },
   "outputs": [
    {
     "name": "stdout",
     "output_type": "stream",
     "text": [
      "Encoder should be: <Encoding 'cl100k_base'>\n"
     ]
    }
   ],
   "source": [
    "import tiktoken\n",
    "tiktoken.encoding_for_model('gpt-3.5-turbo')\n",
    "encoder = tiktoken.get_encoding('cl100k_base')\n",
    "print(f'Encoder should be: {encoder}')\n",
    "\n",
    "def token_len(text: str):\n",
    "    encoder = tiktoken.get_encoding('cl100k_base')\n",
    "    return len(encoder.encode(text))"
   ]
  },
  {
   "cell_type": "code",
   "execution_count": 24,
   "id": "c2261cc7-0965-4e08-bbbf-58a658c311fd",
   "metadata": {
    "tags": []
   },
   "outputs": [
    {
     "data": {
      "application/vnd.plotly.v1+json": {
       "config": {
        "plotlyServerURL": "https://plot.ly"
       },
       "data": [
        {
         "alignmentgroup": "True",
         "bingroup": "x",
         "hovertemplate": "variable=0<br>value=%{x}<br>count=%{y}<extra></extra>",
         "legendgroup": "0",
         "marker": {
          "color": "#636efa",
          "pattern": {
           "shape": ""
          }
         },
         "name": "0",
         "nbinsx": 10,
         "offsetgroup": "0",
         "orientation": "v",
         "showlegend": true,
         "type": "histogram",
         "x": [
          413,
          121,
          374,
          178,
          198,
          247,
          159,
          382,
          547,
          654,
          466,
          1173,
          60,
          46,
          87,
          60,
          74,
          101,
          102,
          789,
          1222,
          1005,
          266,
          314,
          141,
          191,
          191,
          155,
          129,
          126,
          112,
          34,
          252,
          1630,
          442,
          204,
          416,
          482,
          125,
          87,
          565,
          1107,
          110,
          363,
          948,
          142,
          275,
          654,
          351,
          47,
          141,
          128,
          236
         ],
         "xaxis": "x",
         "yaxis": "y"
        }
       ],
       "layout": {
        "autosize": true,
        "barmode": "relative",
        "legend": {
         "title": {
          "text": "variable"
         },
         "tracegroupgap": 0
        },
        "margin": {
         "t": 60
        },
        "template": {
         "data": {
          "bar": [
           {
            "error_x": {
             "color": "#f2f5fa"
            },
            "error_y": {
             "color": "#f2f5fa"
            },
            "marker": {
             "line": {
              "color": "rgb(17,17,17)",
              "width": 0.5
             },
             "pattern": {
              "fillmode": "overlay",
              "size": 10,
              "solidity": 0.2
             }
            },
            "type": "bar"
           }
          ],
          "barpolar": [
           {
            "marker": {
             "line": {
              "color": "rgb(17,17,17)",
              "width": 0.5
             },
             "pattern": {
              "fillmode": "overlay",
              "size": 10,
              "solidity": 0.2
             }
            },
            "type": "barpolar"
           }
          ],
          "carpet": [
           {
            "aaxis": {
             "endlinecolor": "#A2B1C6",
             "gridcolor": "#506784",
             "linecolor": "#506784",
             "minorgridcolor": "#506784",
             "startlinecolor": "#A2B1C6"
            },
            "baxis": {
             "endlinecolor": "#A2B1C6",
             "gridcolor": "#506784",
             "linecolor": "#506784",
             "minorgridcolor": "#506784",
             "startlinecolor": "#A2B1C6"
            },
            "type": "carpet"
           }
          ],
          "choropleth": [
           {
            "colorbar": {
             "outlinewidth": 0,
             "ticks": ""
            },
            "type": "choropleth"
           }
          ],
          "contour": [
           {
            "colorbar": {
             "outlinewidth": 0,
             "ticks": ""
            },
            "colorscale": [
             [
              0,
              "#0d0887"
             ],
             [
              0.1111111111111111,
              "#46039f"
             ],
             [
              0.2222222222222222,
              "#7201a8"
             ],
             [
              0.3333333333333333,
              "#9c179e"
             ],
             [
              0.4444444444444444,
              "#bd3786"
             ],
             [
              0.5555555555555556,
              "#d8576b"
             ],
             [
              0.6666666666666666,
              "#ed7953"
             ],
             [
              0.7777777777777778,
              "#fb9f3a"
             ],
             [
              0.8888888888888888,
              "#fdca26"
             ],
             [
              1,
              "#f0f921"
             ]
            ],
            "type": "contour"
           }
          ],
          "contourcarpet": [
           {
            "colorbar": {
             "outlinewidth": 0,
             "ticks": ""
            },
            "type": "contourcarpet"
           }
          ],
          "heatmap": [
           {
            "colorbar": {
             "outlinewidth": 0,
             "ticks": ""
            },
            "colorscale": [
             [
              0,
              "#0d0887"
             ],
             [
              0.1111111111111111,
              "#46039f"
             ],
             [
              0.2222222222222222,
              "#7201a8"
             ],
             [
              0.3333333333333333,
              "#9c179e"
             ],
             [
              0.4444444444444444,
              "#bd3786"
             ],
             [
              0.5555555555555556,
              "#d8576b"
             ],
             [
              0.6666666666666666,
              "#ed7953"
             ],
             [
              0.7777777777777778,
              "#fb9f3a"
             ],
             [
              0.8888888888888888,
              "#fdca26"
             ],
             [
              1,
              "#f0f921"
             ]
            ],
            "type": "heatmap"
           }
          ],
          "heatmapgl": [
           {
            "colorbar": {
             "outlinewidth": 0,
             "ticks": ""
            },
            "colorscale": [
             [
              0,
              "#0d0887"
             ],
             [
              0.1111111111111111,
              "#46039f"
             ],
             [
              0.2222222222222222,
              "#7201a8"
             ],
             [
              0.3333333333333333,
              "#9c179e"
             ],
             [
              0.4444444444444444,
              "#bd3786"
             ],
             [
              0.5555555555555556,
              "#d8576b"
             ],
             [
              0.6666666666666666,
              "#ed7953"
             ],
             [
              0.7777777777777778,
              "#fb9f3a"
             ],
             [
              0.8888888888888888,
              "#fdca26"
             ],
             [
              1,
              "#f0f921"
             ]
            ],
            "type": "heatmapgl"
           }
          ],
          "histogram": [
           {
            "marker": {
             "pattern": {
              "fillmode": "overlay",
              "size": 10,
              "solidity": 0.2
             }
            },
            "type": "histogram"
           }
          ],
          "histogram2d": [
           {
            "colorbar": {
             "outlinewidth": 0,
             "ticks": ""
            },
            "colorscale": [
             [
              0,
              "#0d0887"
             ],
             [
              0.1111111111111111,
              "#46039f"
             ],
             [
              0.2222222222222222,
              "#7201a8"
             ],
             [
              0.3333333333333333,
              "#9c179e"
             ],
             [
              0.4444444444444444,
              "#bd3786"
             ],
             [
              0.5555555555555556,
              "#d8576b"
             ],
             [
              0.6666666666666666,
              "#ed7953"
             ],
             [
              0.7777777777777778,
              "#fb9f3a"
             ],
             [
              0.8888888888888888,
              "#fdca26"
             ],
             [
              1,
              "#f0f921"
             ]
            ],
            "type": "histogram2d"
           }
          ],
          "histogram2dcontour": [
           {
            "colorbar": {
             "outlinewidth": 0,
             "ticks": ""
            },
            "colorscale": [
             [
              0,
              "#0d0887"
             ],
             [
              0.1111111111111111,
              "#46039f"
             ],
             [
              0.2222222222222222,
              "#7201a8"
             ],
             [
              0.3333333333333333,
              "#9c179e"
             ],
             [
              0.4444444444444444,
              "#bd3786"
             ],
             [
              0.5555555555555556,
              "#d8576b"
             ],
             [
              0.6666666666666666,
              "#ed7953"
             ],
             [
              0.7777777777777778,
              "#fb9f3a"
             ],
             [
              0.8888888888888888,
              "#fdca26"
             ],
             [
              1,
              "#f0f921"
             ]
            ],
            "type": "histogram2dcontour"
           }
          ],
          "mesh3d": [
           {
            "colorbar": {
             "outlinewidth": 0,
             "ticks": ""
            },
            "type": "mesh3d"
           }
          ],
          "parcoords": [
           {
            "line": {
             "colorbar": {
              "outlinewidth": 0,
              "ticks": ""
             }
            },
            "type": "parcoords"
           }
          ],
          "pie": [
           {
            "automargin": true,
            "type": "pie"
           }
          ],
          "scatter": [
           {
            "marker": {
             "line": {
              "color": "#283442"
             }
            },
            "type": "scatter"
           }
          ],
          "scatter3d": [
           {
            "line": {
             "colorbar": {
              "outlinewidth": 0,
              "ticks": ""
             }
            },
            "marker": {
             "colorbar": {
              "outlinewidth": 0,
              "ticks": ""
             }
            },
            "type": "scatter3d"
           }
          ],
          "scattercarpet": [
           {
            "marker": {
             "colorbar": {
              "outlinewidth": 0,
              "ticks": ""
             }
            },
            "type": "scattercarpet"
           }
          ],
          "scattergeo": [
           {
            "marker": {
             "colorbar": {
              "outlinewidth": 0,
              "ticks": ""
             }
            },
            "type": "scattergeo"
           }
          ],
          "scattergl": [
           {
            "marker": {
             "line": {
              "color": "#283442"
             }
            },
            "type": "scattergl"
           }
          ],
          "scattermapbox": [
           {
            "marker": {
             "colorbar": {
              "outlinewidth": 0,
              "ticks": ""
             }
            },
            "type": "scattermapbox"
           }
          ],
          "scatterpolar": [
           {
            "marker": {
             "colorbar": {
              "outlinewidth": 0,
              "ticks": ""
             }
            },
            "type": "scatterpolar"
           }
          ],
          "scatterpolargl": [
           {
            "marker": {
             "colorbar": {
              "outlinewidth": 0,
              "ticks": ""
             }
            },
            "type": "scatterpolargl"
           }
          ],
          "scatterternary": [
           {
            "marker": {
             "colorbar": {
              "outlinewidth": 0,
              "ticks": ""
             }
            },
            "type": "scatterternary"
           }
          ],
          "surface": [
           {
            "colorbar": {
             "outlinewidth": 0,
             "ticks": ""
            },
            "colorscale": [
             [
              0,
              "#0d0887"
             ],
             [
              0.1111111111111111,
              "#46039f"
             ],
             [
              0.2222222222222222,
              "#7201a8"
             ],
             [
              0.3333333333333333,
              "#9c179e"
             ],
             [
              0.4444444444444444,
              "#bd3786"
             ],
             [
              0.5555555555555556,
              "#d8576b"
             ],
             [
              0.6666666666666666,
              "#ed7953"
             ],
             [
              0.7777777777777778,
              "#fb9f3a"
             ],
             [
              0.8888888888888888,
              "#fdca26"
             ],
             [
              1,
              "#f0f921"
             ]
            ],
            "type": "surface"
           }
          ],
          "table": [
           {
            "cells": {
             "fill": {
              "color": "#506784"
             },
             "line": {
              "color": "rgb(17,17,17)"
             }
            },
            "header": {
             "fill": {
              "color": "#2a3f5f"
             },
             "line": {
              "color": "rgb(17,17,17)"
             }
            },
            "type": "table"
           }
          ]
         },
         "layout": {
          "annotationdefaults": {
           "arrowcolor": "#f2f5fa",
           "arrowhead": 0,
           "arrowwidth": 1
          },
          "autotypenumbers": "strict",
          "coloraxis": {
           "colorbar": {
            "outlinewidth": 0,
            "ticks": ""
           }
          },
          "colorscale": {
           "diverging": [
            [
             0,
             "#8e0152"
            ],
            [
             0.1,
             "#c51b7d"
            ],
            [
             0.2,
             "#de77ae"
            ],
            [
             0.3,
             "#f1b6da"
            ],
            [
             0.4,
             "#fde0ef"
            ],
            [
             0.5,
             "#f7f7f7"
            ],
            [
             0.6,
             "#e6f5d0"
            ],
            [
             0.7,
             "#b8e186"
            ],
            [
             0.8,
             "#7fbc41"
            ],
            [
             0.9,
             "#4d9221"
            ],
            [
             1,
             "#276419"
            ]
           ],
           "sequential": [
            [
             0,
             "#0d0887"
            ],
            [
             0.1111111111111111,
             "#46039f"
            ],
            [
             0.2222222222222222,
             "#7201a8"
            ],
            [
             0.3333333333333333,
             "#9c179e"
            ],
            [
             0.4444444444444444,
             "#bd3786"
            ],
            [
             0.5555555555555556,
             "#d8576b"
            ],
            [
             0.6666666666666666,
             "#ed7953"
            ],
            [
             0.7777777777777778,
             "#fb9f3a"
            ],
            [
             0.8888888888888888,
             "#fdca26"
            ],
            [
             1,
             "#f0f921"
            ]
           ],
           "sequentialminus": [
            [
             0,
             "#0d0887"
            ],
            [
             0.1111111111111111,
             "#46039f"
            ],
            [
             0.2222222222222222,
             "#7201a8"
            ],
            [
             0.3333333333333333,
             "#9c179e"
            ],
            [
             0.4444444444444444,
             "#bd3786"
            ],
            [
             0.5555555555555556,
             "#d8576b"
            ],
            [
             0.6666666666666666,
             "#ed7953"
            ],
            [
             0.7777777777777778,
             "#fb9f3a"
            ],
            [
             0.8888888888888888,
             "#fdca26"
            ],
            [
             1,
             "#f0f921"
            ]
           ]
          },
          "colorway": [
           "#636efa",
           "#EF553B",
           "#00cc96",
           "#ab63fa",
           "#FFA15A",
           "#19d3f3",
           "#FF6692",
           "#B6E880",
           "#FF97FF",
           "#FECB52"
          ],
          "font": {
           "color": "#f2f5fa"
          },
          "geo": {
           "bgcolor": "rgb(17,17,17)",
           "lakecolor": "rgb(17,17,17)",
           "landcolor": "rgb(17,17,17)",
           "showlakes": true,
           "showland": true,
           "subunitcolor": "#506784"
          },
          "hoverlabel": {
           "align": "left"
          },
          "hovermode": "closest",
          "mapbox": {
           "style": "dark"
          },
          "paper_bgcolor": "rgb(17,17,17)",
          "plot_bgcolor": "rgb(17,17,17)",
          "polar": {
           "angularaxis": {
            "gridcolor": "#506784",
            "linecolor": "#506784",
            "ticks": ""
           },
           "bgcolor": "rgb(17,17,17)",
           "radialaxis": {
            "gridcolor": "#506784",
            "linecolor": "#506784",
            "ticks": ""
           }
          },
          "scene": {
           "xaxis": {
            "backgroundcolor": "rgb(17,17,17)",
            "gridcolor": "#506784",
            "gridwidth": 2,
            "linecolor": "#506784",
            "showbackground": true,
            "ticks": "",
            "zerolinecolor": "#C8D4E3"
           },
           "yaxis": {
            "backgroundcolor": "rgb(17,17,17)",
            "gridcolor": "#506784",
            "gridwidth": 2,
            "linecolor": "#506784",
            "showbackground": true,
            "ticks": "",
            "zerolinecolor": "#C8D4E3"
           },
           "zaxis": {
            "backgroundcolor": "rgb(17,17,17)",
            "gridcolor": "#506784",
            "gridwidth": 2,
            "linecolor": "#506784",
            "showbackground": true,
            "ticks": "",
            "zerolinecolor": "#C8D4E3"
           }
          },
          "shapedefaults": {
           "line": {
            "color": "#f2f5fa"
           }
          },
          "sliderdefaults": {
           "bgcolor": "#C8D4E3",
           "bordercolor": "rgb(17,17,17)",
           "borderwidth": 1,
           "tickwidth": 0
          },
          "ternary": {
           "aaxis": {
            "gridcolor": "#506784",
            "linecolor": "#506784",
            "ticks": ""
           },
           "baxis": {
            "gridcolor": "#506784",
            "linecolor": "#506784",
            "ticks": ""
           },
           "bgcolor": "rgb(17,17,17)",
           "caxis": {
            "gridcolor": "#506784",
            "linecolor": "#506784",
            "ticks": ""
           }
          },
          "title": {
           "x": 0.05
          },
          "updatemenudefaults": {
           "bgcolor": "#506784",
           "borderwidth": 0
          },
          "xaxis": {
           "automargin": true,
           "gridcolor": "#283442",
           "linecolor": "#506784",
           "ticks": "",
           "title": {
            "standoff": 15
           },
           "zerolinecolor": "#283442",
           "zerolinewidth": 2
          },
          "yaxis": {
           "automargin": true,
           "gridcolor": "#283442",
           "linecolor": "#506784",
           "ticks": "",
           "title": {
            "standoff": 15
           },
           "zerolinecolor": "#283442",
           "zerolinewidth": 2
          }
         }
        },
        "xaxis": {
         "anchor": "y",
         "autorange": true,
         "domain": [
          0,
          1
         ],
         "range": [
          -0.5,
          1799.5
         ],
         "title": {
          "text": "value"
         },
         "type": "linear"
        },
        "yaxis": {
         "anchor": "x",
         "autorange": true,
         "domain": [
          0,
          1
         ],
         "range": [
          0,
          27.36842105263158
         ],
         "title": {
          "text": "count"
         }
        }
       }
      },
      "image/png": "[encoded data removed]",
      "text/html": [
       "<div>                            <div id=\"0e4ba51a-8875-4506-9b45-46f4932f5d1c\" class=\"plotly-graph-div\" style=\"height:525px; width:100%;\"></div>            <script type=\"text/javascript\">                require([\"plotly\"], function(Plotly) {                    window.PLOTLYENV=window.PLOTLYENV || {};                                    if (document.getElementById(\"0e4ba51a-8875-4506-9b45-46f4932f5d1c\")) {                    Plotly.newPlot(                        \"0e4ba51a-8875-4506-9b45-46f4932f5d1c\",                        [{\"alignmentgroup\":\"True\",\"bingroup\":\"x\",\"hovertemplate\":\"variable=0\\u003cbr\\u003evalue=%{x}\\u003cbr\\u003ecount=%{y}\\u003cextra\\u003e\\u003c\\u002fextra\\u003e\",\"legendgroup\":\"0\",\"marker\":{\"color\":\"#636efa\",\"pattern\":{\"shape\":\"\"}},\"name\":\"0\",\"nbinsx\":10,\"offsetgroup\":\"0\",\"orientation\":\"v\",\"showlegend\":true,\"x\":[413,121,374,178,198,247,159,382,547,654,466,1173,60,46,87,60,74,101,102,789,1222,1005,266,314,141,191,191,155,129,126,112,34,252,1630,442,204,416,482,125,87,565,1107,110,363,948,142,275,654,351,47,141,128,236],\"xaxis\":\"x\",\"yaxis\":\"y\",\"type\":\"histogram\"}],                        {\"template\":{\"data\":{\"barpolar\":[{\"marker\":{\"line\":{\"color\":\"rgb(17,17,17)\",\"width\":0.5},\"pattern\":{\"fillmode\":\"overlay\",\"size\":10,\"solidity\":0.2}},\"type\":\"barpolar\"}],\"bar\":[{\"error_x\":{\"color\":\"#f2f5fa\"},\"error_y\":{\"color\":\"#f2f5fa\"},\"marker\":{\"line\":{\"color\":\"rgb(17,17,17)\",\"width\":0.5},\"pattern\":{\"fillmode\":\"overlay\",\"size\":10,\"solidity\":0.2}},\"type\":\"bar\"}],\"carpet\":[{\"aaxis\":{\"endlinecolor\":\"#A2B1C6\",\"gridcolor\":\"#506784\",\"linecolor\":\"#506784\",\"minorgridcolor\":\"#506784\",\"startlinecolor\":\"#A2B1C6\"},\"baxis\":{\"endlinecolor\":\"#A2B1C6\",\"gridcolor\":\"#506784\",\"linecolor\":\"#506784\",\"minorgridcolor\":\"#506784\",\"startlinecolor\":\"#A2B1C6\"},\"type\":\"carpet\"}],\"choropleth\":[{\"colorbar\":{\"outlinewidth\":0,\"ticks\":\"\"},\"type\":\"choropleth\"}],\"contourcarpet\":[{\"colorbar\":{\"outlinewidth\":0,\"ticks\":\"\"},\"type\":\"contourcarpet\"}],\"contour\":[{\"colorbar\":{\"outlinewidth\":0,\"ticks\":\"\"},\"colorscale\":[[0.0,\"#0d0887\"],[0.1111111111111111,\"#46039f\"],[0.2222222222222222,\"#7201a8\"],[0.3333333333333333,\"#9c179e\"],[0.4444444444444444,\"#bd3786\"],[0.5555555555555556,\"#d8576b\"],[0.6666666666666666,\"#ed7953\"],[0.7777777777777778,\"#fb9f3a\"],[0.8888888888888888,\"#fdca26\"],[1.0,\"#f0f921\"]],\"type\":\"contour\"}],\"heatmapgl\":[{\"colorbar\":{\"outlinewidth\":0,\"ticks\":\"\"},\"colorscale\":[[0.0,\"#0d0887\"],[0.1111111111111111,\"#46039f\"],[0.2222222222222222,\"#7201a8\"],[0.3333333333333333,\"#9c179e\"],[0.4444444444444444,\"#bd3786\"],[0.5555555555555556,\"#d8576b\"],[0.6666666666666666,\"#ed7953\"],[0.7777777777777778,\"#fb9f3a\"],[0.8888888888888888,\"#fdca26\"],[1.0,\"#f0f921\"]],\"type\":\"heatmapgl\"}],\"heatmap\":[{\"colorbar\":{\"outlinewidth\":0,\"ticks\":\"\"},\"colorscale\":[[0.0,\"#0d0887\"],[0.1111111111111111,\"#46039f\"],[0.2222222222222222,\"#7201a8\"],[0.3333333333333333,\"#9c179e\"],[0.4444444444444444,\"#bd3786\"],[0.5555555555555556,\"#d8576b\"],[0.6666666666666666,\"#ed7953\"],[0.7777777777777778,\"#fb9f3a\"],[0.8888888888888888,\"#fdca26\"],[1.0,\"#f0f921\"]],\"type\":\"heatmap\"}],\"histogram2dcontour\":[{\"colorbar\":{\"outlinewidth\":0,\"ticks\":\"\"},\"colorscale\":[[0.0,\"#0d0887\"],[0.1111111111111111,\"#46039f\"],[0.2222222222222222,\"#7201a8\"],[0.3333333333333333,\"#9c179e\"],[0.4444444444444444,\"#bd3786\"],[0.5555555555555556,\"#d8576b\"],[0.6666666666666666,\"#ed7953\"],[0.7777777777777778,\"#fb9f3a\"],[0.8888888888888888,\"#fdca26\"],[1.0,\"#f0f921\"]],\"type\":\"histogram2dcontour\"}],\"histogram2d\":[{\"colorbar\":{\"outlinewidth\":0,\"ticks\":\"\"},\"colorscale\":[[0.0,\"#0d0887\"],[0.1111111111111111,\"#46039f\"],[0.2222222222222222,\"#7201a8\"],[0.3333333333333333,\"#9c179e\"],[0.4444444444444444,\"#bd3786\"],[0.5555555555555556,\"#d8576b\"],[0.6666666666666666,\"#ed7953\"],[0.7777777777777778,\"#fb9f3a\"],[0.8888888888888888,\"#fdca26\"],[1.0,\"#f0f921\"]],\"type\":\"histogram2d\"}],\"histogram\":[{\"marker\":{\"pattern\":{\"fillmode\":\"overlay\",\"size\":10,\"solidity\":0.2}},\"type\":\"histogram\"}],\"mesh3d\":[{\"colorbar\":{\"outlinewidth\":0,\"ticks\":\"\"},\"type\":\"mesh3d\"}],\"parcoords\":[{\"line\":{\"colorbar\":{\"outlinewidth\":0,\"ticks\":\"\"}},\"type\":\"parcoords\"}],\"pie\":[{\"automargin\":true,\"type\":\"pie\"}],\"scatter3d\":[{\"line\":{\"colorbar\":{\"outlinewidth\":0,\"ticks\":\"\"}},\"marker\":{\"colorbar\":{\"outlinewidth\":0,\"ticks\":\"\"}},\"type\":\"scatter3d\"}],\"scattercarpet\":[{\"marker\":{\"colorbar\":{\"outlinewidth\":0,\"ticks\":\"\"}},\"type\":\"scattercarpet\"}],\"scattergeo\":[{\"marker\":{\"colorbar\":{\"outlinewidth\":0,\"ticks\":\"\"}},\"type\":\"scattergeo\"}],\"scattergl\":[{\"marker\":{\"line\":{\"color\":\"#283442\"}},\"type\":\"scattergl\"}],\"scattermapbox\":[{\"marker\":{\"colorbar\":{\"outlinewidth\":0,\"ticks\":\"\"}},\"type\":\"scattermapbox\"}],\"scatterpolargl\":[{\"marker\":{\"colorbar\":{\"outlinewidth\":0,\"ticks\":\"\"}},\"type\":\"scatterpolargl\"}],\"scatterpolar\":[{\"marker\":{\"colorbar\":{\"outlinewidth\":0,\"ticks\":\"\"}},\"type\":\"scatterpolar\"}],\"scatter\":[{\"marker\":{\"line\":{\"color\":\"#283442\"}},\"type\":\"scatter\"}],\"scatterternary\":[{\"marker\":{\"colorbar\":{\"outlinewidth\":0,\"ticks\":\"\"}},\"type\":\"scatterternary\"}],\"surface\":[{\"colorbar\":{\"outlinewidth\":0,\"ticks\":\"\"},\"colorscale\":[[0.0,\"#0d0887\"],[0.1111111111111111,\"#46039f\"],[0.2222222222222222,\"#7201a8\"],[0.3333333333333333,\"#9c179e\"],[0.4444444444444444,\"#bd3786\"],[0.5555555555555556,\"#d8576b\"],[0.6666666666666666,\"#ed7953\"],[0.7777777777777778,\"#fb9f3a\"],[0.8888888888888888,\"#fdca26\"],[1.0,\"#f0f921\"]],\"type\":\"surface\"}],\"table\":[{\"cells\":{\"fill\":{\"color\":\"#506784\"},\"line\":{\"color\":\"rgb(17,17,17)\"}},\"header\":{\"fill\":{\"color\":\"#2a3f5f\"},\"line\":{\"color\":\"rgb(17,17,17)\"}},\"type\":\"table\"}]},\"layout\":{\"annotationdefaults\":{\"arrowcolor\":\"#f2f5fa\",\"arrowhead\":0,\"arrowwidth\":1},\"autotypenumbers\":\"strict\",\"coloraxis\":{\"colorbar\":{\"outlinewidth\":0,\"ticks\":\"\"}},\"colorscale\":{\"diverging\":[[0,\"#8e0152\"],[0.1,\"#c51b7d\"],[0.2,\"#de77ae\"],[0.3,\"#f1b6da\"],[0.4,\"#fde0ef\"],[0.5,\"#f7f7f7\"],[0.6,\"#e6f5d0\"],[0.7,\"#b8e186\"],[0.8,\"#7fbc41\"],[0.9,\"#4d9221\"],[1,\"#276419\"]],\"sequential\":[[0.0,\"#0d0887\"],[0.1111111111111111,\"#46039f\"],[0.2222222222222222,\"#7201a8\"],[0.3333333333333333,\"#9c179e\"],[0.4444444444444444,\"#bd3786\"],[0.5555555555555556,\"#d8576b\"],[0.6666666666666666,\"#ed7953\"],[0.7777777777777778,\"#fb9f3a\"],[0.8888888888888888,\"#fdca26\"],[1.0,\"#f0f921\"]],\"sequentialminus\":[[0.0,\"#0d0887\"],[0.1111111111111111,\"#46039f\"],[0.2222222222222222,\"#7201a8\"],[0.3333333333333333,\"#9c179e\"],[0.4444444444444444,\"#bd3786\"],[0.5555555555555556,\"#d8576b\"],[0.6666666666666666,\"#ed7953\"],[0.7777777777777778,\"#fb9f3a\"],[0.8888888888888888,\"#fdca26\"],[1.0,\"#f0f921\"]]},\"colorway\":[\"#636efa\",\"#EF553B\",\"#00cc96\",\"#ab63fa\",\"#FFA15A\",\"#19d3f3\",\"#FF6692\",\"#B6E880\",\"#FF97FF\",\"#FECB52\"],\"font\":{\"color\":\"#f2f5fa\"},\"geo\":{\"bgcolor\":\"rgb(17,17,17)\",\"lakecolor\":\"rgb(17,17,17)\",\"landcolor\":\"rgb(17,17,17)\",\"showlakes\":true,\"showland\":true,\"subunitcolor\":\"#506784\"},\"hoverlabel\":{\"align\":\"left\"},\"hovermode\":\"closest\",\"mapbox\":{\"style\":\"dark\"},\"paper_bgcolor\":\"rgb(17,17,17)\",\"plot_bgcolor\":\"rgb(17,17,17)\",\"polar\":{\"angularaxis\":{\"gridcolor\":\"#506784\",\"linecolor\":\"#506784\",\"ticks\":\"\"},\"bgcolor\":\"rgb(17,17,17)\",\"radialaxis\":{\"gridcolor\":\"#506784\",\"linecolor\":\"#506784\",\"ticks\":\"\"}},\"scene\":{\"xaxis\":{\"backgroundcolor\":\"rgb(17,17,17)\",\"gridcolor\":\"#506784\",\"gridwidth\":2,\"linecolor\":\"#506784\",\"showbackground\":true,\"ticks\":\"\",\"zerolinecolor\":\"#C8D4E3\"},\"yaxis\":{\"backgroundcolor\":\"rgb(17,17,17)\",\"gridcolor\":\"#506784\",\"gridwidth\":2,\"linecolor\":\"#506784\",\"showbackground\":true,\"ticks\":\"\",\"zerolinecolor\":\"#C8D4E3\"},\"zaxis\":{\"backgroundcolor\":\"rgb(17,17,17)\",\"gridcolor\":\"#506784\",\"gridwidth\":2,\"linecolor\":\"#506784\",\"showbackground\":true,\"ticks\":\"\",\"zerolinecolor\":\"#C8D4E3\"}},\"shapedefaults\":{\"line\":{\"color\":\"#f2f5fa\"}},\"sliderdefaults\":{\"bgcolor\":\"#C8D4E3\",\"bordercolor\":\"rgb(17,17,17)\",\"borderwidth\":1,\"tickwidth\":0},\"ternary\":{\"aaxis\":{\"gridcolor\":\"#506784\",\"linecolor\":\"#506784\",\"ticks\":\"\"},\"baxis\":{\"gridcolor\":\"#506784\",\"linecolor\":\"#506784\",\"ticks\":\"\"},\"bgcolor\":\"rgb(17,17,17)\",\"caxis\":{\"gridcolor\":\"#506784\",\"linecolor\":\"#506784\",\"ticks\":\"\"}},\"title\":{\"x\":0.05},\"updatemenudefaults\":{\"bgcolor\":\"#506784\",\"borderwidth\":0},\"xaxis\":{\"automargin\":true,\"gridcolor\":\"#283442\",\"linecolor\":\"#506784\",\"ticks\":\"\",\"title\":{\"standoff\":15},\"zerolinecolor\":\"#283442\",\"zerolinewidth\":2},\"yaxis\":{\"automargin\":true,\"gridcolor\":\"#283442\",\"linecolor\":\"#506784\",\"ticks\":\"\",\"title\":{\"standoff\":15},\"zerolinecolor\":\"#283442\",\"zerolinewidth\":2}}},\"xaxis\":{\"anchor\":\"y\",\"domain\":[0.0,1.0],\"title\":{\"text\":\"value\"}},\"yaxis\":{\"anchor\":\"x\",\"domain\":[0.0,1.0],\"title\":{\"text\":\"count\"}},\"legend\":{\"title\":{\"text\":\"variable\"},\"tracegroupgap\":0},\"margin\":{\"t\":60},\"barmode\":\"relative\"},                        {\"responsive\": true}                    ).then(function(){\n",
       "                            \n",
       "var gd = document.getElementById('0e4ba51a-8875-4506-9b45-46f4932f5d1c');\n",
       "var x = new MutationObserver(function (mutations, observer) {{\n",
       "        var display = window.getComputedStyle(gd).display;\n",
       "        if (!display || display === 'none') {{\n",
       "            console.log([gd, 'removed!']);\n",
       "            Plotly.purge(gd);\n",
       "            observer.disconnect();\n",
       "        }}\n",
       "}});\n",
       "\n",
       "// Listen for the removal of the full notebook cells\n",
       "var notebookContainer = gd.closest('#notebook-container');\n",
       "if (notebookContainer) {{\n",
       "    x.observe(notebookContainer, {childList: true});\n",
       "}}\n",
       "\n",
       "// Listen for the clearing of the current output cell\n",
       "var outputEl = gd.closest('.output');\n",
       "if (outputEl) {{\n",
       "    x.observe(outputEl, {childList: true});\n",
       "}}\n",
       "\n",
       "                        })                };                });            </script>        </div>"
      ]
     },
     "metadata": {},
     "output_type": "display_data"
    }
   ],
   "source": [
    "import plotly.express as px\n",
    "px.histogram([token_len(func) for func in functions], nbins=10,template='plotly_dark')"
   ]
  },
  {
   "cell_type": "code",
   "execution_count": 62,
   "id": "bb132b32-1e07-4182-911b-0b530f446189",
   "metadata": {
    "tags": []
   },
   "outputs": [],
   "source": [
    "text_splitter = RecursiveCharacterTextSplitter(\n",
    "    \n",
    "    # chunk_size=200,\n",
    "    # chunk_overlap=40,\n",
    "    chunk_size=3000,\n",
    "    chunk_overlap=20,\n",
    "    length_function=len_tokens,\n",
    "\n",
    ")"
   ]
  },
  {
   "cell_type": "code",
   "execution_count": 63,
   "id": "65c3574d-449e-443f-840c-41dc729f2505",
   "metadata": {
    "tags": []
   },
   "outputs": [
    {
     "name": "stdout",
     "output_type": "stream",
     "text": [
      "1124\n",
      "2838\n",
      "1241\n",
      "2609\n",
      "2886\n",
      "2987\n",
      "2571\n",
      "2244\n",
      "2824\n",
      "2972\n",
      "2636\n",
      "2804\n",
      "2452\n",
      "2401\n",
      "2483\n",
      "2587\n",
      "2483\n",
      "2360\n",
      "2210\n",
      "167\n"
     ]
    }
   ],
   "source": [
    "texts = text_splitter.create_documents(texts=[docs[0].page_content])\n",
    "len(texts)\n",
    "for text in texts[:30]:\n",
    "    print(len_tokens(text.page_content))"
   ]
  },
  {
   "cell_type": "code",
   "execution_count": 71,
   "id": "1ae74ff6-d6c5-4368-b4b9-41f07a76d033",
   "metadata": {
    "tags": []
   },
   "outputs": [
    {
     "name": "stdout",
     "output_type": "stream",
     "text": [
      "z\n",
      "\t3D Graphics\n",
      "Igor can create various kinds of 3D graphics including:\n",
      "\tSurface Plots\n",
      "\t3D Scatter Pl\n",
      "---\n",
      " This depends on your graphics hardware, graphics driver version and graphics acceleration settings.\n",
      "\n",
      "\n",
      "---\n",
      "\n",
      "\n",
      "Gizmo Guided Tour\n",
      "The tutorials in the following sections will give you a sense of Gizmo's basic cap\n",
      "---\n",
      " revisit the tour later and is not strictly necessary.\n",
      "Gizmo 3D Scatter Plot and Fitted Surface Tour\n",
      "\n",
      "\n",
      "---\n",
      "\n",
      "\n",
      "Gizmo 3D Scatter Plot and Fitted Surface Tour\n",
      "In this tour we will create a 3D scatter plot from a t\n",
      "---\n",
      "on Tour.pxp\".\n",
      "This is just in case you want to revisit the tour later and is not strictly necessary.\n",
      "\n",
      "\n",
      "---\n",
      "\n",
      "\n",
      "That concludes the Gizmo guided tour. There are more examples below. Also choose File->Example Exper\n",
      "---\n",
      "utes\n",
      "Internal attributes are built into objects. For example, the New Sphere dialog looks like this:\n",
      "\n",
      "\n",
      "---\n",
      "\n",
      "\n",
      "The draw style, normals, orientation and color settings are internal attributes of the sphere object\n",
      "---\n",
      "nslate, data={1,0,0}\n",
      "ModifyGizmo setDisplayList=1, opName=rotate0, operation=rotate, data={45,0,0,1}\n",
      "\n",
      "\n",
      "---\n",
      "\n",
      "\n",
      "In this last case, at the time the translation was done, the object's axes were aligned with the mai\n",
      "---\n",
      "alog you set these options using the Details button which displays a subdialog that looks like this:\n",
      "\n",
      "\n",
      "---\n",
      "\n",
      "\n",
      "The Color Table Alpha setting applies to all colors in the color table. If you want to apply a varia\n",
      "---\n",
      "you would like to draw a box around it, just add a box whose length, width and height are two units.\n",
      "\n",
      "\n",
      "---\n",
      "\n",
      "\n",
      "Line Objects\n",
      "A line object is a straight line that connects the two endpoint coordinates. You can ad\n",
      "---\n",
      "lockwise from startAngle:\n",
      "ModifyGizmo modifyObject=disk0, objectType=Disk, property={sweepAngle,270}\n",
      "\n",
      "\n",
      "---\n",
      "\n",
      "\n",
      "String Objects\n",
      "You can use standard Igor annotations in Gizmo as you do in graphs.\n",
      "Annotations are 2\n",
      "---\n",
      " it is best to display missing data in Gizmo using transparency (see Transparency and Translucency).\n",
      "\n",
      "\n",
      "---\n",
      "\n",
      "\n",
      "Gizmo Data Objects\n",
      "Data objects, also called \"wave-based objects\", are display objects representing \n",
      "---\n",
      "atter plots of the same data in order to show the positioning of data points along the ribbon edges:\n",
      "\n",
      "\n",
      "---\n",
      "\n",
      "\n",
      "Voxelgram Plots\n",
      "\"Voxel\" is short for \"volume element\".\n",
      "A voxelgram is a representation of a 3D wave \n",
      "---\n",
      "he display list insert a default ortho operation (+/-2 for all axes) at the top of the display list.\n",
      "\n",
      "\n",
      "---\n",
      "\n",
      "\n",
      "Gizmo Compatibility\n",
      "Before Igor7 Gizmo was implemented based on the original OpenGL 1.0 specificatio\n",
      "---\n",
      "\n",
      "\n",
      "\n",
      "\n",
      "\"\n",
      "\n",
      "0\n",
      "G\n",
      "\n",
      "C\n",
      "\n",
      "\n",
      "S\n",
      "\n",
      "\n",
      "\n",
      "G-\n",
      "\n",
      "l\n",
      "\t%Q\n",
      "\n",
      "\n",
      "\n",
      "\n",
      "A1Q\n",
      "\n",
      "u\n",
      ",KU\n",
      "\n",
      "\n",
      "H\n",
      "\n",
      "QqG\n",
      "\n",
      "i\n",
      "}\n",
      "\n",
      "\n",
      "\n",
      "\n",
      "\n",
      "\n",
      " \n",
      "eIf.h>_\n",
      "\n",
      "\n",
      "{3\n",
      "\n",
      "\n",
      "Q\n",
      "\n",
      "!D\n",
      "%\n",
      "\n",
      "\n",
      "_\n",
      "\n",
      ";+\n",
      "Q\n",
      "\n",
      "\n",
      "---\n",
      "\n",
      "\n",
      "{3\n",
      "\n",
      "\n",
      "Q\n",
      "\n",
      "!D\n",
      "%\n",
      "\n",
      "\n",
      "_\n",
      "\n",
      ";+\n",
      "Q\n",
      "\n",
      "\n",
      "\n",
      "L\n",
      "3Y\n",
      "7,\n",
      "PBddx(\n",
      "^N\n",
      "\n",
      "X\n",
      "\n",
      "\n",
      "\n",
      "\n",
      "\"\n",
      "\n",
      "\n",
      "\n",
      "\n",
      "T\n",
      "\n",
      "\n",
      "!L\n",
      "\n",
      "\\\n",
      "^R\n",
      "\n",
      "\n",
      " P\n",
      "\n",
      "\n",
      "o\n",
      "\n",
      ":\n",
      "Yi\n",
      "Z+@\n",
      "\n",
      "\"J\n",
      " \n",
      "\n",
      "\n",
      "d:\n",
      "\n",
      "---\n",
      "Z\n",
      "\n",
      "\n",
      "\n",
      "N6\n",
      "\n",
      "\n",
      "\n",
      "8_\n",
      "\n",
      "\n",
      "9\n",
      "\n",
      "\n",
      "\n",
      "\n",
      "\n",
      "\n",
      "\n",
      "\n",
      "\t\n",
      "(\n",
      "IU\n",
      "\n",
      ")t\n",
      "\n",
      "\n",
      "^G\n",
      "\n",
      "\n",
      "(\n",
      "9+\n",
      "\n",
      "\n",
      "\n",
      "W\n",
      "\n",
      "\n",
      "\n",
      "f\n",
      "0\n",
      "PNG\n",
      "\n",
      "\n",
      "\n",
      ",\n",
      "\n",
      "!\n",
      "\n",
      "\n",
      "\n",
      "`\n",
      "qp\n",
      "\n",
      "\n",
      "\n",
      "$\n",
      "\n",
      "\n",
      "Bb\n",
      "\n",
      "q\n",
      "\n",
      "T\n",
      "\n",
      "\n",
      ",\n",
      "\n",
      "\n",
      "---\n",
      "\n",
      "\n",
      ",\n",
      "\n",
      "!\n",
      "\n",
      "\n",
      "\n",
      "`\n",
      "qp\n",
      "\n",
      "\n",
      "\n",
      "$\n",
      "\n",
      "\n",
      "Bb\n",
      "\n",
      "q\n",
      "\n",
      "T\n",
      "\n",
      "\n",
      ",\n",
      "\n",
      "\n",
      "w\n",
      "_N\n",
      "W\n",
      "\n",
      "\n",
      "\n",
      "\n",
      "\n",
      "!\n",
      "v\n",
      "=\n",
      "v\n",
      "\n",
      "\n",
      ":\n",
      "\n",
      "\n",
      " p\n",
      " p\n",
      "bE\\\\\\JJ\n",
      "\n",
      "B5\n",
      "*9\n",
      "\n",
      "\n",
      "\n",
      "\n",
      "\n",
      "\n",
      "\n",
      "\n",
      "Z\n",
      "\n",
      "\n",
      "\n",
      "\n",
      "\n",
      "\n",
      "\n",
      "\n",
      "\n",
      "---\n",
      "\n",
      "\n",
      "\n",
      "\n",
      "\n",
      "%\n",
      "\n",
      "WY\n",
      "^555\n",
      "\n",
      "\n",
      "k\n",
      "\n",
      "\n",
      "\n",
      "\n",
      "\n",
      "'\n",
      "\n",
      "\n",
      "UVV\n",
      "\n",
      "C\n",
      "\n",
      "\n",
      "\n",
      "\n",
      "3g\n",
      "\n",
      "i\n",
      "\n",
      "\n",
      "\n",
      "\n",
      "\n",
      "\n",
      "\n",
      "\n",
      "\n",
      "\n",
      "~~~\n",
      "\n",
      "\n",
      "P(\n",
      "\n",
      "\n",
      "\n",
      "\n",
      "\n",
      "\n",
      "\n",
      "\n",
      "\n",
      "\n",
      "\n",
      "\n",
      "\n",
      "\n",
      "v\n",
      "\n",
      "\n",
      "szMM\n",
      "\n",
      "\n",
      "\n",
      "\n",
      "\n",
      "\n",
      "\n",
      ">\n",
      "\n",
      "\n",
      "O\n",
      "\n",
      "\n",
      "---\n",
      "\n",
      "\n",
      "v\n",
      "\n",
      "\n",
      "szMM\n",
      "\n",
      "\n",
      "\n",
      "\n",
      "\n",
      "\n",
      "\n",
      ">\n",
      "\n",
      "\n",
      "O\n",
      "\n",
      "\n",
      "\n",
      "\n",
      "UUUO<\t\t\t\t\n",
      "\n",
      "\n",
      "\n",
      "\n",
      "\n",
      "3'**\n",
      ";\n",
      "\n",
      "q\n",
      "\n",
      "4\n",
      "\n",
      "\n",
      "zu\n",
      "\n",
      "V\n",
      "O}b\n",
      "\n",
      "\n",
      "\n",
      "\n",
      "\n",
      "\n",
      "\n",
      "\n",
      "\n",
      "\n",
      "\n",
      "\n",
      "\n",
      "\n",
      "\n",
      "\n",
      "v\n",
      "\n",
      "\n",
      "?\n",
      ".\n",
      "\n",
      "2e\n",
      "\n",
      "?,\n",
      "E\n",
      "\n",
      "---\n",
      "\n",
      "\n",
      "\n",
      "\n",
      "w\n",
      "H\n",
      "\n",
      ":\n",
      "\n",
      "\\o\n",
      "\n",
      "r(\n",
      "\n",
      "\n",
      "\n",
      "\n",
      "q\n",
      "\n",
      "\n",
      "?F\n",
      "<\n",
      "\n",
      "/\n",
      "\n",
      "\n",
      "\n",
      "\n",
      ":\\E\n",
      "\"\n",
      "\n",
      "\n",
      "\n",
      "x3H\n",
      "W\n",
      "\n",
      "\n",
      "\n",
      "\n",
      "\n",
      "\n",
      "\n",
      "\n",
      "\t\n",
      "\n",
      "6\n",
      "\n",
      "\n",
      "0\n",
      "\n",
      "F\n",
      "\n",
      "m[5\n",
      "\n",
      "4\n",
      "\n",
      "\n",
      "\n",
      "\n",
      "og\n",
      "@\n",
      "@\n",
      "\n",
      "\n",
      "\n",
      "3\n",
      "\n",
      "k\n",
      "\n",
      "\n",
      "---\n",
      "\n",
      "\n",
      "F\n",
      "\n",
      "m[5\n",
      "\n",
      "4\n",
      "\n",
      "\n",
      "\n",
      "\n",
      "og\n",
      "@\n",
      "@\n",
      "\n",
      "\n",
      "\n",
      "3\n",
      "\n",
      "k\n",
      "\n",
      "\n",
      "a\n",
      "\n",
      "~\n",
      "\n",
      "\n",
      "\n",
      "\n",
      ";\n",
      "v\n",
      "J\n",
      "\n",
      "\n",
      "\n",
      "'%\n",
      "Cc\n",
      "\n",
      "\n",
      "-{V\n",
      "v\n",
      "-\n",
      "\n",
      "I\n",
      "k\n",
      "\n",
      "\n",
      "\n",
      "\n",
      "\n",
      "\n",
      ":iE;\n",
      "k0\n",
      "O\n",
      "\n",
      "j\n",
      "\n",
      "\n",
      "\n",
      "\n",
      "\n",
      "BRE\n",
      "E\n",
      "\n",
      "---\n",
      "\n",
      "\n",
      "\n",
      "\n",
      " \n",
      "l\n",
      "\n",
      "R8 rC\n",
      "|\n",
      "\n",
      "\n",
      "\n",
      "`\n",
      "\n",
      "\n",
      "\n",
      "/}\n",
      "\n",
      ">|c\n",
      "\n",
      "\n",
      "]\n",
      "l41 !\n",
      "\n",
      "L\n",
      "\n",
      "\n",
      "\n",
      "oA\n",
      "u(\n",
      "\n",
      "@H\n",
      "\n",
      "3\n",
      "@?V\n",
      "\n",
      "y\n",
      "\n",
      "\n",
      "\n",
      "Q9\n",
      "\n",
      "\n",
      "\n",
      "\n",
      "\n",
      "\n",
      ">p;V\n",
      "\n",
      "\n",
      "\n",
      "\n",
      "\n",
      "(\n",
      "\n",
      "\n",
      "c\n",
      ",\n",
      "=\n",
      "\n",
      "\n",
      "---\n",
      "\n",
      "\n",
      "Q9\n",
      "\n",
      "\n",
      "\n",
      "\n",
      "\n",
      "\n",
      ">p;V\n",
      "\n",
      "\n",
      "\n",
      "\n",
      "\n",
      "(\n",
      "\n",
      "\n",
      "c\n",
      ",\n",
      "=\n",
      "\n",
      "w/+\n",
      ",\n",
      "\n",
      "PNG\n",
      "\n",
      "\n",
      "\n",
      ",\n",
      "\n",
      "!\n",
      "\n",
      "\n",
      "\n",
      "`\n",
      "qp\n",
      "\n",
      "\n",
      "\n",
      "$\n",
      "\n",
      "\n",
      "Bb\n",
      "\n",
      "q\n",
      "\n",
      "T\n",
      "\n",
      "\n",
      ",\n",
      "\n",
      "\n",
      "w\n",
      "_N\n",
      "W\n",
      "\n",
      "\n",
      "\n",
      "\n",
      "\n",
      "\n",
      "\n",
      "\n",
      "\n",
      "\n",
      "\n",
      "\n",
      "\n",
      "\n",
      "\n",
      "---\n",
      "\n",
      "B\n",
      "\n",
      "\t>\n",
      "x\n",
      "\n",
      "\n",
      "\n",
      "\n",
      "(Q\n",
      ",z\n",
      ">\n",
      "\n",
      "B\n",
      "\n",
      "~\n",
      "l\n",
      "(\n",
      "\n",
      "\n",
      "u\n",
      ";\n",
      "\n",
      "5\n",
      "\n",
      "\n",
      ".\n",
      "\n",
      "\n",
      "\n",
      "x\n",
      "\n",
      "<C\n",
      "\n",
      "\n",
      "L[\\D\n",
      "K\n",
      "a\n",
      "\n",
      "\n",
      "\n",
      "2P\n",
      "\n",
      ">}\n",
      "\n",
      "XZf\n",
      "z\n",
      "\n",
      "BKjy\n",
      "\n",
      "\n",
      "\n",
      "O\n",
      "r\n",
      "\n",
      "\n",
      "\n",
      "\n",
      "\\>\n",
      "\n",
      "\n",
      "---\n",
      "\n",
      "\n",
      "BKjy\n",
      "\n",
      "\n",
      "\n",
      "O\n",
      "r\n",
      "\n",
      "\n",
      "\n",
      "\n",
      "\\>\n",
      "\n",
      "\n",
      "\n",
      "\n",
      "\n",
      "3r\n",
      "\n",
      "0Y\n",
      "\n",
      "\n",
      "l\n",
      "G.\n",
      "\n",
      "\n",
      "\n",
      "~\n",
      "F\n",
      "\n",
      "mb\n",
      "\n",
      "x\n",
      "\n",
      "\t\n",
      "-\n",
      "d\n",
      "~\n",
      "\n",
      "\n",
      "\n",
      "\n",
      "@\t\\\n",
      "\t \n",
      "\n",
      "\t \n",
      "\n",
      "6vF\n",
      "\n",
      "T\n",
      "j\n",
      "\n",
      "\n",
      "\n",
      "\n",
      "\n",
      "\n",
      "\t;2jT\n",
      "\n",
      "\n",
      "\n",
      "---\n",
      "ixelYDimension>\n",
      "      </rdf:Description>\n",
      "   </rdf:RDF>\n",
      "</x:xmpmeta>\n",
      "*F*xE\n",
      "\"\n",
      "WZZ\n",
      "\n",
      "\n",
      "\n",
      "\n",
      "\n",
      "\n",
      "\n",
      "\n",
      "\n",
      "\n",
      "\n",
      "\n",
      "\n",
      "\n",
      "\n",
      "\n",
      "\n",
      "\n",
      "\n",
      "~\n",
      "\n",
      "\n",
      "---\n",
      "\n",
      "\n",
      "~\n",
      "\n",
      "\n",
      "\n",
      "\n",
      "\n",
      "\n",
      "\n",
      "\n",
      "\n",
      "\n",
      "\n",
      "\n",
      "\n",
      "xa\n",
      "\n",
      "\n",
      "\n",
      "\n",
      "\n",
      "\n",
      "\n",
      "\n",
      "t\n",
      "\n",
      "8\n",
      "\n",
      "4-\n",
      "y\n",
      "\n",
      "\n",
      "\n",
      "\n",
      "\n",
      "\n",
      "l\t\n",
      "\n",
      "\n",
      "\n",
      "\n",
      "\n",
      "\n",
      "\n",
      "\n",
      "\n",
      "\n",
      "s\n",
      "\n",
      "\n",
      "Q@S4\n",
      "e\n",
      "\n",
      "\n",
      "\n",
      "\n",
      "\n",
      "\n",
      "M\n",
      "\n",
      "\n",
      "|-\n",
      "w\n",
      "\n",
      "\n",
      "\n",
      "\n",
      "\n",
      "\n",
      "y\n",
      "\n",
      "\n",
      "q\n",
      "L\n",
      "y\n",
      "\n",
      "0\n",
      "---\n",
      "qR)\n",
      "?\n",
      "D\n",
      "(\n",
      "\n",
      "C\n",
      "bFg\n",
      "y\n",
      "r\n",
      "\n",
      "\t)\n",
      "\n",
      "\n",
      "/m\n",
      "@\n",
      "^\n",
      ",\n",
      "\n",
      "\n",
      "\n",
      "\n",
      "\n",
      "\n",
      "\n",
      "ti\n",
      ":\n",
      "\n",
      "\n",
      "\n",
      ":\n",
      "\n",
      "\n",
      "\n",
      "\n",
      "\n",
      "\n",
      "Jg \n",
      "\n",
      "+8\n",
      "\n",
      "p\n",
      "\n",
      "\n",
      "\n",
      "\n",
      "\n",
      "\n",
      "\n",
      "\n",
      "v\n",
      "8\n",
      "?;\n",
      "\n",
      "\n",
      "\n",
      "\n",
      "\n",
      "S\n",
      "\n",
      "\n",
      "\n",
      "\n",
      "\n",
      "\\\n",
      "@\n",
      "\n",
      "\n",
      "---\n",
      "\n",
      "\n",
      "v\n",
      "8\n",
      "?;\n",
      "\n",
      "\n",
      "\n",
      "\n",
      "\n",
      "S\n",
      "\n",
      "\n",
      "\n",
      "\n",
      "\n",
      "\\\n",
      "@\n",
      "\n",
      "P@N\n",
      "\n",
      "g\n",
      "\n",
      "\n",
      "\n",
      "\n",
      "\n",
      "\n",
      ".\n",
      "\n",
      "K\n",
      "\n",
      "\n",
      "\n",
      "\n",
      "\n",
      "\n",
      "\n",
      "\n",
      "\n",
      "\n",
      "\n",
      "\n",
      "\n",
      "\n",
      "\n",
      "\n",
      "\n",
      "\n",
      "\n",
      "\n",
      "\n",
      "\n",
      "\n",
      "\n",
      "\n",
      "\n",
      "\n",
      "\n",
      "e\n",
      "\n",
      "\n",
      "\n",
      "\n",
      "\n",
      "\n",
      "\n",
      "\n",
      "\n",
      "\n",
      "\n",
      "\n",
      "\n",
      "\n",
      "\n",
      "\n",
      "\n",
      "\n",
      "\n",
      "\n",
      "\n",
      "\n",
      "\n",
      "\n",
      "\n",
      "\n",
      "\n",
      "\n",
      "\n",
      "---\n",
      "\n",
      "N\n",
      "\n",
      "\n",
      "\n",
      "_\n",
      "\n",
      "\n",
      "*\n",
      "\n",
      "\n",
      "rq9\n",
      "\n",
      "\n",
      "\n",
      "\n",
      "qY\n",
      "\n",
      "\n",
      "5\n",
      ".4\n",
      "\n",
      "\n",
      "\n",
      "\n",
      "\n",
      "\n",
      "9\n",
      "\n",
      "\n",
      "\n",
      "\n",
      "GUA\n",
      "\n",
      "\n",
      "\n",
      "\n",
      "\n",
      "\n",
      "\n",
      "\n",
      "\n",
      "\n",
      "\n",
      "\n",
      "\n",
      "\n",
      "\n",
      "\n",
      "\n",
      "]\n",
      "\n",
      "\n",
      "\n",
      "\n",
      "\n",
      "\n",
      "\n",
      "\n",
      "\n",
      "\n",
      "\n",
      "\n",
      "\n",
      "\n",
      "\n",
      "\n",
      "\n",
      "\n",
      "\n",
      "\n",
      "\n",
      "\n",
      "\n",
      "\n",
      "\n",
      "\n",
      "\n",
      "\n",
      "\n",
      "\n",
      "\n",
      "\n",
      "H\n",
      "\n",
      "\n",
      "---\n",
      "\n",
      "\n"
     ]
    }
   ],
   "source": [
    "docs[0].metadata\n",
    "for text in texts[:20]:\n",
    "    print(text.page_content[:100])\n",
    "    print('---')\n",
    "    print(text.page_content[-100:])\n",
    "    print('\\n\\n---\\n\\n')"
   ]
  },
  {
   "cell_type": "code",
   "execution_count": 59,
   "id": "f5992055-dda1-4ab6-a78f-c53b379ce21c",
   "metadata": {
    "tags": []
   },
   "outputs": [
    {
     "name": "stdout",
     "output_type": "stream",
     "text": [
      "5377\n",
      "page_content='z\\n\\t3D Graphics\\nIgor can create various kinds of 3D graphics including:\\n\\tSurface Plots\\n\\t3D Scatter Plots\\n\\t3D Bar Plots\\n\\tPath Plots\\n\\tRibbon Plots\\n\\n\\tIsosurface Plots\\n\\tVoxelgram Plots\\nImage Plots, Contour Plots and Waterfall Plots are considered 2D graphics and are discussed in other sections of the help.' metadata={'source': 'igor_help_files_txt\\\\3D Graphics.txt'}\n",
      "page_content='#include <Scatter Plot Matrix>\\nContains procedures to build a matrix of scatter plots from a list of waves. The resulting graph shows a matrix of scatter plots using all possible pairs of waves from the list as X and Y data.\\nFor a demonstration of the use of this procedure, see the demo experiment, Scatter Plot Matrix Demo, in the Graphing Techniques folder inside the Examples folder.\\n\\n\\n#include <SetDecadeLength>\\nContains a procedure, SetDecadeLength,  which, assuming the top window is a log/log graph,sets the size of the graph\\'s plot area such that the length of a decade on the horizontal and vertical axes equals xInches and yInches. Enter zero for xInches or yInches if you do not want to affect that dimension.\\n\\n#include <Split Axis>\\nContains procedures that allows you to create axes that are broken into two or more segments. One procedure, SplitAxis, breaks a given axis in two and another procedure, AddSplitAxisMarks, adds marks as draw objects. For complete documentation, see the example experiment named Split Axes.\\n\\n#include <TableOfGraphsTraces>\\nContains a \"Graph\" menu definition for creating a table containing the waves displayed in the graph. There are options for selecting hidden traces and traces in subwindows.\\n\\n#include <TransformAxis1.2>\\nMakes a transform axis graph- that is, plots data in a transformed space and creates an axis with appropriate tick marks. Also makes a mirror axis that shows values in a transformed space.\\nHas built-in reciprocal axes and probability axes, as well as several temperature conversions.\\nUses features new in Igor Pro 5 that improve the flexibility of transform axes and the ability of transform axes to adjust to changes in a graph. Transform axes made with the older TransformAxis procedure are incompatible with TransformAxis1.2.\\n\\n#include <Wave Review Chart>\\nCreates a control panel containing a chart that allows you to scroll through a binary wave file (.bwav suffix) or a wave in memory. Can also review Igor FIFO files.' metadata={'source': 'igor_help_files_txt\\\\WM Procedures Index.txt'}\n"
     ]
    }
   ],
   "source": [
    "texts = text_splitter.create_documents(texts=[d.page_content for d in docs], metadatas=[d.metadata for d in docs])\n",
    "print(len(texts))\n",
    "print(texts[0])\n",
    "print(texts[-20])"
   ]
  },
  {
   "cell_type": "markdown",
   "id": "225620fe-c570-4797-b11b-46fd0658305b",
   "metadata": {
    "tags": []
   },
   "source": [
    "# Make embeddings and store in vector DB"
   ]
  },
  {
   "cell_type": "code",
   "execution_count": 60,
   "id": "6daab70d-2fbe-4892-8dbc-5271d2949639",
   "metadata": {
    "tags": []
   },
   "outputs": [],
   "source": [
    "embeddings = OpenAIEmbeddings()"
   ]
  },
  {
   "cell_type": "code",
   "execution_count": 61,
   "id": "138a3180-70b9-40be-8521-635116e2c31e",
   "metadata": {
    "tags": []
   },
   "outputs": [],
   "source": [
    "raise\n",
    "docsearch = FAISS.from_documents(documents=texts, embedding=embeddings)\n",
    "docsearch.save_local('faiss_dbs', 'igor-test')"
   ]
  },
  {
   "cell_type": "code",
   "execution_count": null,
   "id": "0f911742-841a-45c9-8814-0a235953011d",
   "metadata": {},
   "outputs": [],
   "source": [
    "docsearch = FAISS.load_local('faiss_dbs', embedding=embeddings, index_name='igor-test')"
   ]
  },
  {
   "cell_type": "markdown",
   "id": "a038ec14-d5a3-4ee0-9cbf-e49726f243d0",
   "metadata": {},
   "source": [
    "# Test searching vector DB"
   ]
  },
  {
   "cell_type": "code",
   "execution_count": 62,
   "id": "54e7d800-4db3-40cd-b7be-602a295e3f80",
   "metadata": {
    "tags": []
   },
   "outputs": [
    {
     "name": "stdout",
     "output_type": "stream",
     "text": [
      "5\n"
     ]
    }
   ],
   "source": [
    "query = \"how do I make a 2D graph?\"\n",
    "close_docs = docsearch.similarity_search_with_score(query, k=5)\n",
    "print(f'Found {len(close_docs)} docs')\n",
    "for doc, score in close_docs:\n",
    "    print(f'Score: {score}\\nMetadata: {doc.metadata}\\nContent: \\n{doc.page_content}\\n\\n')"
   ]
  },
  {
   "cell_type": "markdown",
   "id": "fb4c97c8-4350-438e-908e-7cf1071d77ed",
   "metadata": {},
   "source": [
    "# Optional - Test with a very basic QA Chain"
   ]
  },
  {
   "cell_type": "code",
   "execution_count": 47,
   "id": "e4364a21-ad4d-404f-80fa-a9cabf41264b",
   "metadata": {
    "tags": []
   },
   "outputs": [],
   "source": [
    "from langchain.chains.question_answering import load_qa_chain\n",
    "from langchain.llms import OpenAI"
   ]
  },
  {
   "cell_type": "code",
   "execution_count": 48,
   "id": "69505caf-5db1-4803-9125-4255995ad736",
   "metadata": {
    "tags": []
   },
   "outputs": [],
   "source": [
    "llm = OpenAI()\n",
    "chain = load_qa_chain(llm, chain_type='stuff')  # Stuff all data in at once (Other methods might work better if more context required)"
   ]
  },
  {
   "cell_type": "code",
   "execution_count": 49,
   "id": "2051bb26-7cc6-42f5-a8d8-33602d298f53",
   "metadata": {
    "tags": []
   },
   "outputs": [
    {
     "data": {
      "text/plain": [
       "\"Use the following pieces of context to answer the question at the end. If you don't know the answer, just say that you don't know, don't try to make up an answer.\\n\\n{context}\\n\\nQuestion: {question}\\nHelpful Answer:\""
      ]
     },
     "execution_count": 49,
     "metadata": {},
     "output_type": "execute_result"
    }
   ],
   "source": [
    "chain.llm_chain.prompt.template"
   ]
  },
  {
   "cell_type": "code",
   "execution_count": 50,
   "id": "9ffe0140-181a-43a9-aaf2-91f376573f3e",
   "metadata": {
    "tags": []
   },
   "outputs": [
    {
     "data": {
      "text/plain": [
       "' You can make a 2D graph by selecting a two-dimensional wave in the Y Waves and X Wave lists in the advanced mode of the New Graph dialog. Then click the Add button to move your selection to the trace specification list below. You can then add more trace specifications using the Add button. When you click Do It, your graph is created with all of the specified traces.'"
      ]
     },
     "execution_count": 50,
     "metadata": {},
     "output_type": "execute_result"
    }
   ],
   "source": [
    "query = \"how do I make a 2D graph?\"\n",
    "qdocs = docsearch.similarity_search(query)\n",
    "response = chain.run(input_documents=qdocs, question=query)\n",
    "response"
   ]
  }
 ],
 "metadata": {
  "kernelspec": {
   "display_name": "Python 3 (ipykernel)",
   "language": "python",
   "name": "python3"
  },
  "language_info": {
   "codemirror_mode": {
    "name": "ipython",
    "version": 3
   },
   "file_extension": ".py",
   "mimetype": "text/x-python",
   "name": "python",
   "nbconvert_exporter": "python",
   "pygments_lexer": "ipython3",
   "version": "3.11.3"
  }
 },
 "nbformat": 4,
 "nbformat_minor": 5
}
