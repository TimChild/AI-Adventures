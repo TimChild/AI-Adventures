{
 "cells": [
  {
   "cell_type": "code",
   "execution_count": 87,
   "id": "d6bdeb67-758e-4ffb-9cbb-a38ca51b778f",
   "metadata": {
    "tags": []
   },
   "outputs": [
    {
     "name": "stdout",
     "output_type": "stream",
     "text": [
      "The autoreload extension is already loaded. To reload it, use:\n",
      "  %reload_ext autoreload\n"
     ]
    }
   ],
   "source": [
    "%load_ext autoreload\n",
    "%autoreload 2"
   ]
  },
  {
   "cell_type": "code",
   "execution_count": 88,
   "id": "146d3461-ae1e-4f7b-9aa0-6a8768c207e2",
   "metadata": {
    "tags": []
   },
   "outputs": [],
   "source": [
    "import os\n",
    "\n",
    "with open('../API_KEY', 'r') as f:\n",
    "    os.environ['OPENAI_API_KEY'] = f.read()"
   ]
  },
  {
   "cell_type": "markdown",
   "id": "9bd6b164-0917-463b-898f-62016b3e0e7d",
   "metadata": {},
   "source": [
    "# Load pre-processed code and create vector dbs\n",
    "\n",
    "## Load pre-processed code"
   ]
  },
  {
   "cell_type": "code",
   "execution_count": 89,
   "id": "73e251af-9eae-4227-a9cf-5da446b9845a",
   "metadata": {
    "tags": []
   },
   "outputs": [
    {
     "name": "stdout",
     "output_type": "stream",
     "text": [
      "Loaded 12 files:\n",
      "   babydac\n",
      "   fastdac\n",
      "   hp34401A\n",
      "   keithley2400\n",
      "   ls370_resistancebridge\n",
      "   ls625_single_supply\n",
      "   ScanController\n",
      "   ScanController_INSTR\n",
      "   ScanController_IO\n",
      "   ScanController_SQL\n",
      "   Scans\n",
      "   srs830\n"
     ]
    }
   ],
   "source": [
    "from igor_funciton_loading import IgorFile\n",
    "from pathlib import Path\n",
    "\n",
    "code_jsons_folder = Path('igor_code_jsons')\n",
    "\n",
    "code_files = {}\n",
    "for fp in code_jsons_folder.glob('*.json'):\n",
    "    code_files[fp.stem] = IgorFile.from_file(fp)\n",
    "print(f'Loaded {len(code_files)} files:')\n",
    "for k in code_files:\n",
    "    print('  ', k)"
   ]
  },
  {
   "cell_type": "code",
   "execution_count": 90,
   "id": "46840081-10ee-475c-871e-39531a1e1099",
   "metadata": {
    "tags": []
   },
   "outputs": [
    {
     "data": {
      "text/markdown": [
       "## Summary\n",
       "\n",
       "- **Name**: openBabyDACconnection\n",
       "- **Declaration**: openBabyDACconnection(instrID,visa_address,[verbose])\n",
       "- **Start_line**: 16\n",
       "- **End_line**: 41\n",
       "- **Filename**: babydac\n",
       "## Docstring\n",
       "\n",
       "```\n",
       "instrID is the name of the global variable that will be used for communication\n",
       "visa_address is the VISA address string, i.e. ASRL1::INSTR\n",
       "```\n",
       "## Code\n",
       "\n",
       "```igor\n",
       "function openBabyDACconnection(instrID, visa_address, [verbose])\n",
       "\t// instrID is the name of the global variable that will be used for communication\n",
       "\t// visa_address is the VISA address string, i.e. ASRL1::INSTR\n",
       "\tstring instrID, visa_address\n",
       "\tvariable verbose\n",
       "\n",
       "\tif(paramisdefault(verbose))\n",
       "\t\tverbose=1\n",
       "\telseif(verbose!=1)\n",
       "\t\tverbose=0\n",
       "\tendif\n",
       "\n",
       "\tvariable localRM\n",
       "\tvariable status = viOpenDefaultRM(localRM) // open local copy of resource manager\n",
       "\tif(status < 0)\n",
       "\t\tVISAerrormsg(\"open BD connection:\", localRM, status)\n",
       "\t\tabort\n",
       "\tendif\n",
       "\n",
       "\tstring comm = \"\"\n",
       "\tsprintf comm, \"name=BabyDAC,instrID=%s,visa_address=%s\" instrID, visa_address\n",
       "\tstring options = \"baudrate=57600,databits=8,stopbits=1,parity=0\"\n",
       "\topenVISAinstr(comm, options=options, localRM=localRM, verbose=verbose)\n",
       "\n",
       "\treturn localRM\n",
       "\n",
       "```\n"
      ],
      "text/plain": [
       "<IPython.core.display.Markdown object>"
      ]
     },
     "metadata": {},
     "output_type": "display_data"
    }
   ],
   "source": [
    "from IPython.display import display, Markdown\n",
    "display(Markdown(code_files['babydac'].functions[0].to_markdown(include_code=True)))"
   ]
  },
  {
   "cell_type": "markdown",
   "id": "10eb5aed-564d-473b-847c-ef7df26e73ee",
   "metadata": {},
   "source": [
    "## Check the length of the functions"
   ]
  },
  {
   "cell_type": "code",
   "execution_count": 91,
   "id": "c8569201-7b1e-4376-8223-b32fc918a4a0",
   "metadata": {
    "tags": []
   },
   "outputs": [
    {
     "name": "stdout",
     "output_type": "stream",
     "text": [
      "Encoder should be: <Encoding 'cl100k_base'>\n"
     ]
    }
   ],
   "source": [
    "import tiktoken\n",
    "tiktoken.encoding_for_model('gpt-3.5-turbo')\n",
    "encoder = tiktoken.get_encoding('cl100k_base')\n",
    "print(f'Encoder should be: {encoder}')\n",
    "\n",
    "def token_len(text: str):\n",
    "    if not isinstance(text, str):\n",
    "        raise ValueError(f'Expected string, got {text}')\n",
    "    encoder = tiktoken.get_encoding('cl100k_base')\n",
    "    return len(encoder.encode(text))"
   ]
  },
  {
   "cell_type": "code",
   "execution_count": 92,
   "id": "c2261cc7-0965-4e08-bbbf-58a658c311fd",
   "metadata": {
    "tags": []
   },
   "outputs": [
    {
     "name": "stdout",
     "output_type": "stream",
     "text": [
      "Total of 462 functions/structures/macros\n"
     ]
    },
    {
     "data": {
      "application/vnd.plotly.v1+json": {
       "config": {
        "plotlyServerURL": "https://plot.ly"
       },
       "data": [
        {
         "alignmentgroup": "True",
         "bingroup": "x",
         "hovertemplate": "variable=0<br>value=%{x}<br>count=%{y}<extra></extra>",
         "legendgroup": "0",
         "marker": {
          "color": "#636efa",
          "pattern": {
           "shape": ""
          }
         },
         "name": "0",
         "offsetgroup": "0",
         "orientation": "v",
         "showlegend": true,
         "type": "histogram",
         "x": [
          217,
          532,
          1178,
          567,
          271,
          329,
          229,
          311,
          299,
          228,
          108,
          25,
          119,
          131,
          144,
          109,
          824,
          93,
          741,
          444,
          434,
          321,
          258,
          329,
          234,
          381,
          454,
          98,
          87,
          109,
          558,
          85,
          310,
          191,
          26,
          477,
          72,
          536,
          238,
          295,
          308,
          411,
          119,
          372,
          176,
          196,
          245,
          157,
          380,
          545,
          652,
          464,
          1171,
          58,
          44,
          85,
          58,
          72,
          99,
          100,
          787,
          1220,
          1003,
          264,
          312,
          139,
          189,
          189,
          153,
          127,
          124,
          110,
          32,
          250,
          1628,
          440,
          202,
          414,
          480,
          123,
          85,
          563,
          1105,
          108,
          361,
          948,
          140,
          273,
          652,
          349,
          45,
          139,
          126,
          234,
          362,
          608,
          250,
          245,
          245,
          35,
          122,
          97,
          114,
          32,
          41,
          66,
          294,
          247,
          104,
          105,
          100,
          71,
          251,
          225,
          211,
          196,
          177,
          96,
          136,
          75,
          300,
          448,
          160,
          227,
          233,
          282,
          113,
          89,
          415,
          104,
          144,
          88,
          134,
          195,
          429,
          269,
          414,
          189,
          117,
          319,
          120,
          266,
          66,
          267,
          176,
          38,
          314,
          156,
          172,
          166,
          227,
          289,
          538,
          1069,
          238,
          397,
          325,
          4706,
          78,
          894,
          83,
          53,
          68,
          135,
          77,
          180,
          135,
          165,
          442,
          104,
          332,
          41,
          51,
          63,
          65,
          67,
          97,
          342,
          519,
          317,
          320,
          110,
          75,
          370,
          476,
          1440,
          1090,
          807,
          549,
          102,
          139,
          980,
          358,
          202,
          208,
          429,
          269,
          501,
          395,
          142,
          194,
          313,
          540,
          115,
          154,
          94,
          123,
          154,
          157,
          237,
          80,
          98,
          119,
          161,
          161,
          235,
          110,
          56,
          49,
          359,
          353,
          435,
          35,
          84,
          222,
          969,
          611,
          362,
          977,
          1006,
          55,
          22,
          23,
          103,
          31,
          256,
          421,
          520,
          1031,
          72,
          415,
          1403,
          135,
          102,
          88,
          183,
          176,
          416,
          351,
          697,
          373,
          393,
          337,
          849,
          222,
          1096,
          601,
          251,
          181,
          176,
          46,
          163,
          262,
          79,
          354,
          482,
          103,
          480,
          230,
          244,
          447,
          136,
          230,
          454,
          583,
          500,
          811,
          114,
          176,
          133,
          80,
          188,
          365,
          516,
          53,
          67,
          156,
          500,
          232,
          164,
          94,
          472,
          686,
          72,
          426,
          765,
          340,
          775,
          169,
          2528,
          237,
          1621,
          18,
          37,
          92,
          111,
          522,
          122,
          64,
          267,
          141,
          382,
          117,
          95,
          178,
          179,
          144,
          45,
          113,
          31,
          315,
          48,
          262,
          241,
          293,
          74,
          74,
          45,
          53,
          77,
          139,
          82,
          42,
          111,
          219,
          223,
          119,
          122,
          679,
          594,
          430,
          85,
          145,
          436,
          127,
          898,
          577,
          152,
          44,
          1028,
          301,
          779,
          165,
          143,
          303,
          81,
          1014,
          151,
          127,
          240,
          148,
          125,
          278,
          241,
          149,
          303,
          409,
          329,
          456,
          450,
          28,
          34,
          34,
          70,
          39,
          38,
          195,
          195,
          227,
          347,
          67,
          329,
          19,
          79,
          89,
          35,
          165,
          167,
          168,
          222,
          116,
          89,
          244,
          228,
          100,
          489,
          931,
          1642,
          96,
          173,
          118,
          663,
          252,
          26,
          138,
          203,
          352,
          480,
          31,
          215,
          486,
          575,
          624,
          643,
          227,
          915,
          1031,
          775,
          1780,
          157,
          608,
          473,
          704,
          782,
          917,
          824,
          579,
          745,
          481,
          739,
          797,
          780,
          710,
          354,
          499,
          294,
          25,
          551,
          243,
          45,
          45,
          45,
          43,
          43,
          83,
          42,
          47,
          42,
          144,
          278,
          85,
          80,
          263,
          71,
          29,
          262,
          107,
          68,
          206,
          73,
          73,
          272
         ],
         "xaxis": "x",
         "yaxis": "y"
        }
       ],
       "layout": {
        "autosize": true,
        "barmode": "relative",
        "legend": {
         "title": {
          "text": "variable"
         },
         "tracegroupgap": 0
        },
        "margin": {
         "t": 60
        },
        "template": {
         "data": {
          "bar": [
           {
            "error_x": {
             "color": "#f2f5fa"
            },
            "error_y": {
             "color": "#f2f5fa"
            },
            "marker": {
             "line": {
              "color": "rgb(17,17,17)",
              "width": 0.5
             },
             "pattern": {
              "fillmode": "overlay",
              "size": 10,
              "solidity": 0.2
             }
            },
            "type": "bar"
           }
          ],
          "barpolar": [
           {
            "marker": {
             "line": {
              "color": "rgb(17,17,17)",
              "width": 0.5
             },
             "pattern": {
              "fillmode": "overlay",
              "size": 10,
              "solidity": 0.2
             }
            },
            "type": "barpolar"
           }
          ],
          "carpet": [
           {
            "aaxis": {
             "endlinecolor": "#A2B1C6",
             "gridcolor": "#506784",
             "linecolor": "#506784",
             "minorgridcolor": "#506784",
             "startlinecolor": "#A2B1C6"
            },
            "baxis": {
             "endlinecolor": "#A2B1C6",
             "gridcolor": "#506784",
             "linecolor": "#506784",
             "minorgridcolor": "#506784",
             "startlinecolor": "#A2B1C6"
            },
            "type": "carpet"
           }
          ],
          "choropleth": [
           {
            "colorbar": {
             "outlinewidth": 0,
             "ticks": ""
            },
            "type": "choropleth"
           }
          ],
          "contour": [
           {
            "colorbar": {
             "outlinewidth": 0,
             "ticks": ""
            },
            "colorscale": [
             [
              0,
              "#0d0887"
             ],
             [
              0.1111111111111111,
              "#46039f"
             ],
             [
              0.2222222222222222,
              "#7201a8"
             ],
             [
              0.3333333333333333,
              "#9c179e"
             ],
             [
              0.4444444444444444,
              "#bd3786"
             ],
             [
              0.5555555555555556,
              "#d8576b"
             ],
             [
              0.6666666666666666,
              "#ed7953"
             ],
             [
              0.7777777777777778,
              "#fb9f3a"
             ],
             [
              0.8888888888888888,
              "#fdca26"
             ],
             [
              1,
              "#f0f921"
             ]
            ],
            "type": "contour"
           }
          ],
          "contourcarpet": [
           {
            "colorbar": {
             "outlinewidth": 0,
             "ticks": ""
            },
            "type": "contourcarpet"
           }
          ],
          "heatmap": [
           {
            "colorbar": {
             "outlinewidth": 0,
             "ticks": ""
            },
            "colorscale": [
             [
              0,
              "#0d0887"
             ],
             [
              0.1111111111111111,
              "#46039f"
             ],
             [
              0.2222222222222222,
              "#7201a8"
             ],
             [
              0.3333333333333333,
              "#9c179e"
             ],
             [
              0.4444444444444444,
              "#bd3786"
             ],
             [
              0.5555555555555556,
              "#d8576b"
             ],
             [
              0.6666666666666666,
              "#ed7953"
             ],
             [
              0.7777777777777778,
              "#fb9f3a"
             ],
             [
              0.8888888888888888,
              "#fdca26"
             ],
             [
              1,
              "#f0f921"
             ]
            ],
            "type": "heatmap"
           }
          ],
          "heatmapgl": [
           {
            "colorbar": {
             "outlinewidth": 0,
             "ticks": ""
            },
            "colorscale": [
             [
              0,
              "#0d0887"
             ],
             [
              0.1111111111111111,
              "#46039f"
             ],
             [
              0.2222222222222222,
              "#7201a8"
             ],
             [
              0.3333333333333333,
              "#9c179e"
             ],
             [
              0.4444444444444444,
              "#bd3786"
             ],
             [
              0.5555555555555556,
              "#d8576b"
             ],
             [
              0.6666666666666666,
              "#ed7953"
             ],
             [
              0.7777777777777778,
              "#fb9f3a"
             ],
             [
              0.8888888888888888,
              "#fdca26"
             ],
             [
              1,
              "#f0f921"
             ]
            ],
            "type": "heatmapgl"
           }
          ],
          "histogram": [
           {
            "marker": {
             "pattern": {
              "fillmode": "overlay",
              "size": 10,
              "solidity": 0.2
             }
            },
            "type": "histogram"
           }
          ],
          "histogram2d": [
           {
            "colorbar": {
             "outlinewidth": 0,
             "ticks": ""
            },
            "colorscale": [
             [
              0,
              "#0d0887"
             ],
             [
              0.1111111111111111,
              "#46039f"
             ],
             [
              0.2222222222222222,
              "#7201a8"
             ],
             [
              0.3333333333333333,
              "#9c179e"
             ],
             [
              0.4444444444444444,
              "#bd3786"
             ],
             [
              0.5555555555555556,
              "#d8576b"
             ],
             [
              0.6666666666666666,
              "#ed7953"
             ],
             [
              0.7777777777777778,
              "#fb9f3a"
             ],
             [
              0.8888888888888888,
              "#fdca26"
             ],
             [
              1,
              "#f0f921"
             ]
            ],
            "type": "histogram2d"
           }
          ],
          "histogram2dcontour": [
           {
            "colorbar": {
             "outlinewidth": 0,
             "ticks": ""
            },
            "colorscale": [
             [
              0,
              "#0d0887"
             ],
             [
              0.1111111111111111,
              "#46039f"
             ],
             [
              0.2222222222222222,
              "#7201a8"
             ],
             [
              0.3333333333333333,
              "#9c179e"
             ],
             [
              0.4444444444444444,
              "#bd3786"
             ],
             [
              0.5555555555555556,
              "#d8576b"
             ],
             [
              0.6666666666666666,
              "#ed7953"
             ],
             [
              0.7777777777777778,
              "#fb9f3a"
             ],
             [
              0.8888888888888888,
              "#fdca26"
             ],
             [
              1,
              "#f0f921"
             ]
            ],
            "type": "histogram2dcontour"
           }
          ],
          "mesh3d": [
           {
            "colorbar": {
             "outlinewidth": 0,
             "ticks": ""
            },
            "type": "mesh3d"
           }
          ],
          "parcoords": [
           {
            "line": {
             "colorbar": {
              "outlinewidth": 0,
              "ticks": ""
             }
            },
            "type": "parcoords"
           }
          ],
          "pie": [
           {
            "automargin": true,
            "type": "pie"
           }
          ],
          "scatter": [
           {
            "marker": {
             "line": {
              "color": "#283442"
             }
            },
            "type": "scatter"
           }
          ],
          "scatter3d": [
           {
            "line": {
             "colorbar": {
              "outlinewidth": 0,
              "ticks": ""
             }
            },
            "marker": {
             "colorbar": {
              "outlinewidth": 0,
              "ticks": ""
             }
            },
            "type": "scatter3d"
           }
          ],
          "scattercarpet": [
           {
            "marker": {
             "colorbar": {
              "outlinewidth": 0,
              "ticks": ""
             }
            },
            "type": "scattercarpet"
           }
          ],
          "scattergeo": [
           {
            "marker": {
             "colorbar": {
              "outlinewidth": 0,
              "ticks": ""
             }
            },
            "type": "scattergeo"
           }
          ],
          "scattergl": [
           {
            "marker": {
             "line": {
              "color": "#283442"
             }
            },
            "type": "scattergl"
           }
          ],
          "scattermapbox": [
           {
            "marker": {
             "colorbar": {
              "outlinewidth": 0,
              "ticks": ""
             }
            },
            "type": "scattermapbox"
           }
          ],
          "scatterpolar": [
           {
            "marker": {
             "colorbar": {
              "outlinewidth": 0,
              "ticks": ""
             }
            },
            "type": "scatterpolar"
           }
          ],
          "scatterpolargl": [
           {
            "marker": {
             "colorbar": {
              "outlinewidth": 0,
              "ticks": ""
             }
            },
            "type": "scatterpolargl"
           }
          ],
          "scatterternary": [
           {
            "marker": {
             "colorbar": {
              "outlinewidth": 0,
              "ticks": ""
             }
            },
            "type": "scatterternary"
           }
          ],
          "surface": [
           {
            "colorbar": {
             "outlinewidth": 0,
             "ticks": ""
            },
            "colorscale": [
             [
              0,
              "#0d0887"
             ],
             [
              0.1111111111111111,
              "#46039f"
             ],
             [
              0.2222222222222222,
              "#7201a8"
             ],
             [
              0.3333333333333333,
              "#9c179e"
             ],
             [
              0.4444444444444444,
              "#bd3786"
             ],
             [
              0.5555555555555556,
              "#d8576b"
             ],
             [
              0.6666666666666666,
              "#ed7953"
             ],
             [
              0.7777777777777778,
              "#fb9f3a"
             ],
             [
              0.8888888888888888,
              "#fdca26"
             ],
             [
              1,
              "#f0f921"
             ]
            ],
            "type": "surface"
           }
          ],
          "table": [
           {
            "cells": {
             "fill": {
              "color": "#506784"
             },
             "line": {
              "color": "rgb(17,17,17)"
             }
            },
            "header": {
             "fill": {
              "color": "#2a3f5f"
             },
             "line": {
              "color": "rgb(17,17,17)"
             }
            },
            "type": "table"
           }
          ]
         },
         "layout": {
          "annotationdefaults": {
           "arrowcolor": "#f2f5fa",
           "arrowhead": 0,
           "arrowwidth": 1
          },
          "autotypenumbers": "strict",
          "coloraxis": {
           "colorbar": {
            "outlinewidth": 0,
            "ticks": ""
           }
          },
          "colorscale": {
           "diverging": [
            [
             0,
             "#8e0152"
            ],
            [
             0.1,
             "#c51b7d"
            ],
            [
             0.2,
             "#de77ae"
            ],
            [
             0.3,
             "#f1b6da"
            ],
            [
             0.4,
             "#fde0ef"
            ],
            [
             0.5,
             "#f7f7f7"
            ],
            [
             0.6,
             "#e6f5d0"
            ],
            [
             0.7,
             "#b8e186"
            ],
            [
             0.8,
             "#7fbc41"
            ],
            [
             0.9,
             "#4d9221"
            ],
            [
             1,
             "#276419"
            ]
           ],
           "sequential": [
            [
             0,
             "#0d0887"
            ],
            [
             0.1111111111111111,
             "#46039f"
            ],
            [
             0.2222222222222222,
             "#7201a8"
            ],
            [
             0.3333333333333333,
             "#9c179e"
            ],
            [
             0.4444444444444444,
             "#bd3786"
            ],
            [
             0.5555555555555556,
             "#d8576b"
            ],
            [
             0.6666666666666666,
             "#ed7953"
            ],
            [
             0.7777777777777778,
             "#fb9f3a"
            ],
            [
             0.8888888888888888,
             "#fdca26"
            ],
            [
             1,
             "#f0f921"
            ]
           ],
           "sequentialminus": [
            [
             0,
             "#0d0887"
            ],
            [
             0.1111111111111111,
             "#46039f"
            ],
            [
             0.2222222222222222,
             "#7201a8"
            ],
            [
             0.3333333333333333,
             "#9c179e"
            ],
            [
             0.4444444444444444,
             "#bd3786"
            ],
            [
             0.5555555555555556,
             "#d8576b"
            ],
            [
             0.6666666666666666,
             "#ed7953"
            ],
            [
             0.7777777777777778,
             "#fb9f3a"
            ],
            [
             0.8888888888888888,
             "#fdca26"
            ],
            [
             1,
             "#f0f921"
            ]
           ]
          },
          "colorway": [
           "#636efa",
           "#EF553B",
           "#00cc96",
           "#ab63fa",
           "#FFA15A",
           "#19d3f3",
           "#FF6692",
           "#B6E880",
           "#FF97FF",
           "#FECB52"
          ],
          "font": {
           "color": "#f2f5fa"
          },
          "geo": {
           "bgcolor": "rgb(17,17,17)",
           "lakecolor": "rgb(17,17,17)",
           "landcolor": "rgb(17,17,17)",
           "showlakes": true,
           "showland": true,
           "subunitcolor": "#506784"
          },
          "hoverlabel": {
           "align": "left"
          },
          "hovermode": "closest",
          "mapbox": {
           "style": "dark"
          },
          "paper_bgcolor": "rgb(17,17,17)",
          "plot_bgcolor": "rgb(17,17,17)",
          "polar": {
           "angularaxis": {
            "gridcolor": "#506784",
            "linecolor": "#506784",
            "ticks": ""
           },
           "bgcolor": "rgb(17,17,17)",
           "radialaxis": {
            "gridcolor": "#506784",
            "linecolor": "#506784",
            "ticks": ""
           }
          },
          "scene": {
           "xaxis": {
            "backgroundcolor": "rgb(17,17,17)",
            "gridcolor": "#506784",
            "gridwidth": 2,
            "linecolor": "#506784",
            "showbackground": true,
            "ticks": "",
            "zerolinecolor": "#C8D4E3"
           },
           "yaxis": {
            "backgroundcolor": "rgb(17,17,17)",
            "gridcolor": "#506784",
            "gridwidth": 2,
            "linecolor": "#506784",
            "showbackground": true,
            "ticks": "",
            "zerolinecolor": "#C8D4E3"
           },
           "zaxis": {
            "backgroundcolor": "rgb(17,17,17)",
            "gridcolor": "#506784",
            "gridwidth": 2,
            "linecolor": "#506784",
            "showbackground": true,
            "ticks": "",
            "zerolinecolor": "#C8D4E3"
           }
          },
          "shapedefaults": {
           "line": {
            "color": "#f2f5fa"
           }
          },
          "sliderdefaults": {
           "bgcolor": "#C8D4E3",
           "bordercolor": "rgb(17,17,17)",
           "borderwidth": 1,
           "tickwidth": 0
          },
          "ternary": {
           "aaxis": {
            "gridcolor": "#506784",
            "linecolor": "#506784",
            "ticks": ""
           },
           "baxis": {
            "gridcolor": "#506784",
            "linecolor": "#506784",
            "ticks": ""
           },
           "bgcolor": "rgb(17,17,17)",
           "caxis": {
            "gridcolor": "#506784",
            "linecolor": "#506784",
            "ticks": ""
           }
          },
          "title": {
           "x": 0.05
          },
          "updatemenudefaults": {
           "bgcolor": "#506784",
           "borderwidth": 0
          },
          "xaxis": {
           "automargin": true,
           "gridcolor": "#283442",
           "linecolor": "#506784",
           "ticks": "",
           "title": {
            "standoff": 15
           },
           "zerolinecolor": "#283442",
           "zerolinewidth": 2
          },
          "yaxis": {
           "automargin": true,
           "gridcolor": "#283442",
           "linecolor": "#506784",
           "ticks": "",
           "title": {
            "standoff": 15
           },
           "zerolinecolor": "#283442",
           "zerolinewidth": 2
          }
         }
        },
        "xaxis": {
         "anchor": "y",
         "autorange": true,
         "domain": [
          0,
          1
         ],
         "range": [
          -0.5,
          4799.5
         ],
         "title": {
          "text": "value"
         },
         "type": "linear"
        },
        "yaxis": {
         "anchor": "x",
         "autorange": true,
         "domain": [
          0,
          1
         ],
         "range": [
          0,
          122.10526315789474
         ],
         "title": {
          "text": "count"
         }
        }
       }
      },
      "image/png": "[encoded data removed]",
      "text/html": [
       "<div>                            <div id=\"379f645b-da47-4858-98a7-d952d05d48a5\" class=\"plotly-graph-div\" style=\"height:525px; width:100%;\"></div>            <script type=\"text/javascript\">                require([\"plotly\"], function(Plotly) {                    window.PLOTLYENV=window.PLOTLYENV || {};                                    if (document.getElementById(\"379f645b-da47-4858-98a7-d952d05d48a5\")) {                    Plotly.newPlot(                        \"379f645b-da47-4858-98a7-d952d05d48a5\",                        [{\"alignmentgroup\":\"True\",\"bingroup\":\"x\",\"hovertemplate\":\"variable=0\\u003cbr\\u003evalue=%{x}\\u003cbr\\u003ecount=%{y}\\u003cextra\\u003e\\u003c\\u002fextra\\u003e\",\"legendgroup\":\"0\",\"marker\":{\"color\":\"#636efa\",\"pattern\":{\"shape\":\"\"}},\"name\":\"0\",\"offsetgroup\":\"0\",\"orientation\":\"v\",\"showlegend\":true,\"x\":[217,532,1178,567,271,329,229,311,299,228,108,25,119,131,144,109,824,93,741,444,434,321,258,329,234,381,454,98,87,109,558,85,310,191,26,477,72,536,238,295,308,411,119,372,176,196,245,157,380,545,652,464,1171,58,44,85,58,72,99,100,787,1220,1003,264,312,139,189,189,153,127,124,110,32,250,1628,440,202,414,480,123,85,563,1105,108,361,948,140,273,652,349,45,139,126,234,362,608,250,245,245,35,122,97,114,32,41,66,294,247,104,105,100,71,251,225,211,196,177,96,136,75,300,448,160,227,233,282,113,89,415,104,144,88,134,195,429,269,414,189,117,319,120,266,66,267,176,38,314,156,172,166,227,289,538,1069,238,397,325,4706,78,894,83,53,68,135,77,180,135,165,442,104,332,41,51,63,65,67,97,342,519,317,320,110,75,370,476,1440,1090,807,549,102,139,980,358,202,208,429,269,501,395,142,194,313,540,115,154,94,123,154,157,237,80,98,119,161,161,235,110,56,49,359,353,435,35,84,222,969,611,362,977,1006,55,22,23,103,31,256,421,520,1031,72,415,1403,135,102,88,183,176,416,351,697,373,393,337,849,222,1096,601,251,181,176,46,163,262,79,354,482,103,480,230,244,447,136,230,454,583,500,811,114,176,133,80,188,365,516,53,67,156,500,232,164,94,472,686,72,426,765,340,775,169,2528,237,1621,18,37,92,111,522,122,64,267,141,382,117,95,178,179,144,45,113,31,315,48,262,241,293,74,74,45,53,77,139,82,42,111,219,223,119,122,679,594,430,85,145,436,127,898,577,152,44,1028,301,779,165,143,303,81,1014,151,127,240,148,125,278,241,149,303,409,329,456,450,28,34,34,70,39,38,195,195,227,347,67,329,19,79,89,35,165,167,168,222,116,89,244,228,100,489,931,1642,96,173,118,663,252,26,138,203,352,480,31,215,486,575,624,643,227,915,1031,775,1780,157,608,473,704,782,917,824,579,745,481,739,797,780,710,354,499,294,25,551,243,45,45,45,43,43,83,42,47,42,144,278,85,80,263,71,29,262,107,68,206,73,73,272],\"xaxis\":\"x\",\"yaxis\":\"y\",\"type\":\"histogram\"}],                        {\"template\":{\"data\":{\"barpolar\":[{\"marker\":{\"line\":{\"color\":\"rgb(17,17,17)\",\"width\":0.5},\"pattern\":{\"fillmode\":\"overlay\",\"size\":10,\"solidity\":0.2}},\"type\":\"barpolar\"}],\"bar\":[{\"error_x\":{\"color\":\"#f2f5fa\"},\"error_y\":{\"color\":\"#f2f5fa\"},\"marker\":{\"line\":{\"color\":\"rgb(17,17,17)\",\"width\":0.5},\"pattern\":{\"fillmode\":\"overlay\",\"size\":10,\"solidity\":0.2}},\"type\":\"bar\"}],\"carpet\":[{\"aaxis\":{\"endlinecolor\":\"#A2B1C6\",\"gridcolor\":\"#506784\",\"linecolor\":\"#506784\",\"minorgridcolor\":\"#506784\",\"startlinecolor\":\"#A2B1C6\"},\"baxis\":{\"endlinecolor\":\"#A2B1C6\",\"gridcolor\":\"#506784\",\"linecolor\":\"#506784\",\"minorgridcolor\":\"#506784\",\"startlinecolor\":\"#A2B1C6\"},\"type\":\"carpet\"}],\"choropleth\":[{\"colorbar\":{\"outlinewidth\":0,\"ticks\":\"\"},\"type\":\"choropleth\"}],\"contourcarpet\":[{\"colorbar\":{\"outlinewidth\":0,\"ticks\":\"\"},\"type\":\"contourcarpet\"}],\"contour\":[{\"colorbar\":{\"outlinewidth\":0,\"ticks\":\"\"},\"colorscale\":[[0.0,\"#0d0887\"],[0.1111111111111111,\"#46039f\"],[0.2222222222222222,\"#7201a8\"],[0.3333333333333333,\"#9c179e\"],[0.4444444444444444,\"#bd3786\"],[0.5555555555555556,\"#d8576b\"],[0.6666666666666666,\"#ed7953\"],[0.7777777777777778,\"#fb9f3a\"],[0.8888888888888888,\"#fdca26\"],[1.0,\"#f0f921\"]],\"type\":\"contour\"}],\"heatmapgl\":[{\"colorbar\":{\"outlinewidth\":0,\"ticks\":\"\"},\"colorscale\":[[0.0,\"#0d0887\"],[0.1111111111111111,\"#46039f\"],[0.2222222222222222,\"#7201a8\"],[0.3333333333333333,\"#9c179e\"],[0.4444444444444444,\"#bd3786\"],[0.5555555555555556,\"#d8576b\"],[0.6666666666666666,\"#ed7953\"],[0.7777777777777778,\"#fb9f3a\"],[0.8888888888888888,\"#fdca26\"],[1.0,\"#f0f921\"]],\"type\":\"heatmapgl\"}],\"heatmap\":[{\"colorbar\":{\"outlinewidth\":0,\"ticks\":\"\"},\"colorscale\":[[0.0,\"#0d0887\"],[0.1111111111111111,\"#46039f\"],[0.2222222222222222,\"#7201a8\"],[0.3333333333333333,\"#9c179e\"],[0.4444444444444444,\"#bd3786\"],[0.5555555555555556,\"#d8576b\"],[0.6666666666666666,\"#ed7953\"],[0.7777777777777778,\"#fb9f3a\"],[0.8888888888888888,\"#fdca26\"],[1.0,\"#f0f921\"]],\"type\":\"heatmap\"}],\"histogram2dcontour\":[{\"colorbar\":{\"outlinewidth\":0,\"ticks\":\"\"},\"colorscale\":[[0.0,\"#0d0887\"],[0.1111111111111111,\"#46039f\"],[0.2222222222222222,\"#7201a8\"],[0.3333333333333333,\"#9c179e\"],[0.4444444444444444,\"#bd3786\"],[0.5555555555555556,\"#d8576b\"],[0.6666666666666666,\"#ed7953\"],[0.7777777777777778,\"#fb9f3a\"],[0.8888888888888888,\"#fdca26\"],[1.0,\"#f0f921\"]],\"type\":\"histogram2dcontour\"}],\"histogram2d\":[{\"colorbar\":{\"outlinewidth\":0,\"ticks\":\"\"},\"colorscale\":[[0.0,\"#0d0887\"],[0.1111111111111111,\"#46039f\"],[0.2222222222222222,\"#7201a8\"],[0.3333333333333333,\"#9c179e\"],[0.4444444444444444,\"#bd3786\"],[0.5555555555555556,\"#d8576b\"],[0.6666666666666666,\"#ed7953\"],[0.7777777777777778,\"#fb9f3a\"],[0.8888888888888888,\"#fdca26\"],[1.0,\"#f0f921\"]],\"type\":\"histogram2d\"}],\"histogram\":[{\"marker\":{\"pattern\":{\"fillmode\":\"overlay\",\"size\":10,\"solidity\":0.2}},\"type\":\"histogram\"}],\"mesh3d\":[{\"colorbar\":{\"outlinewidth\":0,\"ticks\":\"\"},\"type\":\"mesh3d\"}],\"parcoords\":[{\"line\":{\"colorbar\":{\"outlinewidth\":0,\"ticks\":\"\"}},\"type\":\"parcoords\"}],\"pie\":[{\"automargin\":true,\"type\":\"pie\"}],\"scatter3d\":[{\"line\":{\"colorbar\":{\"outlinewidth\":0,\"ticks\":\"\"}},\"marker\":{\"colorbar\":{\"outlinewidth\":0,\"ticks\":\"\"}},\"type\":\"scatter3d\"}],\"scattercarpet\":[{\"marker\":{\"colorbar\":{\"outlinewidth\":0,\"ticks\":\"\"}},\"type\":\"scattercarpet\"}],\"scattergeo\":[{\"marker\":{\"colorbar\":{\"outlinewidth\":0,\"ticks\":\"\"}},\"type\":\"scattergeo\"}],\"scattergl\":[{\"marker\":{\"line\":{\"color\":\"#283442\"}},\"type\":\"scattergl\"}],\"scattermapbox\":[{\"marker\":{\"colorbar\":{\"outlinewidth\":0,\"ticks\":\"\"}},\"type\":\"scattermapbox\"}],\"scatterpolargl\":[{\"marker\":{\"colorbar\":{\"outlinewidth\":0,\"ticks\":\"\"}},\"type\":\"scatterpolargl\"}],\"scatterpolar\":[{\"marker\":{\"colorbar\":{\"outlinewidth\":0,\"ticks\":\"\"}},\"type\":\"scatterpolar\"}],\"scatter\":[{\"marker\":{\"line\":{\"color\":\"#283442\"}},\"type\":\"scatter\"}],\"scatterternary\":[{\"marker\":{\"colorbar\":{\"outlinewidth\":0,\"ticks\":\"\"}},\"type\":\"scatterternary\"}],\"surface\":[{\"colorbar\":{\"outlinewidth\":0,\"ticks\":\"\"},\"colorscale\":[[0.0,\"#0d0887\"],[0.1111111111111111,\"#46039f\"],[0.2222222222222222,\"#7201a8\"],[0.3333333333333333,\"#9c179e\"],[0.4444444444444444,\"#bd3786\"],[0.5555555555555556,\"#d8576b\"],[0.6666666666666666,\"#ed7953\"],[0.7777777777777778,\"#fb9f3a\"],[0.8888888888888888,\"#fdca26\"],[1.0,\"#f0f921\"]],\"type\":\"surface\"}],\"table\":[{\"cells\":{\"fill\":{\"color\":\"#506784\"},\"line\":{\"color\":\"rgb(17,17,17)\"}},\"header\":{\"fill\":{\"color\":\"#2a3f5f\"},\"line\":{\"color\":\"rgb(17,17,17)\"}},\"type\":\"table\"}]},\"layout\":{\"annotationdefaults\":{\"arrowcolor\":\"#f2f5fa\",\"arrowhead\":0,\"arrowwidth\":1},\"autotypenumbers\":\"strict\",\"coloraxis\":{\"colorbar\":{\"outlinewidth\":0,\"ticks\":\"\"}},\"colorscale\":{\"diverging\":[[0,\"#8e0152\"],[0.1,\"#c51b7d\"],[0.2,\"#de77ae\"],[0.3,\"#f1b6da\"],[0.4,\"#fde0ef\"],[0.5,\"#f7f7f7\"],[0.6,\"#e6f5d0\"],[0.7,\"#b8e186\"],[0.8,\"#7fbc41\"],[0.9,\"#4d9221\"],[1,\"#276419\"]],\"sequential\":[[0.0,\"#0d0887\"],[0.1111111111111111,\"#46039f\"],[0.2222222222222222,\"#7201a8\"],[0.3333333333333333,\"#9c179e\"],[0.4444444444444444,\"#bd3786\"],[0.5555555555555556,\"#d8576b\"],[0.6666666666666666,\"#ed7953\"],[0.7777777777777778,\"#fb9f3a\"],[0.8888888888888888,\"#fdca26\"],[1.0,\"#f0f921\"]],\"sequentialminus\":[[0.0,\"#0d0887\"],[0.1111111111111111,\"#46039f\"],[0.2222222222222222,\"#7201a8\"],[0.3333333333333333,\"#9c179e\"],[0.4444444444444444,\"#bd3786\"],[0.5555555555555556,\"#d8576b\"],[0.6666666666666666,\"#ed7953\"],[0.7777777777777778,\"#fb9f3a\"],[0.8888888888888888,\"#fdca26\"],[1.0,\"#f0f921\"]]},\"colorway\":[\"#636efa\",\"#EF553B\",\"#00cc96\",\"#ab63fa\",\"#FFA15A\",\"#19d3f3\",\"#FF6692\",\"#B6E880\",\"#FF97FF\",\"#FECB52\"],\"font\":{\"color\":\"#f2f5fa\"},\"geo\":{\"bgcolor\":\"rgb(17,17,17)\",\"lakecolor\":\"rgb(17,17,17)\",\"landcolor\":\"rgb(17,17,17)\",\"showlakes\":true,\"showland\":true,\"subunitcolor\":\"#506784\"},\"hoverlabel\":{\"align\":\"left\"},\"hovermode\":\"closest\",\"mapbox\":{\"style\":\"dark\"},\"paper_bgcolor\":\"rgb(17,17,17)\",\"plot_bgcolor\":\"rgb(17,17,17)\",\"polar\":{\"angularaxis\":{\"gridcolor\":\"#506784\",\"linecolor\":\"#506784\",\"ticks\":\"\"},\"bgcolor\":\"rgb(17,17,17)\",\"radialaxis\":{\"gridcolor\":\"#506784\",\"linecolor\":\"#506784\",\"ticks\":\"\"}},\"scene\":{\"xaxis\":{\"backgroundcolor\":\"rgb(17,17,17)\",\"gridcolor\":\"#506784\",\"gridwidth\":2,\"linecolor\":\"#506784\",\"showbackground\":true,\"ticks\":\"\",\"zerolinecolor\":\"#C8D4E3\"},\"yaxis\":{\"backgroundcolor\":\"rgb(17,17,17)\",\"gridcolor\":\"#506784\",\"gridwidth\":2,\"linecolor\":\"#506784\",\"showbackground\":true,\"ticks\":\"\",\"zerolinecolor\":\"#C8D4E3\"},\"zaxis\":{\"backgroundcolor\":\"rgb(17,17,17)\",\"gridcolor\":\"#506784\",\"gridwidth\":2,\"linecolor\":\"#506784\",\"showbackground\":true,\"ticks\":\"\",\"zerolinecolor\":\"#C8D4E3\"}},\"shapedefaults\":{\"line\":{\"color\":\"#f2f5fa\"}},\"sliderdefaults\":{\"bgcolor\":\"#C8D4E3\",\"bordercolor\":\"rgb(17,17,17)\",\"borderwidth\":1,\"tickwidth\":0},\"ternary\":{\"aaxis\":{\"gridcolor\":\"#506784\",\"linecolor\":\"#506784\",\"ticks\":\"\"},\"baxis\":{\"gridcolor\":\"#506784\",\"linecolor\":\"#506784\",\"ticks\":\"\"},\"bgcolor\":\"rgb(17,17,17)\",\"caxis\":{\"gridcolor\":\"#506784\",\"linecolor\":\"#506784\",\"ticks\":\"\"}},\"title\":{\"x\":0.05},\"updatemenudefaults\":{\"bgcolor\":\"#506784\",\"borderwidth\":0},\"xaxis\":{\"automargin\":true,\"gridcolor\":\"#283442\",\"linecolor\":\"#506784\",\"ticks\":\"\",\"title\":{\"standoff\":15},\"zerolinecolor\":\"#283442\",\"zerolinewidth\":2},\"yaxis\":{\"automargin\":true,\"gridcolor\":\"#283442\",\"linecolor\":\"#506784\",\"ticks\":\"\",\"title\":{\"standoff\":15},\"zerolinecolor\":\"#283442\",\"zerolinewidth\":2}}},\"xaxis\":{\"anchor\":\"y\",\"domain\":[0.0,1.0],\"title\":{\"text\":\"value\"}},\"yaxis\":{\"anchor\":\"x\",\"domain\":[0.0,1.0],\"title\":{\"text\":\"count\"}},\"legend\":{\"title\":{\"text\":\"variable\"},\"tracegroupgap\":0},\"margin\":{\"t\":60},\"barmode\":\"relative\"},                        {\"responsive\": true}                    ).then(function(){\n",
       "                            \n",
       "var gd = document.getElementById('379f645b-da47-4858-98a7-d952d05d48a5');\n",
       "var x = new MutationObserver(function (mutations, observer) {{\n",
       "        var display = window.getComputedStyle(gd).display;\n",
       "        if (!display || display === 'none') {{\n",
       "            console.log([gd, 'removed!']);\n",
       "            Plotly.purge(gd);\n",
       "            observer.disconnect();\n",
       "        }}\n",
       "}});\n",
       "\n",
       "// Listen for the removal of the full notebook cells\n",
       "var notebookContainer = gd.closest('#notebook-container');\n",
       "if (notebookContainer) {{\n",
       "    x.observe(notebookContainer, {childList: true});\n",
       "}}\n",
       "\n",
       "// Listen for the clearing of the current output cell\n",
       "var outputEl = gd.closest('.output');\n",
       "if (outputEl) {{\n",
       "    x.observe(outputEl, {childList: true});\n",
       "}}\n",
       "\n",
       "                        })                };                });            </script>        </div>"
      ]
     },
     "metadata": {},
     "output_type": "display_data"
    }
   ],
   "source": [
    "import plotly.express as px\n",
    "\n",
    "def get_all_code(code_files: dict[str, IgorFile]):\n",
    "    all_functions = []\n",
    "    for file in code_files.values():\n",
    "        all_functions.extend(file.functions)\n",
    "        all_functions.extend(file.structures)\n",
    "        all_functions.extend(file.macros)\n",
    "    return all_functions\n",
    "\n",
    "\n",
    "all_functions = get_all_code(code_files)\n",
    "print(f'Total of {len(all_functions)} functions/structures/macros')\n",
    "\n",
    "px.histogram([token_len(func.code) for func in all_functions], template='plotly_dark')"
   ]
  },
  {
   "cell_type": "markdown",
   "id": "98fb4337-c3b5-466f-88c2-974bf6115ce4",
   "metadata": {},
   "source": [
    "Let's see whats going on with any super long \"functions\". \n",
    "\n",
    "We don't really want super long functions like this, as they will overload the context of the LLM, and probably won't be very relevant for the most part"
   ]
  },
  {
   "cell_type": "code",
   "execution_count": 93,
   "id": "a0c7af81-de29-46c3-bbc9-1f0b05b7d51f",
   "metadata": {
    "tags": []
   },
   "outputs": [
    {
     "data": {
      "text/markdown": [
       "## Summary\n",
       "\n",
       "- **Name**: test_lakeshore\n",
       "- **Declaration**: test_lakeshore(ls370,[gets,sets,set_defaults,ask])\n",
       "- **Start_line**: 1128\n",
       "- **End_line**: 1547\n",
       "- **Filename**: ls370_resistancebridge\n",
       "## Docstring\n",
       "\n",
       "```\n",
       "Testing all Lakeshore commands\n",
       "```\n"
      ],
      "text/plain": [
       "<IPython.core.display.Markdown object>"
      ]
     },
     "metadata": {},
     "output_type": "display_data"
    },
    {
     "data": {
      "text/markdown": [
       "## Summary\n",
       "\n",
       "- **Name**: ScanController\n",
       "- **Declaration**: ScanController(v_left,v_right,v_top,v_bottom):Panel\n",
       "- **Start_line**: 1991\n",
       "- **End_line**: 2091\n",
       "- **Filename**: ScanController\n",
       "## Docstring\n",
       "\n",
       "```\n",
       "\n",
       "```\n"
      ],
      "text/plain": [
       "<IPython.core.display.Markdown object>"
      ]
     },
     "metadata": {},
     "output_type": "display_data"
    }
   ],
   "source": [
    "for func in all_functions:\n",
    "    if token_len(func.code) > 2000:\n",
    "        display(Markdown(func.to_markdown(include_code=False )))"
   ]
  },
  {
   "cell_type": "markdown",
   "id": "bc1315eb-4d33-415e-8a06-7c832726293b",
   "metadata": {
    "tags": []
   },
   "source": [
    "OK, `ScanController` we will keep since that is a pretty core function. `test_lakeshore` we'll just get rid of since that isn't particularly useful anyway."
   ]
  },
  {
   "cell_type": "code",
   "execution_count": 94,
   "id": "46304655-de80-437a-9a5e-1482aac63133",
   "metadata": {
    "tags": []
   },
   "outputs": [
    {
     "name": "stdout",
     "output_type": "stream",
     "text": [
      "461\n"
     ]
    },
    {
     "data": {
      "application/vnd.plotly.v1+json": {
       "config": {
        "plotlyServerURL": "https://plot.ly"
       },
       "data": [
        {
         "alignmentgroup": "True",
         "bingroup": "x",
         "hovertemplate": "variable=0<br>value=%{x}<br>count=%{y}<extra></extra>",
         "legendgroup": "0",
         "marker": {
          "color": "#636efa",
          "pattern": {
           "shape": ""
          }
         },
         "name": "0",
         "nbinsx": 100,
         "offsetgroup": "0",
         "orientation": "v",
         "showlegend": true,
         "type": "histogram",
         "x": [
          217,
          532,
          1178,
          567,
          271,
          329,
          229,
          311,
          299,
          228,
          108,
          25,
          119,
          131,
          144,
          109,
          824,
          93,
          741,
          444,
          434,
          321,
          258,
          329,
          234,
          381,
          454,
          98,
          87,
          109,
          558,
          85,
          310,
          191,
          26,
          477,
          72,
          536,
          238,
          295,
          308,
          411,
          119,
          372,
          176,
          196,
          245,
          157,
          380,
          545,
          652,
          464,
          1171,
          58,
          44,
          85,
          58,
          72,
          99,
          100,
          787,
          1220,
          1003,
          264,
          312,
          139,
          189,
          189,
          153,
          127,
          124,
          110,
          32,
          250,
          1628,
          440,
          202,
          414,
          480,
          123,
          85,
          563,
          1105,
          108,
          361,
          948,
          140,
          273,
          652,
          349,
          45,
          139,
          126,
          234,
          362,
          608,
          250,
          245,
          245,
          35,
          122,
          97,
          114,
          32,
          41,
          66,
          294,
          247,
          104,
          105,
          100,
          71,
          251,
          225,
          211,
          196,
          177,
          96,
          136,
          75,
          300,
          448,
          160,
          227,
          233,
          282,
          113,
          89,
          415,
          104,
          144,
          88,
          134,
          195,
          429,
          269,
          414,
          189,
          117,
          319,
          120,
          266,
          66,
          267,
          176,
          38,
          314,
          156,
          172,
          166,
          227,
          289,
          538,
          1069,
          238,
          397,
          325,
          78,
          894,
          83,
          53,
          68,
          135,
          77,
          180,
          135,
          165,
          442,
          104,
          332,
          41,
          51,
          63,
          65,
          67,
          97,
          342,
          519,
          317,
          320,
          110,
          75,
          370,
          476,
          1440,
          1090,
          807,
          549,
          102,
          139,
          980,
          358,
          202,
          208,
          429,
          269,
          501,
          395,
          142,
          194,
          313,
          540,
          115,
          154,
          94,
          123,
          154,
          157,
          237,
          80,
          98,
          119,
          161,
          161,
          235,
          110,
          56,
          49,
          359,
          353,
          435,
          35,
          84,
          222,
          969,
          611,
          362,
          977,
          1006,
          55,
          22,
          23,
          103,
          31,
          256,
          421,
          520,
          1031,
          72,
          415,
          1403,
          135,
          102,
          88,
          183,
          176,
          416,
          351,
          697,
          373,
          393,
          337,
          849,
          222,
          1096,
          601,
          251,
          181,
          176,
          46,
          163,
          262,
          79,
          354,
          482,
          103,
          480,
          230,
          244,
          447,
          136,
          230,
          454,
          583,
          500,
          811,
          114,
          176,
          133,
          80,
          188,
          365,
          516,
          53,
          67,
          156,
          500,
          232,
          164,
          94,
          472,
          686,
          72,
          426,
          765,
          340,
          775,
          169,
          2528,
          237,
          1621,
          18,
          37,
          92,
          111,
          522,
          122,
          64,
          267,
          141,
          382,
          117,
          95,
          178,
          179,
          144,
          45,
          113,
          31,
          315,
          48,
          262,
          241,
          293,
          74,
          74,
          45,
          53,
          77,
          139,
          82,
          42,
          111,
          219,
          223,
          119,
          122,
          679,
          594,
          430,
          85,
          145,
          436,
          127,
          898,
          577,
          152,
          44,
          1028,
          301,
          779,
          165,
          143,
          303,
          81,
          1014,
          151,
          127,
          240,
          148,
          125,
          278,
          241,
          149,
          303,
          409,
          329,
          456,
          450,
          28,
          34,
          34,
          70,
          39,
          38,
          195,
          195,
          227,
          347,
          67,
          329,
          19,
          79,
          89,
          35,
          165,
          167,
          168,
          222,
          116,
          89,
          244,
          228,
          100,
          489,
          931,
          1642,
          96,
          173,
          118,
          663,
          252,
          26,
          138,
          203,
          352,
          480,
          31,
          215,
          486,
          575,
          624,
          643,
          227,
          915,
          1031,
          775,
          1780,
          157,
          608,
          473,
          704,
          782,
          917,
          824,
          579,
          745,
          481,
          739,
          797,
          780,
          710,
          354,
          499,
          294,
          25,
          551,
          243,
          45,
          45,
          45,
          43,
          43,
          83,
          42,
          47,
          42,
          144,
          278,
          85,
          80,
          263,
          71,
          29,
          262,
          107,
          68,
          206,
          73,
          73,
          272
         ],
         "xaxis": "x",
         "yaxis": "y"
        }
       ],
       "layout": {
        "autosize": true,
        "barmode": "relative",
        "legend": {
         "title": {
          "text": "variable"
         },
         "tracegroupgap": 0
        },
        "margin": {
         "t": 60
        },
        "template": {
         "data": {
          "bar": [
           {
            "error_x": {
             "color": "#f2f5fa"
            },
            "error_y": {
             "color": "#f2f5fa"
            },
            "marker": {
             "line": {
              "color": "rgb(17,17,17)",
              "width": 0.5
             },
             "pattern": {
              "fillmode": "overlay",
              "size": 10,
              "solidity": 0.2
             }
            },
            "type": "bar"
           }
          ],
          "barpolar": [
           {
            "marker": {
             "line": {
              "color": "rgb(17,17,17)",
              "width": 0.5
             },
             "pattern": {
              "fillmode": "overlay",
              "size": 10,
              "solidity": 0.2
             }
            },
            "type": "barpolar"
           }
          ],
          "carpet": [
           {
            "aaxis": {
             "endlinecolor": "#A2B1C6",
             "gridcolor": "#506784",
             "linecolor": "#506784",
             "minorgridcolor": "#506784",
             "startlinecolor": "#A2B1C6"
            },
            "baxis": {
             "endlinecolor": "#A2B1C6",
             "gridcolor": "#506784",
             "linecolor": "#506784",
             "minorgridcolor": "#506784",
             "startlinecolor": "#A2B1C6"
            },
            "type": "carpet"
           }
          ],
          "choropleth": [
           {
            "colorbar": {
             "outlinewidth": 0,
             "ticks": ""
            },
            "type": "choropleth"
           }
          ],
          "contour": [
           {
            "colorbar": {
             "outlinewidth": 0,
             "ticks": ""
            },
            "colorscale": [
             [
              0,
              "#0d0887"
             ],
             [
              0.1111111111111111,
              "#46039f"
             ],
             [
              0.2222222222222222,
              "#7201a8"
             ],
             [
              0.3333333333333333,
              "#9c179e"
             ],
             [
              0.4444444444444444,
              "#bd3786"
             ],
             [
              0.5555555555555556,
              "#d8576b"
             ],
             [
              0.6666666666666666,
              "#ed7953"
             ],
             [
              0.7777777777777778,
              "#fb9f3a"
             ],
             [
              0.8888888888888888,
              "#fdca26"
             ],
             [
              1,
              "#f0f921"
             ]
            ],
            "type": "contour"
           }
          ],
          "contourcarpet": [
           {
            "colorbar": {
             "outlinewidth": 0,
             "ticks": ""
            },
            "type": "contourcarpet"
           }
          ],
          "heatmap": [
           {
            "colorbar": {
             "outlinewidth": 0,
             "ticks": ""
            },
            "colorscale": [
             [
              0,
              "#0d0887"
             ],
             [
              0.1111111111111111,
              "#46039f"
             ],
             [
              0.2222222222222222,
              "#7201a8"
             ],
             [
              0.3333333333333333,
              "#9c179e"
             ],
             [
              0.4444444444444444,
              "#bd3786"
             ],
             [
              0.5555555555555556,
              "#d8576b"
             ],
             [
              0.6666666666666666,
              "#ed7953"
             ],
             [
              0.7777777777777778,
              "#fb9f3a"
             ],
             [
              0.8888888888888888,
              "#fdca26"
             ],
             [
              1,
              "#f0f921"
             ]
            ],
            "type": "heatmap"
           }
          ],
          "heatmapgl": [
           {
            "colorbar": {
             "outlinewidth": 0,
             "ticks": ""
            },
            "colorscale": [
             [
              0,
              "#0d0887"
             ],
             [
              0.1111111111111111,
              "#46039f"
             ],
             [
              0.2222222222222222,
              "#7201a8"
             ],
             [
              0.3333333333333333,
              "#9c179e"
             ],
             [
              0.4444444444444444,
              "#bd3786"
             ],
             [
              0.5555555555555556,
              "#d8576b"
             ],
             [
              0.6666666666666666,
              "#ed7953"
             ],
             [
              0.7777777777777778,
              "#fb9f3a"
             ],
             [
              0.8888888888888888,
              "#fdca26"
             ],
             [
              1,
              "#f0f921"
             ]
            ],
            "type": "heatmapgl"
           }
          ],
          "histogram": [
           {
            "marker": {
             "pattern": {
              "fillmode": "overlay",
              "size": 10,
              "solidity": 0.2
             }
            },
            "type": "histogram"
           }
          ],
          "histogram2d": [
           {
            "colorbar": {
             "outlinewidth": 0,
             "ticks": ""
            },
            "colorscale": [
             [
              0,
              "#0d0887"
             ],
             [
              0.1111111111111111,
              "#46039f"
             ],
             [
              0.2222222222222222,
              "#7201a8"
             ],
             [
              0.3333333333333333,
              "#9c179e"
             ],
             [
              0.4444444444444444,
              "#bd3786"
             ],
             [
              0.5555555555555556,
              "#d8576b"
             ],
             [
              0.6666666666666666,
              "#ed7953"
             ],
             [
              0.7777777777777778,
              "#fb9f3a"
             ],
             [
              0.8888888888888888,
              "#fdca26"
             ],
             [
              1,
              "#f0f921"
             ]
            ],
            "type": "histogram2d"
           }
          ],
          "histogram2dcontour": [
           {
            "colorbar": {
             "outlinewidth": 0,
             "ticks": ""
            },
            "colorscale": [
             [
              0,
              "#0d0887"
             ],
             [
              0.1111111111111111,
              "#46039f"
             ],
             [
              0.2222222222222222,
              "#7201a8"
             ],
             [
              0.3333333333333333,
              "#9c179e"
             ],
             [
              0.4444444444444444,
              "#bd3786"
             ],
             [
              0.5555555555555556,
              "#d8576b"
             ],
             [
              0.6666666666666666,
              "#ed7953"
             ],
             [
              0.7777777777777778,
              "#fb9f3a"
             ],
             [
              0.8888888888888888,
              "#fdca26"
             ],
             [
              1,
              "#f0f921"
             ]
            ],
            "type": "histogram2dcontour"
           }
          ],
          "mesh3d": [
           {
            "colorbar": {
             "outlinewidth": 0,
             "ticks": ""
            },
            "type": "mesh3d"
           }
          ],
          "parcoords": [
           {
            "line": {
             "colorbar": {
              "outlinewidth": 0,
              "ticks": ""
             }
            },
            "type": "parcoords"
           }
          ],
          "pie": [
           {
            "automargin": true,
            "type": "pie"
           }
          ],
          "scatter": [
           {
            "marker": {
             "line": {
              "color": "#283442"
             }
            },
            "type": "scatter"
           }
          ],
          "scatter3d": [
           {
            "line": {
             "colorbar": {
              "outlinewidth": 0,
              "ticks": ""
             }
            },
            "marker": {
             "colorbar": {
              "outlinewidth": 0,
              "ticks": ""
             }
            },
            "type": "scatter3d"
           }
          ],
          "scattercarpet": [
           {
            "marker": {
             "colorbar": {
              "outlinewidth": 0,
              "ticks": ""
             }
            },
            "type": "scattercarpet"
           }
          ],
          "scattergeo": [
           {
            "marker": {
             "colorbar": {
              "outlinewidth": 0,
              "ticks": ""
             }
            },
            "type": "scattergeo"
           }
          ],
          "scattergl": [
           {
            "marker": {
             "line": {
              "color": "#283442"
             }
            },
            "type": "scattergl"
           }
          ],
          "scattermapbox": [
           {
            "marker": {
             "colorbar": {
              "outlinewidth": 0,
              "ticks": ""
             }
            },
            "type": "scattermapbox"
           }
          ],
          "scatterpolar": [
           {
            "marker": {
             "colorbar": {
              "outlinewidth": 0,
              "ticks": ""
             }
            },
            "type": "scatterpolar"
           }
          ],
          "scatterpolargl": [
           {
            "marker": {
             "colorbar": {
              "outlinewidth": 0,
              "ticks": ""
             }
            },
            "type": "scatterpolargl"
           }
          ],
          "scatterternary": [
           {
            "marker": {
             "colorbar": {
              "outlinewidth": 0,
              "ticks": ""
             }
            },
            "type": "scatterternary"
           }
          ],
          "surface": [
           {
            "colorbar": {
             "outlinewidth": 0,
             "ticks": ""
            },
            "colorscale": [
             [
              0,
              "#0d0887"
             ],
             [
              0.1111111111111111,
              "#46039f"
             ],
             [
              0.2222222222222222,
              "#7201a8"
             ],
             [
              0.3333333333333333,
              "#9c179e"
             ],
             [
              0.4444444444444444,
              "#bd3786"
             ],
             [
              0.5555555555555556,
              "#d8576b"
             ],
             [
              0.6666666666666666,
              "#ed7953"
             ],
             [
              0.7777777777777778,
              "#fb9f3a"
             ],
             [
              0.8888888888888888,
              "#fdca26"
             ],
             [
              1,
              "#f0f921"
             ]
            ],
            "type": "surface"
           }
          ],
          "table": [
           {
            "cells": {
             "fill": {
              "color": "#506784"
             },
             "line": {
              "color": "rgb(17,17,17)"
             }
            },
            "header": {
             "fill": {
              "color": "#2a3f5f"
             },
             "line": {
              "color": "rgb(17,17,17)"
             }
            },
            "type": "table"
           }
          ]
         },
         "layout": {
          "annotationdefaults": {
           "arrowcolor": "#f2f5fa",
           "arrowhead": 0,
           "arrowwidth": 1
          },
          "autotypenumbers": "strict",
          "coloraxis": {
           "colorbar": {
            "outlinewidth": 0,
            "ticks": ""
           }
          },
          "colorscale": {
           "diverging": [
            [
             0,
             "#8e0152"
            ],
            [
             0.1,
             "#c51b7d"
            ],
            [
             0.2,
             "#de77ae"
            ],
            [
             0.3,
             "#f1b6da"
            ],
            [
             0.4,
             "#fde0ef"
            ],
            [
             0.5,
             "#f7f7f7"
            ],
            [
             0.6,
             "#e6f5d0"
            ],
            [
             0.7,
             "#b8e186"
            ],
            [
             0.8,
             "#7fbc41"
            ],
            [
             0.9,
             "#4d9221"
            ],
            [
             1,
             "#276419"
            ]
           ],
           "sequential": [
            [
             0,
             "#0d0887"
            ],
            [
             0.1111111111111111,
             "#46039f"
            ],
            [
             0.2222222222222222,
             "#7201a8"
            ],
            [
             0.3333333333333333,
             "#9c179e"
            ],
            [
             0.4444444444444444,
             "#bd3786"
            ],
            [
             0.5555555555555556,
             "#d8576b"
            ],
            [
             0.6666666666666666,
             "#ed7953"
            ],
            [
             0.7777777777777778,
             "#fb9f3a"
            ],
            [
             0.8888888888888888,
             "#fdca26"
            ],
            [
             1,
             "#f0f921"
            ]
           ],
           "sequentialminus": [
            [
             0,
             "#0d0887"
            ],
            [
             0.1111111111111111,
             "#46039f"
            ],
            [
             0.2222222222222222,
             "#7201a8"
            ],
            [
             0.3333333333333333,
             "#9c179e"
            ],
            [
             0.4444444444444444,
             "#bd3786"
            ],
            [
             0.5555555555555556,
             "#d8576b"
            ],
            [
             0.6666666666666666,
             "#ed7953"
            ],
            [
             0.7777777777777778,
             "#fb9f3a"
            ],
            [
             0.8888888888888888,
             "#fdca26"
            ],
            [
             1,
             "#f0f921"
            ]
           ]
          },
          "colorway": [
           "#636efa",
           "#EF553B",
           "#00cc96",
           "#ab63fa",
           "#FFA15A",
           "#19d3f3",
           "#FF6692",
           "#B6E880",
           "#FF97FF",
           "#FECB52"
          ],
          "font": {
           "color": "#f2f5fa"
          },
          "geo": {
           "bgcolor": "rgb(17,17,17)",
           "lakecolor": "rgb(17,17,17)",
           "landcolor": "rgb(17,17,17)",
           "showlakes": true,
           "showland": true,
           "subunitcolor": "#506784"
          },
          "hoverlabel": {
           "align": "left"
          },
          "hovermode": "closest",
          "mapbox": {
           "style": "dark"
          },
          "paper_bgcolor": "rgb(17,17,17)",
          "plot_bgcolor": "rgb(17,17,17)",
          "polar": {
           "angularaxis": {
            "gridcolor": "#506784",
            "linecolor": "#506784",
            "ticks": ""
           },
           "bgcolor": "rgb(17,17,17)",
           "radialaxis": {
            "gridcolor": "#506784",
            "linecolor": "#506784",
            "ticks": ""
           }
          },
          "scene": {
           "xaxis": {
            "backgroundcolor": "rgb(17,17,17)",
            "gridcolor": "#506784",
            "gridwidth": 2,
            "linecolor": "#506784",
            "showbackground": true,
            "ticks": "",
            "zerolinecolor": "#C8D4E3"
           },
           "yaxis": {
            "backgroundcolor": "rgb(17,17,17)",
            "gridcolor": "#506784",
            "gridwidth": 2,
            "linecolor": "#506784",
            "showbackground": true,
            "ticks": "",
            "zerolinecolor": "#C8D4E3"
           },
           "zaxis": {
            "backgroundcolor": "rgb(17,17,17)",
            "gridcolor": "#506784",
            "gridwidth": 2,
            "linecolor": "#506784",
            "showbackground": true,
            "ticks": "",
            "zerolinecolor": "#C8D4E3"
           }
          },
          "shapedefaults": {
           "line": {
            "color": "#f2f5fa"
           }
          },
          "sliderdefaults": {
           "bgcolor": "#C8D4E3",
           "bordercolor": "rgb(17,17,17)",
           "borderwidth": 1,
           "tickwidth": 0
          },
          "ternary": {
           "aaxis": {
            "gridcolor": "#506784",
            "linecolor": "#506784",
            "ticks": ""
           },
           "baxis": {
            "gridcolor": "#506784",
            "linecolor": "#506784",
            "ticks": ""
           },
           "bgcolor": "rgb(17,17,17)",
           "caxis": {
            "gridcolor": "#506784",
            "linecolor": "#506784",
            "ticks": ""
           }
          },
          "title": {
           "x": 0.05
          },
          "updatemenudefaults": {
           "bgcolor": "#506784",
           "borderwidth": 0
          },
          "xaxis": {
           "automargin": true,
           "gridcolor": "#283442",
           "linecolor": "#506784",
           "ticks": "",
           "title": {
            "standoff": 15
           },
           "zerolinecolor": "#283442",
           "zerolinewidth": 2
          },
          "yaxis": {
           "automargin": true,
           "gridcolor": "#283442",
           "linecolor": "#506784",
           "ticks": "",
           "title": {
            "standoff": 15
           },
           "zerolinecolor": "#283442",
           "zerolinewidth": 2
          }
         }
        },
        "xaxis": {
         "anchor": "y",
         "autorange": true,
         "domain": [
          0,
          1
         ],
         "range": [
          -0.5,
          2549.5
         ],
         "title": {
          "text": "value"
         },
         "type": "linear"
        },
        "yaxis": {
         "anchor": "x",
         "autorange": true,
         "domain": [
          0,
          1
         ],
         "range": [
          0,
          73.6842105263158
         ],
         "title": {
          "text": "count"
         }
        }
       }
      },
      "image/png": "[encoded data removed]",
      "text/html": [
       "<div>                            <div id=\"7df116ab-a2a2-469f-acc4-d853b1daff3b\" class=\"plotly-graph-div\" style=\"height:525px; width:100%;\"></div>            <script type=\"text/javascript\">                require([\"plotly\"], function(Plotly) {                    window.PLOTLYENV=window.PLOTLYENV || {};                                    if (document.getElementById(\"7df116ab-a2a2-469f-acc4-d853b1daff3b\")) {                    Plotly.newPlot(                        \"7df116ab-a2a2-469f-acc4-d853b1daff3b\",                        [{\"alignmentgroup\":\"True\",\"bingroup\":\"x\",\"hovertemplate\":\"variable=0\\u003cbr\\u003evalue=%{x}\\u003cbr\\u003ecount=%{y}\\u003cextra\\u003e\\u003c\\u002fextra\\u003e\",\"legendgroup\":\"0\",\"marker\":{\"color\":\"#636efa\",\"pattern\":{\"shape\":\"\"}},\"name\":\"0\",\"nbinsx\":100,\"offsetgroup\":\"0\",\"orientation\":\"v\",\"showlegend\":true,\"x\":[217,532,1178,567,271,329,229,311,299,228,108,25,119,131,144,109,824,93,741,444,434,321,258,329,234,381,454,98,87,109,558,85,310,191,26,477,72,536,238,295,308,411,119,372,176,196,245,157,380,545,652,464,1171,58,44,85,58,72,99,100,787,1220,1003,264,312,139,189,189,153,127,124,110,32,250,1628,440,202,414,480,123,85,563,1105,108,361,948,140,273,652,349,45,139,126,234,362,608,250,245,245,35,122,97,114,32,41,66,294,247,104,105,100,71,251,225,211,196,177,96,136,75,300,448,160,227,233,282,113,89,415,104,144,88,134,195,429,269,414,189,117,319,120,266,66,267,176,38,314,156,172,166,227,289,538,1069,238,397,325,78,894,83,53,68,135,77,180,135,165,442,104,332,41,51,63,65,67,97,342,519,317,320,110,75,370,476,1440,1090,807,549,102,139,980,358,202,208,429,269,501,395,142,194,313,540,115,154,94,123,154,157,237,80,98,119,161,161,235,110,56,49,359,353,435,35,84,222,969,611,362,977,1006,55,22,23,103,31,256,421,520,1031,72,415,1403,135,102,88,183,176,416,351,697,373,393,337,849,222,1096,601,251,181,176,46,163,262,79,354,482,103,480,230,244,447,136,230,454,583,500,811,114,176,133,80,188,365,516,53,67,156,500,232,164,94,472,686,72,426,765,340,775,169,2528,237,1621,18,37,92,111,522,122,64,267,141,382,117,95,178,179,144,45,113,31,315,48,262,241,293,74,74,45,53,77,139,82,42,111,219,223,119,122,679,594,430,85,145,436,127,898,577,152,44,1028,301,779,165,143,303,81,1014,151,127,240,148,125,278,241,149,303,409,329,456,450,28,34,34,70,39,38,195,195,227,347,67,329,19,79,89,35,165,167,168,222,116,89,244,228,100,489,931,1642,96,173,118,663,252,26,138,203,352,480,31,215,486,575,624,643,227,915,1031,775,1780,157,608,473,704,782,917,824,579,745,481,739,797,780,710,354,499,294,25,551,243,45,45,45,43,43,83,42,47,42,144,278,85,80,263,71,29,262,107,68,206,73,73,272],\"xaxis\":\"x\",\"yaxis\":\"y\",\"type\":\"histogram\"}],                        {\"template\":{\"data\":{\"barpolar\":[{\"marker\":{\"line\":{\"color\":\"rgb(17,17,17)\",\"width\":0.5},\"pattern\":{\"fillmode\":\"overlay\",\"size\":10,\"solidity\":0.2}},\"type\":\"barpolar\"}],\"bar\":[{\"error_x\":{\"color\":\"#f2f5fa\"},\"error_y\":{\"color\":\"#f2f5fa\"},\"marker\":{\"line\":{\"color\":\"rgb(17,17,17)\",\"width\":0.5},\"pattern\":{\"fillmode\":\"overlay\",\"size\":10,\"solidity\":0.2}},\"type\":\"bar\"}],\"carpet\":[{\"aaxis\":{\"endlinecolor\":\"#A2B1C6\",\"gridcolor\":\"#506784\",\"linecolor\":\"#506784\",\"minorgridcolor\":\"#506784\",\"startlinecolor\":\"#A2B1C6\"},\"baxis\":{\"endlinecolor\":\"#A2B1C6\",\"gridcolor\":\"#506784\",\"linecolor\":\"#506784\",\"minorgridcolor\":\"#506784\",\"startlinecolor\":\"#A2B1C6\"},\"type\":\"carpet\"}],\"choropleth\":[{\"colorbar\":{\"outlinewidth\":0,\"ticks\":\"\"},\"type\":\"choropleth\"}],\"contourcarpet\":[{\"colorbar\":{\"outlinewidth\":0,\"ticks\":\"\"},\"type\":\"contourcarpet\"}],\"contour\":[{\"colorbar\":{\"outlinewidth\":0,\"ticks\":\"\"},\"colorscale\":[[0.0,\"#0d0887\"],[0.1111111111111111,\"#46039f\"],[0.2222222222222222,\"#7201a8\"],[0.3333333333333333,\"#9c179e\"],[0.4444444444444444,\"#bd3786\"],[0.5555555555555556,\"#d8576b\"],[0.6666666666666666,\"#ed7953\"],[0.7777777777777778,\"#fb9f3a\"],[0.8888888888888888,\"#fdca26\"],[1.0,\"#f0f921\"]],\"type\":\"contour\"}],\"heatmapgl\":[{\"colorbar\":{\"outlinewidth\":0,\"ticks\":\"\"},\"colorscale\":[[0.0,\"#0d0887\"],[0.1111111111111111,\"#46039f\"],[0.2222222222222222,\"#7201a8\"],[0.3333333333333333,\"#9c179e\"],[0.4444444444444444,\"#bd3786\"],[0.5555555555555556,\"#d8576b\"],[0.6666666666666666,\"#ed7953\"],[0.7777777777777778,\"#fb9f3a\"],[0.8888888888888888,\"#fdca26\"],[1.0,\"#f0f921\"]],\"type\":\"heatmapgl\"}],\"heatmap\":[{\"colorbar\":{\"outlinewidth\":0,\"ticks\":\"\"},\"colorscale\":[[0.0,\"#0d0887\"],[0.1111111111111111,\"#46039f\"],[0.2222222222222222,\"#7201a8\"],[0.3333333333333333,\"#9c179e\"],[0.4444444444444444,\"#bd3786\"],[0.5555555555555556,\"#d8576b\"],[0.6666666666666666,\"#ed7953\"],[0.7777777777777778,\"#fb9f3a\"],[0.8888888888888888,\"#fdca26\"],[1.0,\"#f0f921\"]],\"type\":\"heatmap\"}],\"histogram2dcontour\":[{\"colorbar\":{\"outlinewidth\":0,\"ticks\":\"\"},\"colorscale\":[[0.0,\"#0d0887\"],[0.1111111111111111,\"#46039f\"],[0.2222222222222222,\"#7201a8\"],[0.3333333333333333,\"#9c179e\"],[0.4444444444444444,\"#bd3786\"],[0.5555555555555556,\"#d8576b\"],[0.6666666666666666,\"#ed7953\"],[0.7777777777777778,\"#fb9f3a\"],[0.8888888888888888,\"#fdca26\"],[1.0,\"#f0f921\"]],\"type\":\"histogram2dcontour\"}],\"histogram2d\":[{\"colorbar\":{\"outlinewidth\":0,\"ticks\":\"\"},\"colorscale\":[[0.0,\"#0d0887\"],[0.1111111111111111,\"#46039f\"],[0.2222222222222222,\"#7201a8\"],[0.3333333333333333,\"#9c179e\"],[0.4444444444444444,\"#bd3786\"],[0.5555555555555556,\"#d8576b\"],[0.6666666666666666,\"#ed7953\"],[0.7777777777777778,\"#fb9f3a\"],[0.8888888888888888,\"#fdca26\"],[1.0,\"#f0f921\"]],\"type\":\"histogram2d\"}],\"histogram\":[{\"marker\":{\"pattern\":{\"fillmode\":\"overlay\",\"size\":10,\"solidity\":0.2}},\"type\":\"histogram\"}],\"mesh3d\":[{\"colorbar\":{\"outlinewidth\":0,\"ticks\":\"\"},\"type\":\"mesh3d\"}],\"parcoords\":[{\"line\":{\"colorbar\":{\"outlinewidth\":0,\"ticks\":\"\"}},\"type\":\"parcoords\"}],\"pie\":[{\"automargin\":true,\"type\":\"pie\"}],\"scatter3d\":[{\"line\":{\"colorbar\":{\"outlinewidth\":0,\"ticks\":\"\"}},\"marker\":{\"colorbar\":{\"outlinewidth\":0,\"ticks\":\"\"}},\"type\":\"scatter3d\"}],\"scattercarpet\":[{\"marker\":{\"colorbar\":{\"outlinewidth\":0,\"ticks\":\"\"}},\"type\":\"scattercarpet\"}],\"scattergeo\":[{\"marker\":{\"colorbar\":{\"outlinewidth\":0,\"ticks\":\"\"}},\"type\":\"scattergeo\"}],\"scattergl\":[{\"marker\":{\"line\":{\"color\":\"#283442\"}},\"type\":\"scattergl\"}],\"scattermapbox\":[{\"marker\":{\"colorbar\":{\"outlinewidth\":0,\"ticks\":\"\"}},\"type\":\"scattermapbox\"}],\"scatterpolargl\":[{\"marker\":{\"colorbar\":{\"outlinewidth\":0,\"ticks\":\"\"}},\"type\":\"scatterpolargl\"}],\"scatterpolar\":[{\"marker\":{\"colorbar\":{\"outlinewidth\":0,\"ticks\":\"\"}},\"type\":\"scatterpolar\"}],\"scatter\":[{\"marker\":{\"line\":{\"color\":\"#283442\"}},\"type\":\"scatter\"}],\"scatterternary\":[{\"marker\":{\"colorbar\":{\"outlinewidth\":0,\"ticks\":\"\"}},\"type\":\"scatterternary\"}],\"surface\":[{\"colorbar\":{\"outlinewidth\":0,\"ticks\":\"\"},\"colorscale\":[[0.0,\"#0d0887\"],[0.1111111111111111,\"#46039f\"],[0.2222222222222222,\"#7201a8\"],[0.3333333333333333,\"#9c179e\"],[0.4444444444444444,\"#bd3786\"],[0.5555555555555556,\"#d8576b\"],[0.6666666666666666,\"#ed7953\"],[0.7777777777777778,\"#fb9f3a\"],[0.8888888888888888,\"#fdca26\"],[1.0,\"#f0f921\"]],\"type\":\"surface\"}],\"table\":[{\"cells\":{\"fill\":{\"color\":\"#506784\"},\"line\":{\"color\":\"rgb(17,17,17)\"}},\"header\":{\"fill\":{\"color\":\"#2a3f5f\"},\"line\":{\"color\":\"rgb(17,17,17)\"}},\"type\":\"table\"}]},\"layout\":{\"annotationdefaults\":{\"arrowcolor\":\"#f2f5fa\",\"arrowhead\":0,\"arrowwidth\":1},\"autotypenumbers\":\"strict\",\"coloraxis\":{\"colorbar\":{\"outlinewidth\":0,\"ticks\":\"\"}},\"colorscale\":{\"diverging\":[[0,\"#8e0152\"],[0.1,\"#c51b7d\"],[0.2,\"#de77ae\"],[0.3,\"#f1b6da\"],[0.4,\"#fde0ef\"],[0.5,\"#f7f7f7\"],[0.6,\"#e6f5d0\"],[0.7,\"#b8e186\"],[0.8,\"#7fbc41\"],[0.9,\"#4d9221\"],[1,\"#276419\"]],\"sequential\":[[0.0,\"#0d0887\"],[0.1111111111111111,\"#46039f\"],[0.2222222222222222,\"#7201a8\"],[0.3333333333333333,\"#9c179e\"],[0.4444444444444444,\"#bd3786\"],[0.5555555555555556,\"#d8576b\"],[0.6666666666666666,\"#ed7953\"],[0.7777777777777778,\"#fb9f3a\"],[0.8888888888888888,\"#fdca26\"],[1.0,\"#f0f921\"]],\"sequentialminus\":[[0.0,\"#0d0887\"],[0.1111111111111111,\"#46039f\"],[0.2222222222222222,\"#7201a8\"],[0.3333333333333333,\"#9c179e\"],[0.4444444444444444,\"#bd3786\"],[0.5555555555555556,\"#d8576b\"],[0.6666666666666666,\"#ed7953\"],[0.7777777777777778,\"#fb9f3a\"],[0.8888888888888888,\"#fdca26\"],[1.0,\"#f0f921\"]]},\"colorway\":[\"#636efa\",\"#EF553B\",\"#00cc96\",\"#ab63fa\",\"#FFA15A\",\"#19d3f3\",\"#FF6692\",\"#B6E880\",\"#FF97FF\",\"#FECB52\"],\"font\":{\"color\":\"#f2f5fa\"},\"geo\":{\"bgcolor\":\"rgb(17,17,17)\",\"lakecolor\":\"rgb(17,17,17)\",\"landcolor\":\"rgb(17,17,17)\",\"showlakes\":true,\"showland\":true,\"subunitcolor\":\"#506784\"},\"hoverlabel\":{\"align\":\"left\"},\"hovermode\":\"closest\",\"mapbox\":{\"style\":\"dark\"},\"paper_bgcolor\":\"rgb(17,17,17)\",\"plot_bgcolor\":\"rgb(17,17,17)\",\"polar\":{\"angularaxis\":{\"gridcolor\":\"#506784\",\"linecolor\":\"#506784\",\"ticks\":\"\"},\"bgcolor\":\"rgb(17,17,17)\",\"radialaxis\":{\"gridcolor\":\"#506784\",\"linecolor\":\"#506784\",\"ticks\":\"\"}},\"scene\":{\"xaxis\":{\"backgroundcolor\":\"rgb(17,17,17)\",\"gridcolor\":\"#506784\",\"gridwidth\":2,\"linecolor\":\"#506784\",\"showbackground\":true,\"ticks\":\"\",\"zerolinecolor\":\"#C8D4E3\"},\"yaxis\":{\"backgroundcolor\":\"rgb(17,17,17)\",\"gridcolor\":\"#506784\",\"gridwidth\":2,\"linecolor\":\"#506784\",\"showbackground\":true,\"ticks\":\"\",\"zerolinecolor\":\"#C8D4E3\"},\"zaxis\":{\"backgroundcolor\":\"rgb(17,17,17)\",\"gridcolor\":\"#506784\",\"gridwidth\":2,\"linecolor\":\"#506784\",\"showbackground\":true,\"ticks\":\"\",\"zerolinecolor\":\"#C8D4E3\"}},\"shapedefaults\":{\"line\":{\"color\":\"#f2f5fa\"}},\"sliderdefaults\":{\"bgcolor\":\"#C8D4E3\",\"bordercolor\":\"rgb(17,17,17)\",\"borderwidth\":1,\"tickwidth\":0},\"ternary\":{\"aaxis\":{\"gridcolor\":\"#506784\",\"linecolor\":\"#506784\",\"ticks\":\"\"},\"baxis\":{\"gridcolor\":\"#506784\",\"linecolor\":\"#506784\",\"ticks\":\"\"},\"bgcolor\":\"rgb(17,17,17)\",\"caxis\":{\"gridcolor\":\"#506784\",\"linecolor\":\"#506784\",\"ticks\":\"\"}},\"title\":{\"x\":0.05},\"updatemenudefaults\":{\"bgcolor\":\"#506784\",\"borderwidth\":0},\"xaxis\":{\"automargin\":true,\"gridcolor\":\"#283442\",\"linecolor\":\"#506784\",\"ticks\":\"\",\"title\":{\"standoff\":15},\"zerolinecolor\":\"#283442\",\"zerolinewidth\":2},\"yaxis\":{\"automargin\":true,\"gridcolor\":\"#283442\",\"linecolor\":\"#506784\",\"ticks\":\"\",\"title\":{\"standoff\":15},\"zerolinecolor\":\"#283442\",\"zerolinewidth\":2}}},\"xaxis\":{\"anchor\":\"y\",\"domain\":[0.0,1.0],\"title\":{\"text\":\"value\"}},\"yaxis\":{\"anchor\":\"x\",\"domain\":[0.0,1.0],\"title\":{\"text\":\"count\"}},\"legend\":{\"title\":{\"text\":\"variable\"},\"tracegroupgap\":0},\"margin\":{\"t\":60},\"barmode\":\"relative\"},                        {\"responsive\": true}                    ).then(function(){\n",
       "                            \n",
       "var gd = document.getElementById('7df116ab-a2a2-469f-acc4-d853b1daff3b');\n",
       "var x = new MutationObserver(function (mutations, observer) {{\n",
       "        var display = window.getComputedStyle(gd).display;\n",
       "        if (!display || display === 'none') {{\n",
       "            console.log([gd, 'removed!']);\n",
       "            Plotly.purge(gd);\n",
       "            observer.disconnect();\n",
       "        }}\n",
       "}});\n",
       "\n",
       "// Listen for the removal of the full notebook cells\n",
       "var notebookContainer = gd.closest('#notebook-container');\n",
       "if (notebookContainer) {{\n",
       "    x.observe(notebookContainer, {childList: true});\n",
       "}}\n",
       "\n",
       "// Listen for the clearing of the current output cell\n",
       "var outputEl = gd.closest('.output');\n",
       "if (outputEl) {{\n",
       "    x.observe(outputEl, {childList: true});\n",
       "}}\n",
       "\n",
       "                        })                };                });            </script>        </div>"
      ]
     },
     "metadata": {},
     "output_type": "display_data"
    }
   ],
   "source": [
    "code_file = code_files['ls370_resistancebridge']\n",
    "code_file.functions = [f for f in code_file.functions if f.name != 'test_lakeshore']\n",
    "all_functions = get_all_code(code_files)\n",
    "print(len(all_functions))\n",
    "px.histogram([token_len(func.code) for func in all_functions], nbins=100, template='plotly_dark')"
   ]
  },
  {
   "cell_type": "code",
   "execution_count": 100,
   "id": "f642005c-a17c-4f33-ae09-5934d8b58574",
   "metadata": {
    "tags": []
   },
   "outputs": [
    {
     "name": "stdout",
     "output_type": "stream",
     "text": [
      "Total tokens = 141242\n",
      "Total cost = $0.0141\n"
     ]
    }
   ],
   "source": [
    "total_tokens = sum([token_len(f.code) for f in all_functions])\n",
    "print(f'Total tokens = {total_tokens}\\nTotal cost = ${total_tokens/1000*0.0001:.4f}')"
   ]
  },
  {
   "cell_type": "markdown",
   "id": "ac7b1482-46ec-4a35-bba3-814949178c8f",
   "metadata": {},
   "source": [
    "# Make Embeddings\n",
    "\n",
    "Make embeddings for:\n",
    "- For function_name\n",
    "- For declaration and docstring\n",
    "- For full function\n",
    "\n",
    "TODO: All of these will point to the same documents, so not really necessary to have that saved 3 times, but for now it's so easy and doesn't cost much space\n"
   ]
  },
  {
   "cell_type": "code",
   "execution_count": 101,
   "id": "91166779-33a2-4d28-9f50-aab1b9bbce8f",
   "metadata": {
    "tags": []
   },
   "outputs": [],
   "source": [
    "from langchain.embeddings import OpenAIEmbeddings"
   ]
  },
  {
   "cell_type": "code",
   "execution_count": 102,
   "id": "0f2bc8fa-b97b-4e79-9bd7-a5597c0dc4ef",
   "metadata": {
    "tags": []
   },
   "outputs": [],
   "source": [
    "import numpy  as np\n",
    "\n",
    "def process_texts(embedder, texts: list[str], batch_size: int) -> np.ndarray:\n",
    "    \"\"\"\n",
    "    Process a list of texts in batches of a given size and apply a function to each batch.\n",
    "\n",
    "    Args:\n",
    "        embedder: What will actually do the embedding (assumes from langchain.embbedings)\n",
    "        texts: A list of texts to be processed.\n",
    "        batch_size: The size of each batch.\n",
    "        func: The function to be applied to each batch of texts.\n",
    "\n",
    "    Returns:\n",
    "        A list of lists containing the output of `func` for each batch of texts.\n",
    "    \"\"\"\n",
    "    output = []\n",
    "    for i in tqdm(range(0, len(texts), batch_size)):\n",
    "        batch = texts[i:i+batch_size]\n",
    "        output.extend(embedder.embed_documents(batch))\n",
    "    return np.array(output)\n",
    "        \n"
   ]
  },
  {
   "cell_type": "code",
   "execution_count": 119,
   "id": "71968d64-3f80-413b-babc-f476efb67b5c",
   "metadata": {
    "tags": []
   },
   "outputs": [],
   "source": [
    "all_functions = get_all_code(code_files)\n",
    "metadatas = [f.metadata for f in all_functions]\n",
    "                             \n",
    "function_names = [f.name for f in all_functions]\n",
    "declarations_and_docstrings = ['\\n'.join([f.declaration, f.docstring]) for f in all_functions]\n",
    "full_functions = [f.code for f in all_functions]\n",
    "\n",
    "all_embedding_texts = [function_names, declarations_and_docstrings, full_functions]\n",
    "\n",
    "save_names = ['function_name', 'declaration_and_docstring', 'full_function']"
   ]
  },
  {
   "cell_type": "code",
   "execution_count": 120,
   "id": "9376b386-1cf9-4909-afaa-7795ba3f517b",
   "metadata": {
    "tags": []
   },
   "outputs": [
    {
     "name": "stdout",
     "output_type": "stream",
     "text": [
      "Total tokens = 157533\n",
      "Total cost = $0.0158\n"
     ]
    }
   ],
   "source": [
    "total_tokens = sum([token_len(text) for texts in all_embedding_texts for text in texts])\n",
    "print(f'Total tokens = {total_tokens}\\nTotal cost = ${total_tokens/1000*0.0001:.4f}')"
   ]
  },
  {
   "cell_type": "code",
   "execution_count": 109,
   "id": "4e675c20-a9d3-40b0-bc6f-3daf106c6f9d",
   "metadata": {
    "tags": []
   },
   "outputs": [
    {
     "name": "stderr",
     "output_type": "stream",
     "text": [
      "0it [00:00, ?it/s]\n",
      "  0%|                                                                        | 0/5 [00:00<?, ?it/s]\u001b[A\n",
      " 20%|████████████▊                                                   | 1/5 [00:01<00:06,  1.71s/it]\u001b[A\n",
      " 40%|█████████████████████████▌                                      | 2/5 [00:07<00:12,  4.14s/it]\u001b[A\n",
      " 60%|██████████████████████████████████████▍                         | 3/5 [00:11<00:08,  4.10s/it]\u001b[A\n",
      " 80%|███████████████████████████████████████████████████▏            | 4/5 [00:14<00:03,  3.46s/it]\u001b[A\n",
      "100%|████████████████████████████████████████████████████████████████| 5/5 [00:18<00:00,  3.72s/it]\u001b[A\n",
      "1it [00:18, 18.69s/it]\n",
      "  0%|                                                                        | 0/5 [00:00<?, ?it/s]\u001b[A\n",
      " 20%|████████████▊                                                   | 1/5 [00:05<00:22,  5.55s/it]\u001b[A\n",
      " 40%|█████████████████████████▌                                      | 2/5 [00:06<00:08,  2.94s/it]\u001b[A\n",
      " 60%|██████████████████████████████████████▍                         | 3/5 [00:07<00:03,  1.93s/it]\u001b[A\n",
      " 80%|███████████████████████████████████████████████████▏            | 4/5 [00:09<00:01,  1.82s/it]\u001b[A\n",
      "100%|████████████████████████████████████████████████████████████████| 5/5 [00:12<00:00,  2.43s/it]\u001b[A\n",
      "2it [00:30, 14.88s/it]\n",
      "  0%|                                                                        | 0/5 [00:00<?, ?it/s]\u001b[A\n",
      " 20%|████████████▊                                                   | 1/5 [00:02<00:11,  2.82s/it]\u001b[A\n",
      " 40%|█████████████████████████▌                                      | 2/5 [00:03<00:05,  1.84s/it]\u001b[A\n",
      " 60%|██████████████████████████████████████▍                         | 3/5 [00:05<00:03,  1.59s/it]\u001b[A\n",
      " 80%|███████████████████████████████████████████████████▏            | 4/5 [00:13<00:04,  4.11s/it]\u001b[A\n",
      "100%|████████████████████████████████████████████████████████████████| 5/5 [00:14<00:00,  2.90s/it]\u001b[A\n",
      "3it [00:45, 15.16s/it]\n"
     ]
    }
   ],
   "source": [
    "from tqdm.auto import tqdm\n",
    "\n",
    "raise Exception(f'Only remove this raise when you really want to regenerate embeddings')\n",
    "\n",
    "embedder = OpenAIEmbeddings()\n",
    "for texts, save_name in tqdm(zip(all_embedding_texts, save_names)):\n",
    "    embeddings = process_texts(embedder, texts, batch_size=100)\n",
    "    np.save(save_name+'_embeddings.npy', embeddings)\n",
    "   "
   ]
  },
  {
   "cell_type": "markdown",
   "id": "225620fe-c570-4797-b11b-46fd0658305b",
   "metadata": {
    "tags": []
   },
   "source": [
    "# Use embeddings to create Vectorstore"
   ]
  },
  {
   "cell_type": "code",
   "execution_count": 121,
   "id": "40b3b6cc-6354-4094-924e-89f15172d965",
   "metadata": {
    "tags": []
   },
   "outputs": [
    {
     "name": "stderr",
     "output_type": "stream",
     "text": [
      "3it [00:00, 48.39it/s]\n"
     ]
    }
   ],
   "source": [
    "from langchain.vectorstores import FAISS\n",
    "\n",
    "for texts, save_name in tqdm(zip(all_embedding_texts, save_names)):\n",
    "    embeddings = np.load(save_name+'_embeddings.npy')\n",
    "    text_embeddings = list(zip(texts, embeddings))\n",
    "    docstore = FAISS.from_embeddings(text_embeddings, embedder, metadatas=metadatas)\n",
    "    docstore.save_local('faiss_dbs', save_name)"
   ]
  },
  {
   "cell_type": "code",
   "execution_count": null,
   "id": "0f911742-841a-45c9-8814-0a235953011d",
   "metadata": {},
   "outputs": [],
   "source": []
  },
  {
   "cell_type": "markdown",
   "id": "a038ec14-d5a3-4ee0-9cbf-e49726f243d0",
   "metadata": {},
   "source": [
    "# Test searching vector DB"
   ]
  },
  {
   "cell_type": "code",
   "execution_count": 117,
   "id": "54e7d800-4db3-40cd-b7be-602a295e3f80",
   "metadata": {
    "tags": []
   },
   "outputs": [],
   "source": [
    "def test_query_db(query, index_name):\n",
    "    docsearch = FAISS.load_local('faiss_dbs', embeddings=embedder, index_name=index_name)\n",
    "    close_docs = docsearch.similarity_search_with_score(query, k=5)\n",
    "    print(f'Found {len(close_docs)} docs')\n",
    "    for doc, score in close_docs:\n",
    "        print(f'Score: {score}\\nMetadata: {doc.metadata}\\nContent: \\n{doc.page_content}\\n\\n')"
   ]
  },
  {
   "cell_type": "code",
   "execution_count": 122,
   "id": "036d0fbd-1034-4279-9c14-e9c11f43eede",
   "metadata": {
    "tags": []
   },
   "outputs": [
    {
     "name": "stdout",
     "output_type": "stream",
     "text": [
      "Found 5 docs\n",
      "Score: 0.1239592656493187\n",
      "Metadata: {'name': 'ScanFastDAC', 'declaration': 'ScanFastDAC(instrID,start,fin,channels,[numptsx,sweeprate,delay,ramprate,repeats,alternate,starts,fins,x_label,y_label,comments,nosave,use_awg,interlaced_channels,interlaced_setpoints])', 'start_line': 329, 'end_line': 412, 'filename': 'Scans', 'docstring': '1D repeat scan for FastDAC\\nNote: to alternate scan direction set alternate=1\\nNote: Ramprate is only for ramping gates between scans'}\n",
      "Content: \n",
      "ScanFastDAC\n",
      "\n",
      "\n",
      "Score: 0.15115290880203247\n",
      "Metadata: {'name': 'ScanFastDacSlow', 'declaration': 'ScanFastDacSlow(instrID,start,fin,channels,numpts,delay,ramprate,[starts,fins,y_label,repeats,alternate,delayy,until_checkwave,until_stop_val,until_operator,comments,nosave])//Units:mV', 'start_line': 415, 'end_line': 515, 'filename': 'Scans', 'docstring': 'sweep one or more FastDAC channels but in the ScanController way (not ScanControllerFastdac). I.e. ramp, measure, ramp, measure...\\nchannels should be a comma-separated string ex: \"0, 4, 5\"'}\n",
      "Content: \n",
      "ScanFastDacSlow\n",
      "\n",
      "\n",
      "Score: 0.15211322903633118\n",
      "Metadata: {'name': 'ScanFastDAC2D', 'declaration': 'ScanFastDAC2D(fdID,startx,finx,channelsx,starty,finy,channelsy,numptsy,[numpts,sweeprate,bdID,fdyID,rampratex,rampratey,delayy,startxs,finxs,startys,finys,comments,nosave,use_AWG,interlaced_channels,interlaced_setpoints])', 'start_line': 696, 'end_line': 830, 'filename': 'Scans', 'docstring': '2D Scan for FastDAC only OR FastDAC on fast axis and BabyDAC on slow axis\\nNote: Must provide numptsx OR sweeprate in optional parameters instead\\nNote: To ramp with babyDAC on slow axis provide the BabyDAC variable in bdID\\nNote: channels should be a comma-separated string ex: \"0,4,5\"'}\n",
      "Content: \n",
      "ScanFastDAC2D\n",
      "\n",
      "\n",
      "Score: 0.1831684559583664\n",
      "Metadata: {'name': 'ScanFastDacSlow2D', 'declaration': 'ScanFastDacSlow2D(instrID,startx,finx,channelsx,numptsx,delayx,starty,finy,channelsy,numptsy,[rampratex,rampratey,delayy,startxs,finxs,startys,finys,comments,nosave])', 'start_line': 518, 'end_line': 575, 'filename': 'Scans', 'docstring': 'sweep one or more FastDAC channels but in the ScanController way (not ScanControllerFastdac). I.e. ramp, measure, ramp, measure...\\nchannels should be a comma-separated string ex: \"0, 4, 5\"'}\n",
      "Content: \n",
      "ScanFastDacSlow2D\n",
      "\n",
      "\n",
      "Score: 0.22288957238197327\n",
      "Metadata: {'name': 'ScanBabyDAC', 'declaration': 'ScanBabyDAC(instrID,start,fin,channels,numpts,delay,[ramprate,starts,fins,repeats,y_label,alternate,comments,nosave])//Units:mV', 'start_line': 67, 'end_line': 114, 'filename': 'Scans', 'docstring': 'sweep one or more babyDAC channels\\nchannels should be a comma-separated string ex: \"0, 4, 5\" or \"LABEL1,LABEL2\"'}\n",
      "Content: \n",
      "ScanBabyDAC\n",
      "\n",
      "\n"
     ]
    }
   ],
   "source": [
    "test_query_db('Scan a fastdac', 'function_name')"
   ]
  },
  {
   "cell_type": "code",
   "execution_count": 124,
   "id": "682b7fc9-c391-460a-b338-f1a12ec98ced",
   "metadata": {
    "tags": []
   },
   "outputs": [
    {
     "name": "stdout",
     "output_type": "stream",
     "text": [
      "Found 5 docs\n",
      "Score: 0.33729317784309387\n",
      "Metadata: {'name': 'RampMultipleFDAC', 'declaration': 'RampMultipleFDAC(InstrID,channels,setpoint,[ramprate,setpoints_str,ignore_lims])', 'start_line': 343, 'end_line': 373, 'filename': 'fastdac', 'docstring': 'Ramps multiple channels to setpoint(s) (this is the ramp function that SHOULD be used)\\nInstrID - FastDAC connection variable (e.g. fd)\\nchannels - comma separated list of channels to sweep\\nsetpoint - Value to sweep channels to (ignored if using setpoints_str)\\nramprate - sweeprate of channels to setpoint mV/s\\nsetpoints_str - comma separated list of setpoints for each channel in channels (setpoint ignored)\\nNote: If ramprate is left default, then each channel will ramp at speed specified in FastDAC window'}\n",
      "Content: \n",
      "RampMultipleFDAC(InstrID,channels,setpoint,[ramprate,setpoints_str,ignore_lims])\n",
      "Ramps multiple channels to setpoint(s) (this is the ramp function that SHOULD be used)\n",
      "InstrID - FastDAC connection variable (e.g. fd)\n",
      "channels - comma separated list of channels to sweep\n",
      "setpoint - Value to sweep channels to (ignored if using setpoints_str)\n",
      "ramprate - sweeprate of channels to setpoint mV/s\n",
      "setpoints_str - comma separated list of setpoints for each channel in channels (setpoint ignored)\n",
      "Note: If ramprate is left default, then each channel will ramp at speed specified in FastDAC window\n",
      "\n",
      "\n",
      "Score: 0.3500780463218689\n",
      "Metadata: {'name': 'scfw_update_all_fdac', 'declaration': 'scfw_update_all_fdac([option])', 'start_line': 4140, 'end_line': 4206, 'filename': 'ScanController', 'docstring': 'Ramps or updates all FastDac outputs'}\n",
      "Content: \n",
      "scfw_update_all_fdac([option])\n",
      "Ramps or updates all FastDac outputs\n",
      "\n",
      "\n",
      "Score: 0.3718809187412262\n",
      "Metadata: {'name': 'ScanFastDacSlow', 'declaration': 'ScanFastDacSlow(instrID,start,fin,channels,numpts,delay,ramprate,[starts,fins,y_label,repeats,alternate,delayy,until_checkwave,until_stop_val,until_operator,comments,nosave])//Units:mV', 'start_line': 415, 'end_line': 515, 'filename': 'Scans', 'docstring': 'sweep one or more FastDAC channels but in the ScanController way (not ScanControllerFastdac). I.e. ramp, measure, ramp, measure...\\nchannels should be a comma-separated string ex: \"0, 4, 5\"'}\n",
      "Content: \n",
      "ScanFastDacSlow(instrID,start,fin,channels,numpts,delay,ramprate,[starts,fins,y_label,repeats,alternate,delayy,until_checkwave,until_stop_val,until_operator,comments,nosave])//Units:mV\n",
      "sweep one or more FastDAC channels but in the ScanController way (not ScanControllerFastdac). I.e. ramp, measure, ramp, measure...\n",
      "channels should be a comma-separated string ex: \"0, 4, 5\"\n",
      "\n",
      "\n",
      "Score: 0.38000231981277466\n",
      "Metadata: {'name': 'ScanFastDAC', 'declaration': 'ScanFastDAC(instrID,start,fin,channels,[numptsx,sweeprate,delay,ramprate,repeats,alternate,starts,fins,x_label,y_label,comments,nosave,use_awg,interlaced_channels,interlaced_setpoints])', 'start_line': 329, 'end_line': 412, 'filename': 'Scans', 'docstring': '1D repeat scan for FastDAC\\nNote: to alternate scan direction set alternate=1\\nNote: Ramprate is only for ramping gates between scans'}\n",
      "Content: \n",
      "ScanFastDAC(instrID,start,fin,channels,[numptsx,sweeprate,delay,ramprate,repeats,alternate,starts,fins,x_label,y_label,comments,nosave,use_awg,interlaced_channels,interlaced_setpoints])\n",
      "1D repeat scan for FastDAC\n",
      "Note: to alternate scan direction set alternate=1\n",
      "Note: Ramprate is only for ramping gates between scans\n",
      "\n",
      "\n",
      "Score: 0.38794374465942383\n",
      "Metadata: {'name': 'initFastDAC', 'declaration': 'initFastDAC()', 'start_line': 3872, 'end_line': 3911, 'filename': 'ScanController', 'docstring': 'use the key:value list \"sc_fdackeys\" to figure out the correct number of\\nDAC/ADC channels to use. \"sc_fdackeys\" is created when calling \"openFastDACconnection\".'}\n",
      "Content: \n",
      "initFastDAC()\n",
      "use the key:value list \"sc_fdackeys\" to figure out the correct number of\n",
      "DAC/ADC channels to use. \"sc_fdackeys\" is created when calling \"openFastDACconnection\".\n",
      "\n",
      "\n"
     ]
    }
   ],
   "source": [
    "test_query_db('ramp multiple fastdacs at once', 'declaration_and_docstring')\n",
    "              "
   ]
  },
  {
   "cell_type": "code",
   "execution_count": 125,
   "id": "9917582b-c1e4-4a2e-b0e9-76f6676e9ba8",
   "metadata": {
    "tags": []
   },
   "outputs": [
    {
     "name": "stdout",
     "output_type": "stream",
     "text": [
      "Found 5 docs\n",
      "Score: 0.3566690683364868\n",
      "Metadata: {'name': 'StepTempScanSomething', 'declaration': 'StepTempScanSomething()', 'start_line': 1762, 'end_line': 1790, 'filename': 'Scans', 'docstring': ''}\n",
      "Content: \n",
      "function StepTempScanSomething()\n",
      " svar ls370\n",
      "\n",
      "\n",
      "\tmake/o targettemps =  {300, 275, 250, 225, 200, 175, 150, 125, 100, 75, 50, 40, 30, 20}\n",
      "\tmake/o heaterranges = {10, 3.1, 3.1, 3.1, 3.1, 3.1, 3.1, 3.1, 3.1, 3.1, 1, 1, 1, 1}\n",
      "\tsetLS370exclusivereader(ls370,\"mc\") \n",
      "\tvariable i=0\n",
      "\tdo\n",
      "\t\tsetLS370Temp(ls370,targettemps[i],maxcurrent = heaterranges[i])\n",
      "\t\tsc_sleep(2.0)\n",
      "\t\tWaitTillTempStable(ls370, targettemps[i], 5, 20, 0.10)\n",
      "\t\tsc_sleep(60.0)\n",
      "\t\tprint \"MEASURE AT: \"+num2str(targettemps[i])+\"mK\"\n",
      "\n",
      "\n",
      "\t\t//SCAN HERE\n",
      "\n",
      "\t\ti+=1\n",
      "\twhile ( i<numpnts(targettemps) )\n",
      "\n",
      "\t// kill temperature control\n",
      "\tsetLS370heaterOff(ls370)\n",
      "\t\n",
      "\tresetLS370exclusivereader(ls370)\n",
      "\tsc_sleep(60.0*30)\n",
      "\n",
      "\t// \tSCAN HERE for base temp\n",
      "\n",
      "\n",
      "\n",
      "Score: 0.4161447286605835\n",
      "Metadata: {'name': 'StepTempScanFunc', 'declaration': 'StepTempScanFunc(sFunc,targettemps,[mag_fields])', 'start_line': 1800, 'end_line': 1857, 'filename': 'Scans', 'docstring': ''}\n",
      "Content: \n",
      "function StepTempScanFunc(sFunc, targettemps, [mag_fields])\n",
      "\tString sFunc // string form of function you want to run\n",
      "\twave targettemps\n",
      "\twave mag_fields\n",
      "\t// Master function for running scans at multiple temps and magnetic fields. Assumes the function has no input parameters.\n",
      "\t// Will run function at set targettemps (including base) and mag_fields\n",
      "\t// EXAMPLE USAGE:: stepTempScanFunc(\"feb17_Scan0to1Peaks_paper\", {500, 300, 100}, mag_fields={70, 2000})\n",
      "   FUNCREF protoFunc_StepTempScan func_to_run = $sFunc\n",
      "\tsvar ls        \n",
      "   \tnvar fd, magz\n",
      "   \t  \t\n",
      "   \tvariable use_mag_field = 0  \t\n",
      "\tif (paramisDefault(mag_fields))\n",
      "\t\tmake/o/free mag_fields = {0}\n",
      "\t\tuse_mag_field = 0\n",
      "\telse\n",
      "\t\tuse_mag_field = 1\n",
      "\tendif\n",
      "\n",
      "\n",
      "\tvariable j = 0\n",
      "   \tfor (j=0;j<numpnts(mag_fields);j++)\n",
      "   \t\tif (use_mag_field) // Only consider ramping field if using mag_fields\n",
      "   \t\t\tif (abs(getls625field(magz) - mag_fields[j]) > 1) // Only ramp and wait if change in field necessary\n",
      "   \t\t\t\tsetls625fieldWait(magz, mag_fields[j])\n",
      "\t   \t\t\tasleep(5*60)\n",
      "\t   \t\tendif\n",
      "   \t\tendif\n",
      "   \t\n",
      "\t\t// Do Low T scan first (if already at low T)\n",
      "\t\tvariable low_t_scanned = 0\n",
      "\t\tif (getls370temp(ls, \"MC\")*1000 < 20)\n",
      "\t\t\tfunc_to_run() //run the function\n",
      "\t\t\tlow_t_scanned = 1\n",
      "\t\tendif\n",
      "\t\tsetLS370exclusivereader(ls,\"mc\")\n",
      "\t   \n",
      "\t    // Scan at current temp   \n",
      "\t\tvariable i=0\n",
      "\t\tfor(i=0;i<numpnts(targettemps);i++)\n",
      "\t\t\tsetLS370temp(ls,targettemps[i])\n",
      "\t\t\tasleep(2.0)\n",
      "\t\t\tWaitTillTempStable(ls, targettemps[i], 5, 30, 0.05)\n",
      "\t\t\tasleep(5*60)\n",
      "\t\t\tprint \"MEASURE AT: \"+num2str(targettemps[i])+\"mK\"\n",
      "\t\t\t\n",
      "\t\t\tfunc_to_run() //run the function\n",
      "\t\tendfor\n",
      "\t\tsetls370heaterOff(ls)\n",
      "\t\tresetls370exclusivereader(ls)\n",
      "\t\t\n",
      "\t\tif (!low_t_scanned)\n",
      "\t\t\tasleep(60*60)\n",
      "\t\t\tfunc_to_run() //run the function\n",
      "\t\tendif\n",
      "\tendfor\t\n",
      "\t\n",
      "\n",
      "\n",
      "\n",
      "Score: 0.42648816108703613\n",
      "Metadata: {'name': 'ScanMultiVarTemplate', 'declaration': 'ScanMultiVarTemplate()', 'start_line': 1705, 'end_line': 1758, 'filename': 'Scans', 'docstring': 'Template loop for varying up to three parameters around any scan\\nnvar fastdac, bd6'}\n",
      "Content: \n",
      "function ScanMultiVarTemplate()\n",
      "\t//Template loop for varying up to three parameters around any scan\n",
      "\t// nvar fastdac, bd6\n",
      "\t\n",
      "\t/////////// Scan Params  ///////////\n",
      "\t// e.g. start, fin, numpts etc... Just easier to put them all here than in one long scan function\n",
      "\t\n",
      "\t\n",
      "\t////////////////////////////////////\n",
      "\t\n",
      "\t\n",
      "\t//////////// Scan Variables to change between scans ////////////////\n",
      "\tmake/o/free Var1 = {0}\n",
      "\tmake/o/free Var2 = {0}\n",
      "\tmake/o/free Var3 = {0}\n",
      "\t////////////////////////////////////////////////////////////////////\n",
      "\t\n",
      "\t\n",
      "\tvariable numi = numpnts(Var1), numj = numpnts(Var2), numk = numpnts(Var3)\n",
      "\tvariable ifin = numi, jfin = numj, kfin = numk\n",
      "\tvariable istart, jstart, kstart\n",
      "\t\n",
      "\t\n",
      "\t/////// Change range of outer scan variables (useful when retaking a few measurements) ////////\n",
      "\t/// Starts\n",
      "\tistart=0; jstart=0; kstart=0\n",
      "\t\n",
      "\t/// Fins\n",
      "\tifin=ifin; jfin=jfin; kfin=kfin\n",
      "\t////////////////////////////////////////////////////////////////////////////////////////////////\n",
      "\t\n",
      "\t\n",
      "\tstring comments\n",
      "\tvariable i, j, k\n",
      "\ti = istart; j=jstart; k=kstart\n",
      "\tfor(k=kstart;k<kfin;k++)  // Loop for change k var 3\n",
      "\t\tkstart = 0  // Reset for next loop if started somewhere in middle\n",
      "\t\t//RAMP VAR 3\n",
      "\t\tfor(j=jstart;j<jfin;j++)\t// Loop for change j var2\n",
      "\t\t\tjstart = 0  // Reset for next loop if started somewhere in middle\n",
      "\t\t\t//RAMP VAR 2\n",
      "\t\t\tfor(i=istart;i<ifin;i++) // Loop for changing i var1 and running scan\n",
      "\t\t\t\tistart = 0  // Reset for next loop if started somewhere in middle\n",
      "\t\t\t\t// RAMP VAR 1\n",
      "\t\t\t\tprintf \"Starting scan at i=%d, j=%d, k=%d, Var1 = %.1fmV, Var2 = %.1fmV, Var3 = %.1fmV\\r\", i, j, k, Var1[i], Var2[j], Var3[k]\n",
      "\t\t\t\tsprintf comments, \"\"\n",
      "\t\t\t\n",
      "\t\t\t\t//SCAN HERE\n",
      "\t\t\t\t\n",
      "\t\t\tendfor\n",
      "\t\tendfor\n",
      "\tendfor\n",
      "\tprint \"Finished all scans\"\n",
      "\n",
      "\n",
      "\n",
      "Score: 0.4710865914821625\n",
      "Metadata: {'name': 'WaitTillTempStable', 'declaration': 'WaitTillTempStable(instrID,targetTmK,times,delay,err)', 'start_line': 704, 'end_line': 734, 'filename': 'ls370_resistancebridge', 'docstring': 'instrID is the lakeshore controller ID\\ntargetmK is the target temperature in mK\\ntimes is the number of readings required to call a temperature stable\\ndelay is the time between readings\\nerr is a percent error that is acceptable in the readings'}\n",
      "Content: \n",
      "function WaitTillTempStable(instrID, targetTmK, times, delay, err)\n",
      "\t// instrID is the lakeshore controller ID\n",
      "\t// targetmK is the target temperature in mK\n",
      "\t// times is the number of readings required to call a temperature stable\n",
      "\t// delay is the time between readings\n",
      "\t// err is a percent error that is acceptable in the readings\n",
      "\tstring instrID\n",
      "\tvariable targetTmK, times, delay, err\n",
      "\tvariable passCount, targetT=targetTmK/1000, currentT = 0\n",
      "\n",
      "\t// check for stable temperature\n",
      "\tprint \"Target temperature: \", targetTmK, \"mK\"\n",
      "\n",
      "\tvariable j = 0\n",
      "\tfor (passCount=0; passCount<times; )\n",
      "\t\tasleep(delay)\n",
      "//\t\tfor (j = 0; j<10; j+=1)\n",
      "//\t\t\tcurrentT += getLS370temp(instrID, \"mc\")/10 // do some averaging\n",
      "//\t\t\tasleep(2.1)\n",
      "//\t\tendfor\n",
      "\t\tcurrentT = getls370temp(instrID, \"mc\")\n",
      "\t\tif (ABS(currentT-targetT) < err*targetT)\n",
      "\t\t\tpassCount+=1\n",
      "\t\t\tprint \"Accepted\", passCount, \" @ \", currentT, \"K\"\n",
      "\t\telse\n",
      "\t\t\tprint \"Rejected\", passCount, \" @ \", currentT, \"K\"\n",
      "\t\t\tpassCount = 0\n",
      "\t\tendif\n",
      "\t\tcurrentT = 0\n",
      "\tendfor\n",
      "\n",
      "\n",
      "\n",
      "Score: 0.4886140823364258\n",
      "Metadata: {'name': 'Scank2400', 'declaration': 'Scank2400(instrID,startx,finx,channelsx,numptsx,delayx,rampratex,[y_label,comments,nosave])//Units:mV', 'start_line': 902, 'end_line': 948, 'filename': 'Scans', 'docstring': ''}\n",
      "Content: \n",
      "function Scank2400(instrID, startx, finx, channelsx, numptsx, delayx, rampratex, [y_label, comments, nosave]) //Units: mV\n",
      "\tvariable instrID, startx, finx, numptsx, delayx, rampratex,  nosave\n",
      "\tstring channelsx, y_label, comments\n",
      "\t//abort \"WARNING: This scan has not been tested with an instrument connected. Remove this abort and test the behavior of the scan before running on a device!\"\n",
      "\t\n",
      "\t// Reconnect instruments\n",
      "\tsc_openinstrconnections(0)\n",
      "\t\n",
      "\t// Set defaults\n",
      "\tcomments = selectstring(paramisdefault(comments), comments, \"\")\n",
      "\ty_label = selectstring(paramisdefault(y_label), y_label, \"\")\n",
      "\t\n",
      "\t// Initialize ScanVars\n",
      "\tstruct ScanVars S\n",
      "\tinitScanVars(S, instrIDx=instrID, startx=startx, finx=finx, channelsx=channelsx, numptsx=numptsx, delayx=delayx, rampratex=rampratex, \\\n",
      "\t \t\t\t\t\t\ty_label=y_label, x_label = \"k2400\", comments=comments)\n",
      "\n",
      "\t// Check software limits and ramprate limits\n",
      "\t// PreScanChecksKeithley(S)  \n",
      "\t\n",
      "\t// Ramp to start without checks because checked above\n",
      "\trampK2400Voltage(S.instrIDx, startx)\n",
      "\t\n",
      "\t// Let gates settle \n",
      "\tsc_sleep(S.delayy*20)\n",
      "\t\n",
      "\t// Make waves and graphs etc\n",
      "\tinitializeScan(S)\n",
      "\n",
      "\t// Main measurement loop\n",
      "\tvariable i=0, setpointx\n",
      "\tdo\n",
      "\t\tsetpointx = S.startx + (i*(S.finx-S.startx)/(S.numptsx-1))\n",
      "//\t\trampK2400Voltage(S.instrIDx, setpointx, ramprate=S.rampratex)\n",
      "\t\tsetK2400Voltage(S.instrIDx, setpointx)\n",
      "\t\tsc_sleep(S.delayx)\n",
      "\t\tRecordValues(S, i, i)\n",
      "\t\ti+=1\n",
      "\twhile (i<S.numptsx)\n",
      "\t\n",
      "\t// Save by default\n",
      "\tif (nosave == 0)\n",
      "\t\tEndScan(S=S)\n",
      "\telse\n",
      "\t\t dowindow /k SweepControl\n",
      "\tendif\n",
      "\n",
      "\n",
      "\n"
     ]
    }
   ],
   "source": [
    "test_query_db('Scan at varying temperatures', 'full_function')"
   ]
  },
  {
   "cell_type": "markdown",
   "id": "fb4c97c8-4350-438e-908e-7cf1071d77ed",
   "metadata": {},
   "source": [
    "# Optional - Test with a very basic QA Chain"
   ]
  },
  {
   "cell_type": "code",
   "execution_count": 50,
   "id": "168087b9-9504-4ab0-8099-f695ac3728dc",
   "metadata": {
    "tags": []
   },
   "outputs": [],
   "source": [
    "# from langchain.chains.question_answering import load_qa_chain\n",
    "# from langchain.llms import OpenAI\n",
    "\n",
    "# llm = OpenAI()\n",
    "# chain = load_qa_chain(llm, chain_type='stuff')  # Stuff all data in at once (Other methods might work better if more context required)\n",
    "\n",
    "# chain.llm_chain.prompt.template\n",
    "\n",
    "# query = \"how do I make a 2D graph?\"\n",
    "# qdocs = docsearch.similarity_search(query)\n",
    "# response = chain.run(input_documents=qdocs, question=query)\n",
    "# response"
   ]
  }
 ],
 "metadata": {
  "kernelspec": {
   "display_name": "Python 3 (ipykernel)",
   "language": "python",
   "name": "python3"
  },
  "language_info": {
   "codemirror_mode": {
    "name": "ipython",
    "version": 3
   },
   "file_extension": ".py",
   "mimetype": "text/x-python",
   "name": "python",
   "nbconvert_exporter": "python",
   "pygments_lexer": "ipython3",
   "version": "3.11.3"
  }
 },
 "nbformat": 4,
 "nbformat_minor": 5
}
