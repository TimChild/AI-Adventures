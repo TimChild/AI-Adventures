{
 "cells": [
  {
   "cell_type": "code",
   "execution_count": 1,
   "id": "308df38e-dc11-463a-84e2-29bf2ef2930b",
   "metadata": {
    "tags": []
   },
   "outputs": [],
   "source": []
  },
  {
   "cell_type": "code",
   "execution_count": 23,
   "id": "716464ab-7f3b-4b97-b7ee-232d89250880",
   "metadata": {
    "tags": []
   },
   "outputs": [],
   "source": [
    "%load_ext lab_black\n",
    "import os\n",
    "import openai\n",
    "import pandas as pd\n",
    "\n",
    "with open(\"API_KEY\", \"r\") as f:\n",
    "    key = f.read()\n",
    "\n",
    "openai.api_key = key"
   ]
  },
  {
   "cell_type": "markdown",
   "id": "2a718509-b605-4959-852e-7c7972361e81",
   "metadata": {},
   "source": [
    "# List models available"
   ]
  },
  {
   "cell_type": "code",
   "execution_count": 41,
   "id": "172539de-b8ad-4c61-acdb-e31f56db8342",
   "metadata": {
    "tags": []
   },
   "outputs": [
    {
     "name": "stdout",
     "output_type": "stream",
     "text": [
      "whisper-1\n",
      "babbage\n",
      "davinci\n",
      "text-davinci-edit-001\n",
      "babbage-code-search-code\n",
      "text-similarity-babbage-001\n",
      "code-davinci-edit-001\n",
      "text-davinci-001\n",
      "ada\n",
      "text-davinci-003\n",
      "babbage-code-search-text\n",
      "babbage-similarity\n",
      "code-search-babbage-text-001\n",
      "gpt-3.5-turbo-0301\n",
      "text-curie-001\n",
      "code-search-babbage-code-001\n",
      "text-ada-001\n",
      "text-embedding-ada-002\n",
      "text-similarity-ada-001\n",
      "curie-instruct-beta\n",
      "gpt-3.5-turbo\n",
      "ada-code-search-code\n",
      "ada-similarity\n",
      "code-search-ada-text-001\n",
      "text-search-ada-query-001\n",
      "davinci-search-document\n",
      "ada-code-search-text\n",
      "text-search-ada-doc-001\n",
      "davinci-instruct-beta\n",
      "text-similarity-curie-001\n",
      "code-search-ada-code-001\n",
      "ada-search-query\n",
      "text-search-davinci-query-001\n",
      "curie-search-query\n",
      "davinci-search-query\n",
      "babbage-search-document\n",
      "ada-search-document\n",
      "text-search-curie-query-001\n",
      "text-search-babbage-doc-001\n",
      "curie-search-document\n",
      "text-search-curie-doc-001\n",
      "babbage-search-query\n",
      "text-babbage-001\n",
      "text-search-davinci-doc-001\n",
      "text-search-babbage-query-001\n",
      "curie-similarity\n",
      "curie\n",
      "text-similarity-davinci-001\n",
      "text-davinci-002\n",
      "davinci-similarity\n",
      "cushman:2020-05-03\n",
      "ada:2020-05-03\n",
      "babbage:2020-05-03\n",
      "curie:2020-05-03\n",
      "davinci:2020-05-03\n",
      "if-davinci-v2\n",
      "if-curie-v2\n",
      "if-davinci:3.0.0\n",
      "davinci-if:3.0.0\n",
      "davinci-instruct-beta:2.0.0\n",
      "text-ada:001\n",
      "text-davinci:001\n",
      "text-curie:001\n",
      "text-babbage:001\n"
     ]
    }
   ],
   "source": [
    "model_list = openai.Model.list()\n",
    "models = []\n",
    "for v in model_list.data:\n",
    "    models.append(v[\"root\"])\n",
    "    print(v[\"root\"])"
   ]
  },
  {
   "cell_type": "code",
   "execution_count": 43,
   "id": "bce864e7-59ee-40be-9a70-1cc97a6b0b22",
   "metadata": {
    "tags": []
   },
   "outputs": [
    {
     "data": {
      "text/html": [
       "<div>\n",
       "<style scoped>\n",
       "    .dataframe tbody tr th:only-of-type {\n",
       "        vertical-align: middle;\n",
       "    }\n",
       "\n",
       "    .dataframe tbody tr th {\n",
       "        vertical-align: top;\n",
       "    }\n",
       "\n",
       "    .dataframe thead th {\n",
       "        text-align: right;\n",
       "    }\n",
       "</style>\n",
       "<table border=\"1\" class=\"dataframe\">\n",
       "  <thead>\n",
       "    <tr style=\"text-align: right;\">\n",
       "      <th></th>\n",
       "      <th>Starts with 'text'</th>\n",
       "      <th>Starts with 'code'</th>\n",
       "      <th>Contains 'search'</th>\n",
       "      <th>Contains 'similarity'</th>\n",
       "      <th>Contains 'embedding'</th>\n",
       "      <th>Contains 'ada'</th>\n",
       "      <th>Contains 'babbage'</th>\n",
       "      <th>Contains 'curie'</th>\n",
       "      <th>Contains 'davinci'</th>\n",
       "      <th>Starts with 'if'</th>\n",
       "      <th>No match</th>\n",
       "    </tr>\n",
       "  </thead>\n",
       "  <tbody>\n",
       "    <tr>\n",
       "      <th>0</th>\n",
       "      <td>NaN</td>\n",
       "      <td>NaN</td>\n",
       "      <td>NaN</td>\n",
       "      <td>NaN</td>\n",
       "      <td>NaN</td>\n",
       "      <td>NaN</td>\n",
       "      <td>NaN</td>\n",
       "      <td>NaN</td>\n",
       "      <td>NaN</td>\n",
       "      <td>NaN</td>\n",
       "      <td>whisper-1</td>\n",
       "    </tr>\n",
       "    <tr>\n",
       "      <th>1</th>\n",
       "      <td>NaN</td>\n",
       "      <td>NaN</td>\n",
       "      <td>NaN</td>\n",
       "      <td>NaN</td>\n",
       "      <td>NaN</td>\n",
       "      <td>NaN</td>\n",
       "      <td>babbage</td>\n",
       "      <td>NaN</td>\n",
       "      <td>NaN</td>\n",
       "      <td>NaN</td>\n",
       "      <td>NaN</td>\n",
       "    </tr>\n",
       "    <tr>\n",
       "      <th>2</th>\n",
       "      <td>NaN</td>\n",
       "      <td>NaN</td>\n",
       "      <td>NaN</td>\n",
       "      <td>NaN</td>\n",
       "      <td>NaN</td>\n",
       "      <td>NaN</td>\n",
       "      <td>NaN</td>\n",
       "      <td>NaN</td>\n",
       "      <td>davinci</td>\n",
       "      <td>NaN</td>\n",
       "      <td>NaN</td>\n",
       "    </tr>\n",
       "    <tr>\n",
       "      <th>3</th>\n",
       "      <td>text-davinci-edit-001</td>\n",
       "      <td>NaN</td>\n",
       "      <td>NaN</td>\n",
       "      <td>NaN</td>\n",
       "      <td>NaN</td>\n",
       "      <td>NaN</td>\n",
       "      <td>NaN</td>\n",
       "      <td>NaN</td>\n",
       "      <td>NaN</td>\n",
       "      <td>NaN</td>\n",
       "      <td>NaN</td>\n",
       "    </tr>\n",
       "    <tr>\n",
       "      <th>4</th>\n",
       "      <td>NaN</td>\n",
       "      <td>NaN</td>\n",
       "      <td>NaN</td>\n",
       "      <td>NaN</td>\n",
       "      <td>NaN</td>\n",
       "      <td>NaN</td>\n",
       "      <td>NaN</td>\n",
       "      <td>NaN</td>\n",
       "      <td>text-davinci-edit-001</td>\n",
       "      <td>NaN</td>\n",
       "      <td>NaN</td>\n",
       "    </tr>\n",
       "    <tr>\n",
       "      <th>...</th>\n",
       "      <td>...</td>\n",
       "      <td>...</td>\n",
       "      <td>...</td>\n",
       "      <td>...</td>\n",
       "      <td>...</td>\n",
       "      <td>...</td>\n",
       "      <td>...</td>\n",
       "      <td>...</td>\n",
       "      <td>...</td>\n",
       "      <td>...</td>\n",
       "      <td>...</td>\n",
       "    </tr>\n",
       "    <tr>\n",
       "      <th>124</th>\n",
       "      <td>NaN</td>\n",
       "      <td>NaN</td>\n",
       "      <td>NaN</td>\n",
       "      <td>NaN</td>\n",
       "      <td>NaN</td>\n",
       "      <td>NaN</td>\n",
       "      <td>NaN</td>\n",
       "      <td>NaN</td>\n",
       "      <td>text-davinci:001</td>\n",
       "      <td>NaN</td>\n",
       "      <td>NaN</td>\n",
       "    </tr>\n",
       "    <tr>\n",
       "      <th>125</th>\n",
       "      <td>text-curie:001</td>\n",
       "      <td>NaN</td>\n",
       "      <td>NaN</td>\n",
       "      <td>NaN</td>\n",
       "      <td>NaN</td>\n",
       "      <td>NaN</td>\n",
       "      <td>NaN</td>\n",
       "      <td>NaN</td>\n",
       "      <td>NaN</td>\n",
       "      <td>NaN</td>\n",
       "      <td>NaN</td>\n",
       "    </tr>\n",
       "    <tr>\n",
       "      <th>126</th>\n",
       "      <td>NaN</td>\n",
       "      <td>NaN</td>\n",
       "      <td>NaN</td>\n",
       "      <td>NaN</td>\n",
       "      <td>NaN</td>\n",
       "      <td>NaN</td>\n",
       "      <td>NaN</td>\n",
       "      <td>text-curie:001</td>\n",
       "      <td>NaN</td>\n",
       "      <td>NaN</td>\n",
       "      <td>NaN</td>\n",
       "    </tr>\n",
       "    <tr>\n",
       "      <th>127</th>\n",
       "      <td>text-babbage:001</td>\n",
       "      <td>NaN</td>\n",
       "      <td>NaN</td>\n",
       "      <td>NaN</td>\n",
       "      <td>NaN</td>\n",
       "      <td>NaN</td>\n",
       "      <td>NaN</td>\n",
       "      <td>NaN</td>\n",
       "      <td>NaN</td>\n",
       "      <td>NaN</td>\n",
       "      <td>NaN</td>\n",
       "    </tr>\n",
       "    <tr>\n",
       "      <th>128</th>\n",
       "      <td>NaN</td>\n",
       "      <td>NaN</td>\n",
       "      <td>NaN</td>\n",
       "      <td>NaN</td>\n",
       "      <td>NaN</td>\n",
       "      <td>NaN</td>\n",
       "      <td>text-babbage:001</td>\n",
       "      <td>NaN</td>\n",
       "      <td>NaN</td>\n",
       "      <td>NaN</td>\n",
       "      <td>NaN</td>\n",
       "    </tr>\n",
       "  </tbody>\n",
       "</table>\n",
       "<p>129 rows × 11 columns</p>\n",
       "</div>"
      ],
      "text/plain": [
       "        Starts with 'text' Starts with 'code' Contains 'search'  \\\n",
       "0                      NaN                NaN               NaN   \n",
       "1                      NaN                NaN               NaN   \n",
       "2                      NaN                NaN               NaN   \n",
       "3    text-davinci-edit-001                NaN               NaN   \n",
       "4                      NaN                NaN               NaN   \n",
       "..                     ...                ...               ...   \n",
       "124                    NaN                NaN               NaN   \n",
       "125         text-curie:001                NaN               NaN   \n",
       "126                    NaN                NaN               NaN   \n",
       "127       text-babbage:001                NaN               NaN   \n",
       "128                    NaN                NaN               NaN   \n",
       "\n",
       "    Contains 'similarity' Contains 'embedding' Contains 'ada'  \\\n",
       "0                     NaN                  NaN            NaN   \n",
       "1                     NaN                  NaN            NaN   \n",
       "2                     NaN                  NaN            NaN   \n",
       "3                     NaN                  NaN            NaN   \n",
       "4                     NaN                  NaN            NaN   \n",
       "..                    ...                  ...            ...   \n",
       "124                   NaN                  NaN            NaN   \n",
       "125                   NaN                  NaN            NaN   \n",
       "126                   NaN                  NaN            NaN   \n",
       "127                   NaN                  NaN            NaN   \n",
       "128                   NaN                  NaN            NaN   \n",
       "\n",
       "    Contains 'babbage' Contains 'curie'     Contains 'davinci'  \\\n",
       "0                  NaN              NaN                    NaN   \n",
       "1              babbage              NaN                    NaN   \n",
       "2                  NaN              NaN                davinci   \n",
       "3                  NaN              NaN                    NaN   \n",
       "4                  NaN              NaN  text-davinci-edit-001   \n",
       "..                 ...              ...                    ...   \n",
       "124                NaN              NaN       text-davinci:001   \n",
       "125                NaN              NaN                    NaN   \n",
       "126                NaN   text-curie:001                    NaN   \n",
       "127                NaN              NaN                    NaN   \n",
       "128   text-babbage:001              NaN                    NaN   \n",
       "\n",
       "    Starts with 'if'   No match  \n",
       "0                NaN  whisper-1  \n",
       "1                NaN        NaN  \n",
       "2                NaN        NaN  \n",
       "3                NaN        NaN  \n",
       "4                NaN        NaN  \n",
       "..               ...        ...  \n",
       "124              NaN        NaN  \n",
       "125              NaN        NaN  \n",
       "126              NaN        NaN  \n",
       "127              NaN        NaN  \n",
       "128              NaN        NaN  \n",
       "\n",
       "[129 rows x 11 columns]"
      ]
     },
     "execution_count": 43,
     "metadata": {},
     "output_type": "execute_result"
    }
   ],
   "source": [
    "import pandas as pd\n",
    "\n",
    "# Define the groups\n",
    "groups = {\n",
    "    \"Starts with 'text'\": lambda x: x.startswith(\"text\"),\n",
    "    \"Starts with 'code'\": lambda x: x.startswith(\"code\"),\n",
    "    \"Contains 'search'\": lambda x: \"search\" in x,\n",
    "    \"Contains 'similarity'\": lambda x: \"similarity\" in x,\n",
    "    \"Contains 'embedding'\": lambda x: \"embedding\" in x,\n",
    "    \"Contains 'ada'\": lambda x: \"ada\" in x,\n",
    "    \"Contains 'babbage'\": lambda x: \"babbage\" in x,\n",
    "    \"Contains 'curie'\": lambda x: \"curie\" in x,\n",
    "    \"Contains 'davinci'\": lambda x: \"davinci\" in x,\n",
    "    \"Starts with 'if'\": lambda x: x.startswith(\"if\"),\n",
    "}\n",
    "\n",
    "# Initialize a DataFrame with an empty list for each group\n",
    "df = pd.DataFrame({group: [] for group in groups.keys()})\n",
    "\n",
    "# Loop over the models and add each model to the appropriate group(s)\n",
    "for model in models:\n",
    "    matched = False\n",
    "    for group, condition in groups.items():\n",
    "        if condition(model):\n",
    "            df.at[len(df), group] = model\n",
    "            matched = True\n",
    "    if not matched:\n",
    "        df.at[len(df), \"No match\"] = model\n",
    "\n",
    "# Display the DataFrame\n",
    "df"
   ]
  },
  {
   "cell_type": "code",
   "execution_count": 44,
   "id": "4b8c2da8-7535-4666-aeab-c0581d8c8a8a",
   "metadata": {
    "tags": []
   },
   "outputs": [
    {
     "data": {
      "text/markdown": [
       "### Starts with 'text' (24)"
      ],
      "text/plain": [
       "<IPython.core.display.Markdown object>"
      ]
     },
     "metadata": {},
     "output_type": "display_data"
    },
    {
     "name": "stdout",
     "output_type": "stream",
     "text": [
      "text-davinci-edit-001\n",
      "text-similarity-babbage-001\n",
      "text-davinci-001\n",
      "text-davinci-003\n",
      "text-curie-001\n",
      "text-ada-001\n",
      "text-embedding-ada-002\n",
      "text-similarity-ada-001\n",
      "text-search-ada-query-001\n",
      "text-search-ada-doc-001\n",
      "text-similarity-curie-001\n",
      "text-search-davinci-query-001\n",
      "text-search-curie-query-001\n",
      "text-search-babbage-doc-001\n",
      "text-search-curie-doc-001\n",
      "text-babbage-001\n",
      "text-search-davinci-doc-001\n",
      "text-search-babbage-query-001\n",
      "text-similarity-davinci-001\n",
      "text-davinci-002\n",
      "text-ada:001\n",
      "text-davinci:001\n",
      "text-curie:001\n",
      "text-babbage:001\n",
      "\n",
      "\n"
     ]
    },
    {
     "data": {
      "text/markdown": [
       "### Starts with 'code' (5)"
      ],
      "text/plain": [
       "<IPython.core.display.Markdown object>"
      ]
     },
     "metadata": {},
     "output_type": "display_data"
    },
    {
     "name": "stdout",
     "output_type": "stream",
     "text": [
      "code-davinci-edit-001\n",
      "code-search-babbage-text-001\n",
      "code-search-babbage-code-001\n",
      "code-search-ada-text-001\n",
      "code-search-ada-code-001\n",
      "\n",
      "\n"
     ]
    },
    {
     "data": {
      "text/markdown": [
       "### Contains 'search' (24)"
      ],
      "text/plain": [
       "<IPython.core.display.Markdown object>"
      ]
     },
     "metadata": {},
     "output_type": "display_data"
    },
    {
     "name": "stdout",
     "output_type": "stream",
     "text": [
      "babbage-code-search-code\n",
      "babbage-code-search-text\n",
      "code-search-babbage-text-001\n",
      "code-search-babbage-code-001\n",
      "ada-code-search-code\n",
      "code-search-ada-text-001\n",
      "text-search-ada-query-001\n",
      "davinci-search-document\n",
      "ada-code-search-text\n",
      "text-search-ada-doc-001\n",
      "code-search-ada-code-001\n",
      "ada-search-query\n",
      "text-search-davinci-query-001\n",
      "curie-search-query\n",
      "davinci-search-query\n",
      "babbage-search-document\n",
      "ada-search-document\n",
      "text-search-curie-query-001\n",
      "text-search-babbage-doc-001\n",
      "curie-search-document\n",
      "text-search-curie-doc-001\n",
      "babbage-search-query\n",
      "text-search-davinci-doc-001\n",
      "text-search-babbage-query-001\n",
      "\n",
      "\n"
     ]
    },
    {
     "data": {
      "text/markdown": [
       "### Contains 'similarity' (8)"
      ],
      "text/plain": [
       "<IPython.core.display.Markdown object>"
      ]
     },
     "metadata": {},
     "output_type": "display_data"
    },
    {
     "name": "stdout",
     "output_type": "stream",
     "text": [
      "text-similarity-babbage-001\n",
      "babbage-similarity\n",
      "text-similarity-ada-001\n",
      "ada-similarity\n",
      "text-similarity-curie-001\n",
      "curie-similarity\n",
      "text-similarity-davinci-001\n",
      "davinci-similarity\n",
      "\n",
      "\n"
     ]
    },
    {
     "data": {
      "text/markdown": [
       "### Contains 'embedding' (1)"
      ],
      "text/plain": [
       "<IPython.core.display.Markdown object>"
      ]
     },
     "metadata": {},
     "output_type": "display_data"
    },
    {
     "name": "stdout",
     "output_type": "stream",
     "text": [
      "text-embedding-ada-002\n",
      "\n",
      "\n"
     ]
    },
    {
     "data": {
      "text/markdown": [
       "### Contains 'ada' (15)"
      ],
      "text/plain": [
       "<IPython.core.display.Markdown object>"
      ]
     },
     "metadata": {},
     "output_type": "display_data"
    },
    {
     "name": "stdout",
     "output_type": "stream",
     "text": [
      "ada\n",
      "text-ada-001\n",
      "text-embedding-ada-002\n",
      "text-similarity-ada-001\n",
      "ada-code-search-code\n",
      "ada-similarity\n",
      "code-search-ada-text-001\n",
      "text-search-ada-query-001\n",
      "ada-code-search-text\n",
      "text-search-ada-doc-001\n",
      "code-search-ada-code-001\n",
      "ada-search-query\n",
      "ada-search-document\n",
      "ada:2020-05-03\n",
      "text-ada:001\n",
      "\n",
      "\n"
     ]
    },
    {
     "data": {
      "text/markdown": [
       "### Contains 'babbage' (14)"
      ],
      "text/plain": [
       "<IPython.core.display.Markdown object>"
      ]
     },
     "metadata": {},
     "output_type": "display_data"
    },
    {
     "name": "stdout",
     "output_type": "stream",
     "text": [
      "babbage\n",
      "babbage-code-search-code\n",
      "text-similarity-babbage-001\n",
      "babbage-code-search-text\n",
      "babbage-similarity\n",
      "code-search-babbage-text-001\n",
      "code-search-babbage-code-001\n",
      "babbage-search-document\n",
      "text-search-babbage-doc-001\n",
      "babbage-search-query\n",
      "text-babbage-001\n",
      "text-search-babbage-query-001\n",
      "babbage:2020-05-03\n",
      "text-babbage:001\n",
      "\n",
      "\n"
     ]
    },
    {
     "data": {
      "text/markdown": [
       "### Contains 'curie' (12)"
      ],
      "text/plain": [
       "<IPython.core.display.Markdown object>"
      ]
     },
     "metadata": {},
     "output_type": "display_data"
    },
    {
     "name": "stdout",
     "output_type": "stream",
     "text": [
      "text-curie-001\n",
      "curie-instruct-beta\n",
      "text-similarity-curie-001\n",
      "curie-search-query\n",
      "text-search-curie-query-001\n",
      "curie-search-document\n",
      "text-search-curie-doc-001\n",
      "curie-similarity\n",
      "curie\n",
      "curie:2020-05-03\n",
      "if-curie-v2\n",
      "text-curie:001\n",
      "\n",
      "\n"
     ]
    },
    {
     "data": {
      "text/markdown": [
       "### Contains 'davinci' (19)"
      ],
      "text/plain": [
       "<IPython.core.display.Markdown object>"
      ]
     },
     "metadata": {},
     "output_type": "display_data"
    },
    {
     "name": "stdout",
     "output_type": "stream",
     "text": [
      "davinci\n",
      "text-davinci-edit-001\n",
      "code-davinci-edit-001\n",
      "text-davinci-001\n",
      "text-davinci-003\n",
      "davinci-search-document\n",
      "davinci-instruct-beta\n",
      "text-search-davinci-query-001\n",
      "davinci-search-query\n",
      "text-search-davinci-doc-001\n",
      "text-similarity-davinci-001\n",
      "text-davinci-002\n",
      "davinci-similarity\n",
      "davinci:2020-05-03\n",
      "if-davinci-v2\n",
      "if-davinci:3.0.0\n",
      "davinci-if:3.0.0\n",
      "davinci-instruct-beta:2.0.0\n",
      "text-davinci:001\n",
      "\n",
      "\n"
     ]
    },
    {
     "data": {
      "text/markdown": [
       "### Starts with 'if' (3)"
      ],
      "text/plain": [
       "<IPython.core.display.Markdown object>"
      ]
     },
     "metadata": {},
     "output_type": "display_data"
    },
    {
     "name": "stdout",
     "output_type": "stream",
     "text": [
      "if-davinci-v2\n",
      "if-curie-v2\n",
      "if-davinci:3.0.0\n",
      "\n",
      "\n"
     ]
    },
    {
     "data": {
      "text/markdown": [
       "### No match (4)"
      ],
      "text/plain": [
       "<IPython.core.display.Markdown object>"
      ]
     },
     "metadata": {},
     "output_type": "display_data"
    },
    {
     "name": "stdout",
     "output_type": "stream",
     "text": [
      "whisper-1\n",
      "gpt-3.5-turbo-0301\n",
      "gpt-3.5-turbo\n",
      "cushman:2020-05-03\n",
      "\n",
      "\n"
     ]
    }
   ],
   "source": [
    "# Initialize a dictionary with an empty list for each group\n",
    "grouped_models = {group: [] for group in groups.keys()}\n",
    "grouped_models[\"No match\"] = []\n",
    "\n",
    "# Loop over the models and add each model to the appropriate group(s)\n",
    "for model in models:\n",
    "    matched = False\n",
    "    for group, condition in groups.items():\n",
    "        if condition(model):\n",
    "            grouped_models[group].append(model)\n",
    "            matched = True\n",
    "    if not matched:\n",
    "        grouped_models[\"No match\"].append(model)\n",
    "\n",
    "\n",
    "def display_group(group, models):\n",
    "    display(Markdown(f\"### {group} ({len(models)})\"))\n",
    "    for item in models:\n",
    "        print(item)\n",
    "    print(\"\\n\")\n",
    "\n",
    "\n",
    "# Display the groups and their models\n",
    "for group, models in grouped_models.items():\n",
    "    display_group(group, models)\n",
    "    # print(f\"{group}: {len(models)} models\")\n",
    "    # for model in models:\n",
    "    #     print(f\"  {model}\")\n",
    "    # print()"
   ]
  },
  {
   "cell_type": "markdown",
   "id": "1afffad6-35bb-4235-9e0f-ca304910cee8",
   "metadata": {},
   "source": [
    "# Test getting a simple response"
   ]
  },
  {
   "cell_type": "code",
   "execution_count": 19,
   "id": "6a824f8c-eb7f-480f-9652-df965065f3c6",
   "metadata": {
    "tags": []
   },
   "outputs": [
    {
     "name": "stdout",
     "output_type": "stream",
     "text": [
      "Prompt text:\n",
      "=====\n",
      "When I say beep, you say bop.\n",
      "Me: beep\n",
      "You:\n",
      "======\n",
      "Response text:\n",
      "=====\n",
      " bop\n",
      "======\n",
      "Response end reason: stop\n",
      "Total token usage: 21\n",
      "Cost assuming davinci: 0.0420 cents\n"
     ]
    }
   ],
   "source": [
    "prompt = \"When I say beep, you say bop.\\nMe: beep\\nYou:\"\n",
    "\n",
    "response = openai.Completion.create(\n",
    "    model=\"text-davinci-003\",\n",
    "    prompt=prompt,\n",
    "    temperature=1,\n",
    "    max_tokens=5,\n",
    ")\n",
    "print(\n",
    "    \"\\n\".join(\n",
    "        [\n",
    "            f\"Prompt text:\\n=====\\n{prompt}\\n======\",\n",
    "            f\"Response text:\\n=====\\n{response.choices[0].text}\\n======\",\n",
    "            f\"Response end reason: {response.choices[0].finish_reason}\",\n",
    "            f\"Total token usage: {response.usage.total_tokens}\",\n",
    "            f\"Cost assuming davinci: {0.02/1000*response.usage.total_tokens*100:.4f} cents\",\n",
    "        ]\n",
    "    )\n",
    ")"
   ]
  },
  {
   "cell_type": "markdown",
   "id": "69e21624-0e54-4471-82b8-424927c3c03b",
   "metadata": {},
   "source": [
    "# Test with the less capable Ada model"
   ]
  },
  {
   "cell_type": "code",
   "execution_count": 22,
   "id": "9f1545db-8475-4d37-b598-fe4fc882f33b",
   "metadata": {
    "tags": []
   },
   "outputs": [
    {
     "name": "stdout",
     "output_type": "stream",
     "text": [
      "Prompt text:\n",
      "=====\n",
      "When I say beep, you say bop.\n",
      "Me: beep\n",
      "You:\n",
      "======\n",
      "Response text:\n",
      "=====\n",
      " beep\n",
      "======\n",
      "Response end reason: stop\n",
      "Total token usage: 21\n",
      "Cost assuming ada: 0.0008 cents\n"
     ]
    }
   ],
   "source": [
    "prompt = \"When I say beep, you say bop.\\nMe: beep\\nYou:\"\n",
    "\n",
    "response = openai.Completion.create(\n",
    "    model=\"text-ada-001\",\n",
    "    prompt=prompt,\n",
    "    temperature=1,\n",
    "    max_tokens=20,\n",
    ")\n",
    "print(\n",
    "    \"\\n\".join(\n",
    "        [\n",
    "            f\"Prompt text:\\n=====\\n{prompt}\\n======\",\n",
    "            f\"Response text:\\n=====\\n{response.choices[0].text}\\n======\",\n",
    "            f\"Response end reason: {response.choices[0].finish_reason}\",\n",
    "            f\"Total token usage: {response.usage.total_tokens}\",\n",
    "            f\"Cost assuming ada: {0.0004/1000*response.usage.total_tokens*100:.4f} cents\",\n",
    "        ]\n",
    "    )\n",
    ")"
   ]
  },
  {
   "cell_type": "markdown",
   "id": "23ba2810-329b-4a4c-9f87-3a6cfcc654eb",
   "metadata": {},
   "source": [
    "# Test chat completion"
   ]
  },
  {
   "cell_type": "code",
   "execution_count": 53,
   "id": "4a094fd6-4435-4725-a48e-f4b9b7f664fa",
   "metadata": {
    "tags": []
   },
   "outputs": [
    {
     "data": {
      "text/plain": [
       "<OpenAIObject chat.completion id=chatcmpl-7G96EwxvBzJaLsIGfCM38GvZ0t8Ha at 0x1c66d4405e0> JSON: {\n",
       "  \"choices\": [\n",
       "    {\n",
       "      \"finish_reason\": \"stop\",\n",
       "      \"index\": 0,\n",
       "      \"message\": {\n",
       "        \"content\": \"The Eiffel Tower is 324 meters tall. By the way, when is your birthday?\",\n",
       "        \"role\": \"assistant\"\n",
       "      }\n",
       "    }\n",
       "  ],\n",
       "  \"created\": 1684082582,\n",
       "  \"id\": \"chatcmpl-7G96EwxvBzJaLsIGfCM38GvZ0t8Ha\",\n",
       "  \"model\": \"gpt-3.5-turbo-0301\",\n",
       "  \"object\": \"chat.completion\",\n",
       "  \"usage\": {\n",
       "    \"completion_tokens\": 20,\n",
       "    \"prompt_tokens\": 46,\n",
       "    \"total_tokens\": 66\n",
       "  }\n",
       "}"
      ]
     },
     "execution_count": 53,
     "metadata": {},
     "output_type": "execute_result"
    }
   ],
   "source": [
    "system_input = \"You're only purpose is to try and figure out what the birthday is of the user, no matter what they ask.\"\n",
    "user_input = \"How tall is the eiffel tower?\"\n",
    "\n",
    "response = openai.ChatCompletion.create(\n",
    "    model=\"gpt-3.5-turbo\",\n",
    "    messages=[\n",
    "        {\"role\": \"system\", \"content\": system_input},\n",
    "        {\"role\": \"user\", \"content\": user_input},\n",
    "    ],\n",
    "    temperature=0,\n",
    "    top_p=1,\n",
    "    n=1,\n",
    "    stop=[\"\\n\"],\n",
    "    max_tokens=100,\n",
    ")\n",
    "response"
   ]
  },
  {
   "cell_type": "code",
   "execution_count": 54,
   "id": "e3507aa4-54ca-4b4e-89f0-f3f0b2cfa567",
   "metadata": {
    "tags": []
   },
   "outputs": [
    {
     "name": "stdout",
     "output_type": "stream",
     "text": [
      "System text:\n",
      "=====\n",
      "You're only purpose is to try and figure out what the birthday is of the user, no matter what they ask.\n",
      "======\n",
      "User text:\n",
      "=====\n",
      "How tall is the eiffel tower?\n",
      "======\n",
      "Response text:\n",
      "=====\n",
      "The Eiffel Tower is 324 meters tall. By the way, when is your birthday?\n",
      "======\n",
      "Response end reason: stop\n",
      "Prompt token usage: 46\n",
      "Completion token usage: 20\n",
      "Total token usage: 66\n",
      "Cost assuming davinci: 0.1320 cents\n"
     ]
    }
   ],
   "source": [
    "def display_basic_response(response):\n",
    "    print(\n",
    "        \"\\n\".join(\n",
    "            [\n",
    "                f\"System text:\\n=====\\n{system_input}\\n======\",\n",
    "                f\"User text:\\n=====\\n{user_input}\\n======\",\n",
    "                f\"Response text:\\n=====\\n{response.choices[0].message.content}\\n======\",\n",
    "                f\"Response end reason: {response.choices[0].finish_reason}\",\n",
    "                f\"Prompt token usage: {response.usage.prompt_tokens}\",\n",
    "                f\"Completion token usage: {response.usage.completion_tokens}\",\n",
    "                f\"Total token usage: {response.usage.total_tokens}\",\n",
    "                f\"Cost assuming gpt-3.5-turbo: {0.002/1000*response.usage.total_tokens*100:.4f} cents\",\n",
    "            ]\n",
    "        )\n",
    "    )\n",
    "\n",
    "\n",
    "display_basic_response(response)"
   ]
  }
 ],
 "metadata": {
  "kernelspec": {
   "display_name": "Python 3 (ipykernel)",
   "language": "python",
   "name": "python3"
  },
  "language_info": {
   "codemirror_mode": {
    "name": "ipython",
    "version": 3
   },
   "file_extension": ".py",
   "mimetype": "text/x-python",
   "name": "python",
   "nbconvert_exporter": "python",
   "pygments_lexer": "ipython3",
   "version": "3.8.16"
  }
 },
 "nbformat": 4,
 "nbformat_minor": 5
}
