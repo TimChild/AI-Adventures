{
 "cells": [
  {
   "cell_type": "code",
   "execution_count": 2,
   "id": "76f93d4a-1fa2-4e89-af52-de2725aceb6c",
   "metadata": {
    "tags": []
   },
   "outputs": [],
   "source": [
    "%load_ext lab_black"
   ]
  },
  {
   "cell_type": "code",
   "execution_count": 9,
   "id": "299118a8-118b-4e71-b832-3aecb7facfba",
   "metadata": {
    "tags": []
   },
   "outputs": [
    {
     "name": "stdout",
     "output_type": "stream",
     "text": [
      "Collecting google-search-results\n",
      "  Downloading google_search_results-2.4.2.tar.gz (18 kB)\n",
      "  Preparing metadata (setup.py): started\n",
      "  Preparing metadata (setup.py): finished with status 'done'\n",
      "Requirement already satisfied: requests in c:\\users\\child\\appdata\\roaming\\python\\python38\\site-packages (from google-search-results) (2.30.0)\n",
      "Requirement already satisfied: certifi>=2017.4.17 in c:\\users\\child\\.conda\\envs\\gpt\\lib\\site-packages (from requests->google-search-results) (2023.5.7)\n",
      "Requirement already satisfied: idna<4,>=2.5 in c:\\users\\child\\.conda\\envs\\gpt\\lib\\site-packages (from requests->google-search-results) (3.3)\n",
      "Requirement already satisfied: charset-normalizer<4,>=2 in c:\\users\\child\\.conda\\envs\\gpt\\lib\\site-packages (from requests->google-search-results) (2.0.7)\n",
      "Requirement already satisfied: urllib3<3,>=1.21.1 in c:\\users\\child\\.conda\\envs\\gpt\\lib\\site-packages (from requests->google-search-results) (1.26.7)\n",
      "Building wheels for collected packages: google-search-results\n",
      "  Building wheel for google-search-results (setup.py): started\n",
      "  Building wheel for google-search-results (setup.py): finished with status 'done'\n",
      "  Created wheel for google-search-results: filename=google_search_results-2.4.2-py3-none-any.whl size=32077 sha256=91caa5892a429078e732114e7780c7454d4d00f741eb0604b5fccf4d93a8876c\n",
      "  Stored in directory: c:\\users\\child\\appdata\\local\\pip\\cache\\wheels\\29\\75\\71\\9bf68178a74593837f73b6e9d9a070d45d308bddfd2e95290a\n",
      "Successfully built google-search-results\n",
      "Installing collected packages: google-search-results\n",
      "Successfully installed google-search-results-2.4.2\n"
     ]
    }
   ],
   "source": [
    "!pip install google-search-results"
   ]
  },
  {
   "cell_type": "code",
   "execution_count": 7,
   "id": "c9518904-092d-48ab-833d-afe138477fa3",
   "metadata": {
    "tags": []
   },
   "outputs": [],
   "source": [
    "import os\n",
    "\n",
    "with open(\"../API_KEY\", \"r\") as f:\n",
    "    os.environ[\"OPENAI_API_KEY\"] = f.read()\n",
    "with open(\"../SERPAPI_KEY\", \"r\") as f:\n",
    "    os.environ[\"SERPAPI_API_KEY\"] = f.read()"
   ]
  },
  {
   "cell_type": "code",
   "execution_count": 4,
   "id": "add7ea32-3c83-4315-849a-837ca2a01d32",
   "metadata": {
    "tags": []
   },
   "outputs": [],
   "source": [
    "# Import things that are needed generically\n",
    "from langchain import LLMMathChain, SerpAPIWrapper\n",
    "from langchain.agents import AgentType, initialize_agent\n",
    "from langchain.chat_models import ChatOpenAI\n",
    "from langchain.tools import BaseTool, StructuredTool, Tool, tool"
   ]
  },
  {
   "cell_type": "code",
   "execution_count": 5,
   "id": "80d37422-79a1-4f0c-99b9-cd60f3d219ae",
   "metadata": {
    "tags": []
   },
   "outputs": [],
   "source": [
    "llm = ChatOpenAI(temperature=0)"
   ]
  },
  {
   "cell_type": "code",
   "execution_count": 11,
   "id": "35858e26-1f50-4f64-9ca3-627b5ecca249",
   "metadata": {
    "tags": []
   },
   "outputs": [],
   "source": [
    "# Load the tool configs that are needed.\n",
    "search = SerpAPIWrapper()\n",
    "llm_math_chain = LLMMathChain.from_llm(llm=llm, verbose=True)\n",
    "tools = [\n",
    "    Tool.from_function(\n",
    "        func=search.run,\n",
    "        name=\"Search\",\n",
    "        description=\"useful for when you need to answer questions about current events\"\n",
    "        # coroutine= ... <- you can specify an async method if desired as well\n",
    "    ),\n",
    "]"
   ]
  },
  {
   "cell_type": "code",
   "execution_count": 12,
   "id": "f6250b1a-553b-475f-9f30-f58d23ce6179",
   "metadata": {
    "tags": []
   },
   "outputs": [],
   "source": [
    "from pydantic import BaseModel, Field\n",
    "\n",
    "\n",
    "class CalculatorInput(BaseModel):\n",
    "    question: str = Field()\n",
    "\n",
    "\n",
    "tools.append(\n",
    "    Tool.from_function(\n",
    "        func=llm_math_chain.run,\n",
    "        name=\"Calculator\",\n",
    "        description=\"useful for when you need to answer questions about math\",\n",
    "        args_schema=CalculatorInput\n",
    "        # coroutine= ... <- you can specify an async method if desired as well\n",
    "    )\n",
    ")"
   ]
  },
  {
   "cell_type": "code",
   "execution_count": 13,
   "id": "a7054de1-95a7-4fc5-9a67-686299a48847",
   "metadata": {
    "tags": []
   },
   "outputs": [],
   "source": [
    "# Construct the agent. We will use the default agent type here.\n",
    "# See documentation for a full list of options.\n",
    "agent = initialize_agent(\n",
    "    tools, llm, agent=AgentType.ZERO_SHOT_REACT_DESCRIPTION, verbose=True\n",
    ")"
   ]
  },
  {
   "cell_type": "code",
   "execution_count": 14,
   "id": "a2e3b35b-4718-4a30-b437-8d02217397a8",
   "metadata": {
    "tags": []
   },
   "outputs": [
    {
     "name": "stdout",
     "output_type": "stream",
     "text": [
      "\n",
      "\n",
      "\u001b[1m> Entering new AgentExecutor chain...\u001b[0m\n",
      "\u001b[32;1m\u001b[1;3mI need to find out the current temperature in Vancouver and then raise it to the power of 2.75. \n",
      "Action: Search \n",
      "Action Input: \"Vancouver temperature today\" \u001b[0m\n",
      "Observation: \u001b[36;1m\u001b[1;3mCurrent ConditionsObserved at: Vancouver Int'l Airport 11:00 AM PDT Sunday 21 May 2023 ; Condition: Mostly Cloudy; Pressure: 102.1 kPa ; Temperature: 15.6° C · Dew ...\u001b[0m\n",
      "Thought:\u001b[32;1m\u001b[1;3mI have the current temperature in Vancouver, now I need to raise it to the power of 2.75. \n",
      "Action: Calculator \n",
      "Action Input: 15.6^2.75 \u001b[0m\n",
      "\n",
      "\u001b[1m> Entering new LLMMathChain chain...\u001b[0m\n",
      "15.6^2.75"
     ]
    },
    {
     "name": "stderr",
     "output_type": "stream",
     "text": [
      "Retrying langchain.chat_models.openai.ChatOpenAI.completion_with_retry.<locals>._completion_with_retry in 1.0 seconds as it raised RateLimitError: The server had an error while processing your request. Sorry about that!.\n"
     ]
    },
    {
     "name": "stdout",
     "output_type": "stream",
     "text": [
      "\u001b[32;1m\u001b[1;3m```text\n",
      "15.6**2.75\n",
      "```\n",
      "...numexpr.evaluate(\"15.6**2.75\")...\n",
      "\u001b[0m\n",
      "Answer: \u001b[33;1m\u001b[1;3m1910.2607197321036\u001b[0m\n",
      "\u001b[1m> Finished chain.\u001b[0m\n",
      "\n",
      "Observation: \u001b[33;1m\u001b[1;3mAnswer: 1910.2607197321036\u001b[0m\n",
      "Thought:\u001b[32;1m\u001b[1;3mI now know the final answer. \n",
      "Final Answer: The temperature in Vancouver today is 15.6°C and when raised to the power of 2.75, it is 1910.2607197321036.\u001b[0m\n",
      "\n",
      "\u001b[1m> Finished chain.\u001b[0m\n"
     ]
    },
    {
     "data": {
      "text/plain": [
       "'The temperature in Vancouver today is 15.6°C and when raised to the power of 2.75, it is 1910.2607197321036.'"
      ]
     },
     "execution_count": 14,
     "metadata": {},
     "output_type": "execute_result"
    }
   ],
   "source": [
    "# agent.run(\"Who is Leo DiCaprio's girlfriend? What is her current age raised to the 0.43 power?\")\n",
    "agent.run(\n",
    "    \"What is the temperature today in Vancouver? What is that temperature raised to the power 2.75?\"\n",
    ")"
   ]
  }
 ],
 "metadata": {
  "kernelspec": {
   "display_name": "Python 3 (ipykernel)",
   "language": "python",
   "name": "python3"
  },
  "language_info": {
   "codemirror_mode": {
    "name": "ipython",
    "version": 3
   },
   "file_extension": ".py",
   "mimetype": "text/x-python",
   "name": "python",
   "nbconvert_exporter": "python",
   "pygments_lexer": "ipython3",
   "version": "3.8.16"
  }
 },
 "nbformat": 4,
 "nbformat_minor": 5
}
