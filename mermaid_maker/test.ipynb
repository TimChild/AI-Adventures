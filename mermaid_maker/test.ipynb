{
 "cells": [
  {
   "cell_type": "code",
   "execution_count": 1,
   "id": "39e68e16-fb88-42e2-bd45-ed5a1839d002",
   "metadata": {
    "tags": []
   },
   "outputs": [],
   "source": [
    "from mermaid_generator import MermaidGenerator"
   ]
  },
  {
   "cell_type": "code",
   "execution_count": 2,
   "id": "90ed2c34-25b3-472e-bafb-30c16ad4a048",
   "metadata": {
    "tags": []
   },
   "outputs": [],
   "source": [
    "mg = MermaidGenerator()"
   ]
  },
  {
   "cell_type": "code",
   "execution_count": 7,
   "id": "e3aa94a4-b7f8-4272-bbd5-95399af58842",
   "metadata": {
    "tags": []
   },
   "outputs": [],
   "source": [
    "i = 0"
   ]
  },
  {
   "cell_type": "code",
   "execution_count": 9,
   "id": "2396ec4a-6cae-441a-a9c1-9dc018bfa235",
   "metadata": {
    "tags": []
   },
   "outputs": [],
   "source": [
    "mg.mermaidify('''\n",
    "I'd like to organize the permissions that users of a server have for various folders, here are the requirements:\n",
    "- 'labuser' should be able to read/execute from 'measurement-data', and read/write/execute from 'shared'\n",
    "- 'measurement-pc' should be able to read/write/execute with 'measurement-data', and the same for 'shared'\n",
    "- 'measurement-data' and 'shared' should be owned by 'jfolk'\n",
    "\n",
    "The users ('jfolk', 'labuser', 'measurement-pc') should be grouped together.\n",
    "''',\n",
    "             output_filename=f'lab-server-permissions_{i}.html')\n",
    "i += 1"
   ]
  },
  {
   "cell_type": "code",
   "execution_count": null,
   "id": "ac89b550-bbc8-461c-962e-dc840ecc45f6",
   "metadata": {},
   "outputs": [],
   "source": []
  }
 ],
 "metadata": {
  "kernelspec": {
   "display_name": "Python 3 (ipykernel)",
   "language": "python",
   "name": "python3"
  },
  "language_info": {
   "codemirror_mode": {
    "name": "ipython",
    "version": 3
   },
   "file_extension": ".py",
   "mimetype": "text/x-python",
   "name": "python",
   "nbconvert_exporter": "python",
   "pygments_lexer": "ipython3",
   "version": "3.8.16"
  }
 },
 "nbformat": 4,
 "nbformat_minor": 5
}
