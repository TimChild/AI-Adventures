{
 "cells": [
  {
   "cell_type": "code",
   "execution_count": null,
   "id": "daa0700a-d466-4a04-ba24-3090edc50f68",
   "metadata": {},
   "outputs": [],
   "source": []
  },
  {
   "cell_type": "code",
   "execution_count": 1,
   "id": "39e68e16-fb88-42e2-bd45-ed5a1839d002",
   "metadata": {
    "tags": []
   },
   "outputs": [],
   "source": [
    "from mermaid_generator import MermaidGenerator"
   ]
  },
  {
   "cell_type": "code",
   "execution_count": 2,
   "id": "90ed2c34-25b3-472e-bafb-30c16ad4a048",
   "metadata": {
    "tags": []
   },
   "outputs": [],
   "source": [
    "mg = MermaidGenerator()"
   ]
  },
  {
   "cell_type": "code",
   "execution_count": 6,
   "id": "2396ec4a-6cae-441a-a9c1-9dc018bfa235",
   "metadata": {
    "tags": []
   },
   "outputs": [
    {
     "data": {
      "text/plain": [
       "'\\nclassDiagram\\n    class TestA{\\n        +void __init__()\\n    }\\n    class TestB{\\n        +void __init__()\\n    }\\n    class DifferentClass{\\n        +void __init__()\\n    }\\n    TestB <|-- TestA\\n'"
      ]
     },
     "execution_count": 6,
     "metadata": {},
     "output_type": "execute_result"
    }
   ],
   "source": [
    "mg.mermaidify('''\n",
    "Class TestA:\n",
    "    pass\n",
    "    \n",
    "Class TestB(TestA):\n",
    "    pass\n",
    "    \n",
    "Class DifferentClass:\n",
    "    pass\n",
    "''',\n",
    "             output_filename='ali_test.html')"
   ]
  },
  {
   "cell_type": "code",
   "execution_count": null,
   "id": "ac89b550-bbc8-461c-962e-dc840ecc45f6",
   "metadata": {},
   "outputs": [],
   "source": []
  }
 ],
 "metadata": {
  "kernelspec": {
   "display_name": "Python 3 (ipykernel)",
   "language": "python",
   "name": "python3"
  },
  "language_info": {
   "codemirror_mode": {
    "name": "ipython",
    "version": 3
   },
   "file_extension": ".py",
   "mimetype": "text/x-python",
   "name": "python",
   "nbconvert_exporter": "python",
   "pygments_lexer": "ipython3",
   "version": "3.8.16"
  }
 },
 "nbformat": 4,
 "nbformat_minor": 5
}
