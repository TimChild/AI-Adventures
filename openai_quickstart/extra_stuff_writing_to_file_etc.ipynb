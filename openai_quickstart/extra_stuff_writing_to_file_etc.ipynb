{
 "cells": [
  {
   "cell_type": "code",
   "execution_count": null,
   "id": "6e3a0d54-b1cd-40a1-a964-4da051aff41b",
   "metadata": {},
   "outputs": [],
   "source": []
  },
  {
   "cell_type": "markdown",
   "id": "f712e330-92e8-4059-8c1f-80dbcb12f9f9",
   "metadata": {},
   "source": [
    "# TODO: Put GPT writing functions here (and generating function descriptions)"
   ]
  },
  {
   "cell_type": "markdown",
   "id": "4b211e3e-0707-4d74-8335-66531d16485c",
   "metadata": {},
   "source": [
    "### Now let's save to file"
   ]
  },
  {
   "cell_type": "code",
   "execution_count": 21,
   "id": "de0d1531-7426-4e58-8fc3-ddf5015cd939",
   "metadata": {
    "tags": []
   },
   "outputs": [],
   "source": [
    "def save_func_and_json(func: Callable, func_folder: str) -> None:\n",
    "    \"\"\"\n",
    "    Saves the given function and its JSON representation to a subfolder of func_folder.\n",
    "\n",
    "    Args:\n",
    "        func (Callable): The function to save.\n",
    "        func_folder (str): The path to the folder where the function and JSON representation will be saved.\n",
    "    \"\"\"\n",
    "    func_str = inspect.getsource(func)\n",
    "    # Get the imports required for the function\n",
    "    imports_string = get_imports_for_function(func_str)\n",
    "    if 'no imports required' in imports_string.lower():\n",
    "        imports_string = ''\n",
    "    else:\n",
    "        imports_string += '\\n\\n\\n'\n",
    "        \n",
    "    file_contents = imports_string+func_str\n",
    "    \n",
    "    # Save function to .py file\n",
    "    with open(f\"{func_folder}/{func.__name__}.py\", \"w\") as f:\n",
    "        f.write(file_contents)\n",
    "\n",
    "    # Save JSON representation to .json file\n",
    "    with open(f\"{func_folder}/{func.__name__}.json\", \"w\") as f:\n",
    "        json.dump(get_json_representation(func), f)"
   ]
  },
  {
   "cell_type": "code",
   "execution_count": 22,
   "id": "2687bfe0-9673-4eaa-9261-132dfadbcccc",
   "metadata": {
    "tags": []
   },
   "outputs": [],
   "source": [
    "import os\n",
    "FUNCTIONS_FOLDER = 'functions'\n",
    "os.makedirs(FUNCTIONS_FOLDER, exist_ok=True)\n",
    "\n",
    "save_func_and_json(test_func, func_folder=FUNCTIONS_FOLDER)\n",
    "save_func_and_json(test_func2, func_folder=FUNCTIONS_FOLDER)"
   ]
  },
  {
   "cell_type": "markdown",
   "id": "68f8b084-a5a8-40e3-be69-ef5f8502214c",
   "metadata": {},
   "source": [
    "And now we have those functions saved in a nice format\n",
    "\n",
    "### Loading the functions for use by GPT"
   ]
  },
  {
   "cell_type": "code",
   "execution_count": 23,
   "id": "27688819-cf06-4559-a1ab-be51e19dce4f",
   "metadata": {
    "tags": []
   },
   "outputs": [],
   "source": [
    "def load_json_descriptions(directory: str) -> dict:\n",
    "    \"\"\"\n",
    "    Loads the contents of all the .json files in a directory.\n",
    "\n",
    "    Args:\n",
    "        directory (str): The directory to load .json files from.\n",
    "\n",
    "    Returns:\n",
    "        dict: A dictionary where the key is the name of the json file (excluding the .json extension) and the value is the content of the .json file.\n",
    "    \"\"\"\n",
    "    json_data = {}\n",
    "\n",
    "    # Iterate over all files in the directory\n",
    "    for filename in os.listdir(directory):\n",
    "        # Check if the file is a .json file\n",
    "        if filename.endswith(\".json\"):\n",
    "            # Remove the .json extension from the filename\n",
    "            name = filename[:-5]\n",
    "            # Open the .json file and load its contents\n",
    "            with open(os.path.join(directory, filename), 'r') as f:\n",
    "                data = json.load(f)\n",
    "            # Add the data to the dictionary\n",
    "            json_data[name] = data\n",
    "\n",
    "    return json_data\n"
   ]
  },
  {
   "cell_type": "code",
   "execution_count": 24,
   "id": "38ecf6db-c882-4b3e-97a0-03ef0900c904",
   "metadata": {
    "tags": []
   },
   "outputs": [
    {
     "name": "stdout",
     "output_type": "stream",
     "text": [
      "Saved functions are: dict_keys(['test_func', 'test_func2'])\n",
      "\n",
      "\n",
      "test_func description: {\n",
      "    \"name\": \"test_func\",\n",
      "    \"description\": \"Calculates the sine of the product of a and b and adds it to the dictionary d with the key 'new_val'.\",\n",
      "    \"parameters\": {\n",
      "        \"type\": \"object\",\n",
      "        \"properties\": {\n",
      "            \"d\": {\n",
      "                \"type\": \"object\",\n",
      "                \"description\": \"A dictionary to which the new value will be added.\"\n",
      "            },\n",
      "            \"a\": {\n",
      "                \"type\": \"integer\",\n",
      "                \"description\": \"An integer value.\"\n",
      "            },\n",
      "            \"b\": {\n",
      "                \"type\": \"number\",\n",
      "                \"description\": \"A float value.\"\n",
      "            }\n",
      "        },\n",
      "        \"required\": [\n",
      "            \"d\",\n",
      "            \"a\",\n",
      "            \"b\"\n",
      "        ]\n",
      "    },\n",
      "    \"return\": {\n",
      "        \"type\": \"string\",\n",
      "        \"description\": \"A JSON string representation of the updated dictionary d.\"\n",
      "    }\n",
      "}\n"
     ]
    }
   ],
   "source": [
    "function_descriptions = load_json_descriptions(FUNCTIONS_FOLDER)\n",
    "print(f\"Saved functions are: {function_descriptions.keys()}\\n\\n\")\n",
    "# Using json.dumps just to make the output look nicer for us mere humans\n",
    "test_func_description = json.dumps(function_descriptions['test_func'], indent=4)\n",
    "print(f\"test_func description: {test_func_description}\")"
   ]
  },
  {
   "cell_type": "markdown",
   "id": "7b09ff53-2ccd-4de3-9e19-85d2ad79e5c3",
   "metadata": {},
   "source": [
    "### And now to use a function from a file"
   ]
  },
  {
   "cell_type": "code",
   "execution_count": 25,
   "id": "eaff3498-9afb-4b28-83ee-c66561fd1115",
   "metadata": {
    "tags": []
   },
   "outputs": [],
   "source": [
    "def load_function_from_file(folder: str, filename: str):\n",
    "    \"\"\"\n",
    "    Loads a function from a .py file.\n",
    "\n",
    "    Args:\n",
    "        directory (str): The directory where the .py file is located.\n",
    "        filename (str): The name of the .py file (excluding the .py extension).\n",
    "\n",
    "    Returns:\n",
    "        function: The function contained in the .py file.\n",
    "    \"\"\"\n",
    "    # Create the path to the .py file\n",
    "    file_path = os.path.join(folder, filename + \".py\")\n",
    "\n",
    "    # Load the spec of the module\n",
    "    spec = importlib.util.spec_from_file_location(filename, file_path)\n",
    "\n",
    "    # Create a module from the spec\n",
    "    module = importlib.util.module_from_spec(spec)\n",
    "\n",
    "    # Execute the module to get the function\n",
    "    spec.loader.exec_module(module)\n",
    "\n",
    "    # Get the function from the module\n",
    "    function = getattr(module, filename)\n",
    "\n",
    "    return function"
   ]
  },
  {
   "cell_type": "code",
   "execution_count": 26,
   "id": "c169283d-7a2b-4923-a744-3078ec61179f",
   "metadata": {
    "tags": []
   },
   "outputs": [
    {
     "data": {
      "text/plain": [
       "{'test_func': <function test_func.test_func(d: dict, a: int, b: float) -> str>,\n",
       " 'test_func2': <function test_func2.test_func2(a: float, b: float) -> float>}"
      ]
     },
     "execution_count": 26,
     "metadata": {},
     "output_type": "execute_result"
    }
   ],
   "source": [
    "function_descriptions = load_json_descriptions(FUNCTIONS_FOLDER)\n",
    "funcs = {}\n",
    "for func_name in function_descriptions:\n",
    "    funcs[func_name] = load_function_from_file(FUNCTIONS_FOLDER, func_name)\n",
    "funcs"
   ]
  },
  {
   "cell_type": "code",
   "execution_count": 27,
   "id": "081e762f-5922-484d-a00c-a2d2ca32a5e6",
   "metadata": {
    "tags": []
   },
   "outputs": [
    {
     "data": {
      "text/plain": [
       "'{\"new_val\": -0.7568024953079282}'"
      ]
     },
     "execution_count": 27,
     "metadata": {},
     "output_type": "execute_result"
    }
   ],
   "source": [
    "# Test with a similar example to what we did before\n",
    "funcs['test_func']({}, 1, 4)"
   ]
  },
  {
   "cell_type": "markdown",
   "id": "7f615a8b-136f-4e1b-85fd-9c56e36b3904",
   "metadata": {},
   "source": [
    "# Now let's provide a way for GPT to make it's own function, save it, and use it in its next response!\n",
    "\n",
    "- Make a write python code function (the function should just take a description of what the code needs to do so that a separate prompt can be used to actually generate the code)\n",
    "\n",
    "# TODO: Maybe can improve the code generator by making it fill in a fake function that takes args for 'signature', 'docstring', 'code body' or something like that?"
   ]
  },
  {
   "cell_type": "markdown",
   "id": "cfab1325-bb38-4571-a464-9097f3dff419",
   "metadata": {},
   "source": [
    "## We need the JSON description again"
   ]
  },
  {
   "cell_type": "code",
   "execution_count": 56,
   "id": "0172646e-581b-4143-b816-33598bdb673c",
   "metadata": {
    "tags": []
   },
   "outputs": [
    {
     "data": {
      "text/plain": [
       "{'name': 'make_new_function',\n",
       " 'description': \"Use this if an existing function doesn't exist, and it would be helpful to have a new function to complete a task. The new function will be made to carry out the task described in the `description` given the arguments described by `arg_descriptions`\",\n",
       " 'parameters': {'type': 'object',\n",
       "  'properties': {'function_name': {'type': 'string'},\n",
       "   'arg_descriptions': {'type': 'string'},\n",
       "   'description': {'type': 'string'}},\n",
       "  'required': ['function_name', 'arg_descriptions', 'description']}}"
      ]
     },
     "execution_count": 56,
     "metadata": {},
     "output_type": "execute_result"
    }
   ],
   "source": [
    "make_new_function_description = get_json_representation(make_new_function)\n",
    "make_new_function_description"
   ]
  },
  {
   "cell_type": "markdown",
   "id": "9fd087c3-b1d1-4eaf-8e7d-842ad85fc409",
   "metadata": {},
   "source": [
    "## Let's test that out\n",
    "\n",
    "We'll ask for something that GPT is bad at doing by itself (like basic math)"
   ]
  },
  {
   "cell_type": "code",
   "execution_count": 59,
   "id": "4a9ec463-a5b5-46d6-bc4b-a62af7b50030",
   "metadata": {
    "tags": []
   },
   "outputs": [
    {
     "data": {
      "text/plain": [
       "<OpenAIObject chat.completion id=chatcmpl-7SWPjCQrUhsqLLqXNE253o8NaGw8I at 0x1b6f3c0f710> JSON: {\n",
       "  \"id\": \"chatcmpl-7SWPjCQrUhsqLLqXNE253o8NaGw8I\",\n",
       "  \"object\": \"chat.completion\",\n",
       "  \"created\": 1687032139,\n",
       "  \"model\": \"gpt-3.5-turbo-0613\",\n",
       "  \"choices\": [\n",
       "    {\n",
       "      \"index\": 0,\n",
       "      \"message\": {\n",
       "        \"role\": \"assistant\",\n",
       "        \"content\": null,\n",
       "        \"function_call\": {\n",
       "          \"name\": \"make_new_function\",\n",
       "          \"arguments\": \"{\\n\\\"function_name\\\": \\\"multiply_numbers\\\",\\n\\\"arg_descriptions\\\": \\\"[numbers: number[]]\\\",\\n\\\"description\\\": \\\"Multiply together all of the numbers in the given array.\\\"\\n}\"\n",
       "        }\n",
       "      },\n",
       "      \"finish_reason\": \"function_call\"\n",
       "    }\n",
       "  ],\n",
       "  \"usage\": {\n",
       "    \"prompt_tokens\": 238,\n",
       "    \"completion_tokens\": 42,\n",
       "    \"total_tokens\": 280\n",
       "  }\n",
       "}"
      ]
     },
     "execution_count": 59,
     "metadata": {},
     "output_type": "execute_result"
    }
   ],
   "source": [
    "SYSTEM_PROMPT_GENERAL = '''You are a helpful AI assistant. \n",
    "When responding you should follow these rules:\n",
    " - You should always use functions as an intermediate step to respond to the user when appropriate (e.g. when being asked to do math, use a function to do the calculation)\n",
    " - You should ONLY consider using the functions provided (e.g. do not just assume you can use `python`)\n",
    " - If there is a missing function that would be useful, make a call to `make_new_function` to create it BEFORE responding to the user\n",
    "'''\n",
    "\n",
    "available_functions = [make_new_function_description]\n",
    "\n",
    "user_request = \"What is the result of multiplying together all of these numbers [3,2,6,3,6,5,4,3,6]?\"\n",
    "\n",
    "response_requesting_new_func = openai.ChatCompletion.create(\n",
    "    model=\"gpt-3.5-turbo-0613\",\n",
    "    messages=[\n",
    "        {\"role\": \"system\", \"content\": SYSTEM_PROMPT_GENERAL},\n",
    "        {\"role\": \"user\", \"content\": user_request},\n",
    "    ],\n",
    "    functions= available_functions,\n",
    "    function_call=\"auto\",  \n",
    "    # function_call='none',  \n",
    "    # function_call={\"name\": \"make_new_function\"},  # Force using the function\n",
    ")\n",
    "response_requesting_new_func"
   ]
  },
  {
   "cell_type": "markdown",
   "id": "a499c229-d5c2-4776-bcf1-f0ff18854a00",
   "metadata": {},
   "source": [
    "GPT-3.5 has a bit of a problem of hallucinating functions that don't exist (e.g. It often assumes it has a `python` function if you let it decide what to do automatically)\n",
    "If needs me, we can force it to use the `make_new_function` call by specifying `function_call={\"name\": \"make_new_function\"}`"
   ]
  },
  {
   "cell_type": "markdown",
   "id": "42bcfc6e-b556-437a-807e-e3836825c893",
   "metadata": {},
   "source": [
    "### Now let's make the requested function and save to file\n",
    "# TODO: Refactor the write to file earlier so that I don't need duplicates here"
   ]
  },
  {
   "cell_type": "code",
   "execution_count": 31,
   "id": "2a1e12c6-da46-489b-a2d0-b8d6047df82b",
   "metadata": {
    "tags": []
   },
   "outputs": [],
   "source": [
    "def sanitize_python_code(code: str) -> str:\n",
    "    \"\"\"\n",
    "    Sanitizes a string containing Python code. If the code is surrounded by markdown triple backticks, they are removed.\n",
    "    Also, language identifiers immediately following the opening backticks (like 'python' or 'py') are removed.\n",
    "\n",
    "    Args:\n",
    "        code (str): The string containing Python code.\n",
    "\n",
    "    Returns:\n",
    "        str: The sanitized Python code.\n",
    "    \"\"\"\n",
    "    # Check if the string starts and ends with triple backticks\n",
    "    if code.startswith(\"```\") and code.endswith(\"```\"):\n",
    "        # Remove the triple backticks from the start and end of the string\n",
    "        code = code[3:-3]\n",
    "        \n",
    "    # Further check if the string starts with \"python\" or \"py\", which is common in markdown code blocks\n",
    "    if code.lstrip().startswith((\"python\", \"py\")):\n",
    "        # Find the first newline character and remove everything before it\n",
    "        code = code[code.find('\\n')+1:]\n",
    "\n",
    "    return code\n",
    "\n",
    "def write_to_py_file(folder: str, file_name: str, file_contents: str):\n",
    "    # Save function to .py file\n",
    "    file_contents = sanitize_python_code(file_contents)\n",
    "    with open(f\"{folder}/{file_name}.py\", \"w\") as f:\n",
    "        f.write(file_contents)\n",
    "\n",
    "def write_description_to_json_file(folder: str, func: Callable):\n",
    "    # Save JSON representation to .json file\n",
    "    with open(f\"{folder}/{func.__name__}.json\", \"w\") as f:\n",
    "        json.dump(get_json_representation(func), f)\n",
    "        \n",
    "def write_generated_func_to_file(folder: str, func_name: str, generated_file_contents: str):\n",
    "    write_to_py_file(folder, func_name, generated_file_contents)\n",
    "    func = load_function_from_file(folder, func_name)\n",
    "    write_description_to_json_file(folder, func)"
   ]
  },
  {
   "cell_type": "code",
   "execution_count": 60,
   "id": "d59d978c-f645-40ad-a03b-58c1fdf89e97",
   "metadata": {
    "tags": []
   },
   "outputs": [
    {
     "data": {
      "text/plain": [
       "<OpenAIObject at 0x1b6f49c57f0> JSON: {\n",
       "  \"role\": \"assistant\",\n",
       "  \"content\": null,\n",
       "  \"function_call\": {\n",
       "    \"name\": \"make_new_function\",\n",
       "    \"arguments\": \"{\\n\\\"function_name\\\": \\\"multiply_numbers\\\",\\n\\\"arg_descriptions\\\": \\\"[numbers: number[]]\\\",\\n\\\"description\\\": \\\"Multiply together all of the numbers in the given array.\\\"\\n}\"\n",
       "  }\n",
       "}"
      ]
     },
     "execution_count": 60,
     "metadata": {},
     "output_type": "execute_result"
    }
   ],
   "source": [
    "message = response_requesting_new_func['choices'][0]['message']\n",
    "message"
   ]
  },
  {
   "cell_type": "code",
   "execution_count": 61,
   "id": "96968c5e-95c3-42c2-ae02-eb97c8b8a408",
   "metadata": {
    "tags": []
   },
   "outputs": [
    {
     "name": "stdout",
     "output_type": "stream",
     "text": [
      "new function request: {\n",
      "\"function_name\": \"multiply_numbers\",\n",
      "\"arg_descriptions\": \"[numbers: number[]]\",\n",
      "\"description\": \"Multiply together all of the numbers in the given array.\"\n",
      "}\n"
     ]
    }
   ],
   "source": [
    "new_func_arguments_description = message['function_call'].get('arguments')\n",
    "print(f'new function request: {new_func_arguments_description}')"
   ]
  },
  {
   "cell_type": "code",
   "execution_count": 63,
   "id": "acef400c-e4f2-4433-b71d-68bdc7b2522d",
   "metadata": {
    "tags": []
   },
   "outputs": [
    {
     "name": "stdout",
     "output_type": "stream",
     "text": [
      "make_new_function output:\n",
      "\n",
      "```python\n",
      "from typing import List\n",
      "\n",
      "def multiply_numbers(numbers: List[float]) -> float:\n",
      "    \"\"\"\n",
      "    Multiply together all of the numbers in the given array.\n",
      "\n",
      "    Args:\n",
      "        numbers: A list of numbers.\n",
      "\n",
      "    Returns:\n",
      "        The product of all the numbers in the list.\n",
      "    \"\"\"\n",
      "    product = 1\n",
      "    for num in numbers:\n",
      "        product *= num\n",
      "    return product\n",
      "```\n"
     ]
    }
   ],
   "source": [
    "new_file_contents = make_new_function(\n",
    "    **json.loads(new_func_arguments_description),\n",
    ")\n",
    "print(f'make_new_function output:\\n\\n{new_file_contents}')"
   ]
  },
  {
   "cell_type": "code",
   "execution_count": 64,
   "id": "77357069-ed58-481d-b60c-99e5516ce283",
   "metadata": {
    "tags": []
   },
   "outputs": [
    {
     "name": "stdout",
     "output_type": "stream",
     "text": [
      "Funcion written to file\n"
     ]
    }
   ],
   "source": [
    "new_func_name = json.loads(message['function_call']['arguments']).get('function_name')\n",
    "write_generated_func_to_file(FUNCTIONS_FOLDER, new_func_name, new_file_contents)\n",
    "print(f'Funcion written to file')"
   ]
  },
  {
   "cell_type": "code",
   "execution_count": 65,
   "id": "287f22f2-affa-4fc6-81a6-08022634b135",
   "metadata": {
    "tags": []
   },
   "outputs": [
    {
     "data": {
      "text/plain": [
       "{'multiply': {'name': 'multiply',\n",
       "  'description': 'Multiplies all the numbers in a list together',\n",
       "  'parameters': {'type': 'object',\n",
       "   'properties': {'numbers': {'type': 'array', 'items': {'type': 'number'}}},\n",
       "   'required': ['numbers']},\n",
       "  'returns': {'type': 'number',\n",
       "   'description': 'The product of all the numbers in the list'}},\n",
       " 'multiply_numbers': {'name': 'multiply_numbers',\n",
       "  'description': 'Multiply together all of the numbers in the given array',\n",
       "  'parameters': {'type': 'object',\n",
       "   'properties': {'numbers': {'type': 'array', 'items': {'type': 'number'}}},\n",
       "   'required': ['numbers']},\n",
       "  'return': {'type': 'number',\n",
       "   'description': 'The product of all the numbers in the list'}},\n",
       " 'test_func': {'name': 'test_func',\n",
       "  'description': \"Calculates the sine of the product of a and b and adds it to the dictionary d with the key 'new_val'.\",\n",
       "  'parameters': {'type': 'object',\n",
       "   'properties': {'d': {'type': 'object',\n",
       "     'description': 'A dictionary to which the new value will be added.'},\n",
       "    'a': {'type': 'integer', 'description': 'An integer value.'},\n",
       "    'b': {'type': 'number', 'description': 'A float value.'}},\n",
       "   'required': ['d', 'a', 'b']},\n",
       "  'return': {'type': 'string',\n",
       "   'description': 'A JSON string representation of the updated dictionary d.'}},\n",
       " 'test_func2': {'name': 'test_func2',\n",
       "  'description': 'Multiplies two float values and returns the result',\n",
       "  'parameters': {'type': 'object',\n",
       "   'properties': {'a': {'type': 'number', 'description': 'A float value'},\n",
       "    'b': {'type': 'number', 'description': 'A float value'}},\n",
       "   'required': ['a', 'b']}}}"
      ]
     },
     "execution_count": 65,
     "metadata": {},
     "output_type": "execute_result"
    }
   ],
   "source": [
    "func_descriptions = load_json_descriptions(FUNCTIONS_FOLDER)\n",
    "func_descriptions"
   ]
  },
  {
   "cell_type": "code",
   "execution_count": 66,
   "id": "526d6536-84a3-41dd-858b-ae655f6ee97c",
   "metadata": {
    "tags": []
   },
   "outputs": [
    {
     "name": "stdout",
     "output_type": "stream",
     "text": [
      "Next response from Chat model:\n",
      "{\n",
      "  \"role\": \"assistant\",\n",
      "  \"content\": null,\n",
      "  \"function_call\": {\n",
      "    \"name\": \"multiply_numbers\",\n",
      "    \"arguments\": \"{\\n  \\\"numbers\\\": [3, 2, 6, 3, 6, 5, 4, 3, 6]\\n}\"\n",
      "  }\n",
      "}\n"
     ]
    }
   ],
   "source": [
    "# available_functions.append(new_func_description)\n",
    "\n",
    "response_using_new_func = openai.ChatCompletion.create(\n",
    "    model=\"gpt-3.5-turbo-0613\", \n",
    "    messages=[\n",
    "        {\"role\": \"system\", \"content\": SYSTEM_PROMPT_GENERAL},\n",
    "        {\"role\": \"user\", \"content\": user_request},\n",
    "    ],\n",
    "    # functions=available_functions,\n",
    "    functions=[\n",
    "        make_new_function_description,\n",
    "        *func_descriptions.values(),\n",
    "    ],\n",
    "    function_call='auto',\n",
    ")\n",
    "print(f\"Next response from Chat model:\\n{response_using_new_func['choices'][0]['message']}\")"
   ]
  },
  {
   "cell_type": "markdown",
   "id": "cd08eebb-b7aa-4137-bb5a-8f973af5657e",
   "metadata": {},
   "source": [
    "**NOTE:** We don't want to follow the standard format here of telling GPT what the function returned, we just want to pretend that we are again answering the original question, only now we have the new function available"
   ]
  },
  {
   "cell_type": "code",
   "execution_count": 67,
   "id": "42e45219-99fb-401e-baa1-dff68810465b",
   "metadata": {
    "tags": []
   },
   "outputs": [
    {
     "name": "stdout",
     "output_type": "stream",
     "text": [
      "Function output:\n",
      "233280\n"
     ]
    }
   ],
   "source": [
    "# Extract the returned message\n",
    "message_using_func = response_using_new_func['choices'][0]['message']\n",
    "\n",
    "# From that message, get the name of the function called\n",
    "function_name = message_using_func[\"function_call\"][\"name\"]\n",
    "\n",
    "# Also get the arguments (this is a string representation of a JSON dict of arguments)\n",
    "arguments = message_using_func['function_call'].get('arguments')\n",
    "\n",
    "# Make the call to the function with the arguments that the LLM decided\n",
    "requested_func = load_function_from_file(FUNCTIONS_FOLDER, function_name)\n",
    "function_response = requested_func(\n",
    "    **json.loads(arguments),  # Unpack the arguments as keyword: value pairs\n",
    ")\n",
    "\n",
    "# Look at what the function returned\n",
    "print(f'Function output:\\n{function_response}')"
   ]
  },
  {
   "cell_type": "markdown",
   "id": "c49b8bee-9440-46da-820d-83679fd7335a",
   "metadata": {},
   "source": [
    "And then, pass that result back to the LLM"
   ]
  },
  {
   "cell_type": "code",
   "execution_count": 39,
   "id": "238a0728-44fc-4a42-843c-2ce5ce798ed6",
   "metadata": {
    "tags": []
   },
   "outputs": [
    {
     "data": {
      "text/plain": [
       "<OpenAIObject chat.completion id=chatcmpl-7SJ3CI0bA5V8F9eXeLTgJEdKzTn5I at 0x1b6f30bb890> JSON: {\n",
       "  \"id\": \"chatcmpl-7SJ3CI0bA5V8F9eXeLTgJEdKzTn5I\",\n",
       "  \"object\": \"chat.completion\",\n",
       "  \"created\": 1686980770,\n",
       "  \"model\": \"gpt-3.5-turbo-0613\",\n",
       "  \"choices\": [\n",
       "    {\n",
       "      \"index\": 0,\n",
       "      \"message\": {\n",
       "        \"role\": \"assistant\",\n",
       "        \"content\": \"The result of multiplying all of the numbers [3, 2, 6, 3, 6, 5, 4, 3, 6] together is 233,280.\"\n",
       "      },\n",
       "      \"finish_reason\": \"stop\"\n",
       "    }\n",
       "  ],\n",
       "  \"usage\": {\n",
       "    \"prompt_tokens\": 193,\n",
       "    \"completion_tokens\": 42,\n",
       "    \"total_tokens\": 235\n",
       "  }\n",
       "}"
      ]
     },
     "execution_count": 39,
     "metadata": {},
     "output_type": "execute_result"
    }
   ],
   "source": [
    "function_response_message = {\n",
    "            \"role\": \"function\",\n",
    "            \"name\": function_name,\n",
    "            \"content\": str(function_response),\n",
    "        }\n",
    "\n",
    "final_response = openai.ChatCompletion.create(\n",
    "    model=\"gpt-3.5-turbo-0613\",\n",
    "    messages=[\n",
    "        {\"role\": \"system\", \"content\": SYSTEM_PROMPT_GENERAL},\n",
    "        {\"role\": \"user\", \"content\": user_request},\n",
    "        message_using_func,  # We'll keep this context, but don't need to include when it made the new func\n",
    "        function_response_message,  # And the result of that function call\n",
    "    ],\n",
    ")\n",
    "final_response"
   ]
  },
  {
   "cell_type": "code",
   "execution_count": 40,
   "id": "4f85e3f4-08db-4419-a209-675c736fbb47",
   "metadata": {
    "tags": []
   },
   "outputs": [
    {
     "data": {
      "text/plain": [
       "'The result of multiplying all of the numbers [3, 2, 6, 3, 6, 5, 4, 3, 6] together is 233,280.'"
      ]
     },
     "execution_count": 40,
     "metadata": {},
     "output_type": "execute_result"
    }
   ],
   "source": [
    "final_response['choices'][0]['message']['content']"
   ]
  },
  {
   "cell_type": "code",
   "execution_count": null,
   "id": "2a3bd46c-b5bb-4961-af22-451b24d605a2",
   "metadata": {},
   "outputs": [],
   "source": []
  },
  {
   "cell_type": "code",
   "execution_count": null,
   "id": "114d4df4-a22a-4493-bf96-e89ba8ad6321",
   "metadata": {},
   "outputs": [],
   "source": []
  },
  {
   "cell_type": "code",
   "execution_count": null,
   "id": "006b601c-bd67-44dd-b193-7a02de703aba",
   "metadata": {},
   "outputs": [],
   "source": []
  },
  {
   "cell_type": "code",
   "execution_count": null,
   "id": "a1e898f2-2006-41ca-8a70-bd905882189b",
   "metadata": {},
   "outputs": [],
   "source": []
  },
  {
   "cell_type": "code",
   "execution_count": null,
   "id": "1b262121-3bf3-4652-b1d7-6b2879e5574b",
   "metadata": {},
   "outputs": [],
   "source": []
  },
  {
   "cell_type": "code",
   "execution_count": null,
   "id": "54bd683a-85e6-409f-8b00-48816173195d",
   "metadata": {},
   "outputs": [],
   "source": []
  },
  {
   "cell_type": "code",
   "execution_count": null,
   "id": "b4b45192-58d0-47df-bbe7-1ceceadaa176",
   "metadata": {},
   "outputs": [],
   "source": []
  },
  {
   "cell_type": "markdown",
   "id": "23c338e9-304c-4024-bce6-aadbe1c62178",
   "metadata": {},
   "source": [
    "# Extracing imports\n",
    "\n",
    "- Store each function/tool in it's own `.py` file with the same name as the function\n",
    "    - We'll need to make sure we include the necessary `imports`\n",
    "- Store the JSON descriptions of the functions in a `.json` file with the same name as the function\n",
    "- Load the JSON descriptions from the `.json` files\n",
    "- Import and run the necessary functions from the `.py` files"
   ]
  },
  {
   "cell_type": "markdown",
   "id": "c5af4949-d041-4ec3-9274-a8732f5ccf20",
   "metadata": {},
   "source": [
    "### Let's think about how we can save this example function"
   ]
  },
  {
   "cell_type": "code",
   "execution_count": null,
   "id": "6a0877b4-866a-44b0-9df0-708b09bd1990",
   "metadata": {
    "tags": []
   },
   "outputs": [
    {
     "data": {
      "text/plain": [
       "'{\"new_val\": 0.1411200080598672}'"
      ]
     },
     "execution_count": 15,
     "metadata": {},
     "output_type": "execute_result"
    }
   ],
   "source": [
    "def test_func(d: dict, a: int, b: float) -> str:\n",
    "    \"\"\"\n",
    "    Calculates the sine of the product of a and b and adds it to the dictionary d with the key 'new_val'.\n",
    "\n",
    "    Args:\n",
    "      d: A dictionary to which the new value will be added.\n",
    "      a: An integer value.\n",
    "      b: A float value.\n",
    "\n",
    "    Returns:\n",
    "      A JSON string representation of the updated dictionary d.\n",
    "    \"\"\"\n",
    "    d['new_val'] = np.sin(a*b)\n",
    "    return json.dumps(d)\n",
    "\n",
    "test_func({}, 1, 3)"
   ]
  },
  {
   "cell_type": "markdown",
   "id": "e7c23df6-609e-4e9a-8710-a60bb46722b9",
   "metadata": {},
   "source": [
    "If we want to save this to it's own file, we are going to need to include the imports for `json` and `np`.\n",
    "\n",
    "It should look something like \n",
    "\n",
    "%test_func.py\n",
    "```\n",
    "import json\n",
    "import numpy as np\n",
    "\n",
    "def test_func(d: dict, a: int, b: float) -> str:\n",
    "    \"\"\"\n",
    "    Calculates the sine of the product of a and b and adds it to the dictionary d with the key 'new_val'.\n",
    "\n",
    "    Args:\n",
    "      d: A dictionary to which the new value will be added.\n",
    "      a: An integer value.\n",
    "      b: A float value.\n",
    "\n",
    "    Returns:\n",
    "      A JSON string representation of the updated dictionary d.\n",
    "    \"\"\"\n",
    "    d['new_val'] = np.sin(a*b)\n",
    "    return json.dumps(d)\n",
    "\n",
    "test_func({}, 1, 3)\n",
    "```"
   ]
  },
  {
   "cell_type": "markdown",
   "id": "0783e6ce-0ee8-438c-a4c2-56a2946fad18",
   "metadata": {},
   "source": [
    "How can we automate the process of figuring out what imports are necessary (not very simple since some imports require knowledge that e.g. `np` is just the shorthand name of `numpy`)"
   ]
  },
  {
   "cell_type": "markdown",
   "id": "e31f1029-49ab-4006-a46b-76f1a254b315",
   "metadata": {},
   "source": [
    "### Figure out the necessary imports for a function\n",
    "\n",
    "This is again a fairly difficult task to accomplish with code, but we can get GPT to help us. "
   ]
  },
  {
   "cell_type": "code",
   "execution_count": 16,
   "id": "38abd626-55c5-4e12-9d6d-de1e0e097806",
   "metadata": {
    "tags": []
   },
   "outputs": [],
   "source": [
    "SYSTEM_PROMPT_IMPORTS_REQUIRED = '''Your job is to return ONLY the python imports that would be required to run the function given by the user. For example:\n",
    "-----\n",
    "The user has given you this function:\n",
    "```\n",
    "def some_function(a, b, **kwargs):\n",
    "    c = np.sin(a+b)\n",
    "    result = {'input_a': a, 'input_b': b, 'res': c}\n",
    "    return json.dumps(result)\n",
    "```\n",
    "You should return:\n",
    "```\n",
    "import numpy as np\n",
    "import json\n",
    "```\n",
    "-----\n",
    "\n",
    "Do not include ANY other text other than the imports required. If no imports are required return \"No imports required\".\n",
    "'''\n",
    "\n",
    "def get_imports_for_function(function_str: str) -> str:\n",
    "    \"\"\"\n",
    "    Uses the openai.ChatCompletion.create endpoint to return the necessary imports for a function supplied as a string.\n",
    "\n",
    "    Args:\n",
    "        function_str (str): The function for which to get the necessary imports, supplied as a string.\n",
    "\n",
    "    Returns:\n",
    "        str: A string of the necessary imports for the function.\n",
    "    \"\"\"\n",
    "    parameters = {\n",
    "        'model': 'gpt-3.5-turbo-0613',\n",
    "        'temperature': 0.0,\n",
    "        'messages': [\n",
    "            {\"role\": \"system\", \"content\": SYSTEM_PROMPT_IMPORTS_REQUIRED},\n",
    "            {\"role\": \"user\", \"content\": function_str}\n",
    "        ]\n",
    "    }\n",
    "\n",
    "    response = openai.ChatCompletion.create(**parameters)\n",
    "\n",
    "    # Extract the assistant's response\n",
    "    assistant_response = response['choices'][0]['message']['content']\n",
    "\n",
    "    return assistant_response"
   ]
  },
  {
   "cell_type": "code",
   "execution_count": 17,
   "id": "445d4ba2-4b93-4761-9103-67c244b94c1e",
   "metadata": {
    "tags": []
   },
   "outputs": [
    {
     "name": "stdout",
     "output_type": "stream",
     "text": [
      "def test_func(d: dict, a: int, b: float) -> str:\n",
      "    \"\"\"\n",
      "    Calculates the sine of the product of a and b and adds it to the dictionary d with the key 'new_val'.\n",
      "\n",
      "    Args:\n",
      "      d: A dictionary to which the new value will be added.\n",
      "      a: An integer value.\n",
      "      b: A float value.\n",
      "\n",
      "    Returns:\n",
      "      A JSON string representation of the updated dictionary d.\n",
      "    \"\"\"\n",
      "    d['new_val'] = np.sin(a*b)\n",
      "    return json.dumps(d)\n",
      "\n"
     ]
    }
   ],
   "source": [
    "func_str = inspect.getsource(test_func)\n",
    "print(func_str)"
   ]
  },
  {
   "cell_type": "raw",
   "id": "87cf6dbe-85ed-4f82-bd41-97cc11966233",
   "metadata": {},
   "source": [
    "Function only, missing the imports"
   ]
  },
  {
   "cell_type": "code",
   "execution_count": 18,
   "id": "59b00bcb-f097-487f-9831-6c6508768144",
   "metadata": {
    "tags": []
   },
   "outputs": [
    {
     "name": "stdout",
     "output_type": "stream",
     "text": [
      "import numpy as np\n",
      "import json\n"
     ]
    }
   ],
   "source": [
    "imports = get_imports_for_function(func_str)\n",
    "print(imports)"
   ]
  },
  {
   "cell_type": "markdown",
   "id": "45ff133f-061c-47c5-bdb3-712d823d949c",
   "metadata": {},
   "source": [
    "GPT has figured out the imports for us :)\n",
    "\n",
    "Let's check what happens if there are no imports required"
   ]
  },
  {
   "cell_type": "code",
   "execution_count": 19,
   "id": "c44b40c4-0f79-4f7f-ac2d-c63a02833097",
   "metadata": {
    "tags": []
   },
   "outputs": [],
   "source": [
    "def test_func2(a: float, b: float) -> float:\n",
    "    \"\"\"\n",
    "    Multiplies two float values and returns the result.\n",
    "\n",
    "    Args:\n",
    "      a: A float value.\n",
    "      b: A float value.\n",
    "\n",
    "    Returns:\n",
    "      The product of a and b.\n",
    "    \"\"\"\n",
    "    return a*b"
   ]
  },
  {
   "cell_type": "code",
   "execution_count": 20,
   "id": "597ee180-f936-4d9e-ba75-6356cba2c0d4",
   "metadata": {
    "tags": []
   },
   "outputs": [
    {
     "data": {
      "text/plain": [
       "'No imports required.'"
      ]
     },
     "execution_count": 20,
     "metadata": {},
     "output_type": "execute_result"
    }
   ],
   "source": [
    "get_imports_for_function(inspect.getsource(test_func2))"
   ]
  },
  {
   "cell_type": "markdown",
   "id": "2cf3b596-fc78-424c-bc88-c53cca094a9b",
   "metadata": {},
   "source": [
    "Perfect, that's what we asked GPT to do in this case"
   ]
  }
 ],
 "metadata": {
  "kernelspec": {
   "display_name": "Python 3 (ipykernel)",
   "language": "python",
   "name": "python3"
  },
  "language_info": {
   "codemirror_mode": {
    "name": "ipython",
    "version": 3
   },
   "file_extension": ".py",
   "mimetype": "text/x-python",
   "name": "python",
   "nbconvert_exporter": "python",
   "pygments_lexer": "ipython3",
   "version": "3.11.3"
  }
 },
 "nbformat": 4,
 "nbformat_minor": 5
}
