{
 "cells": [
  {
   "cell_type": "code",
   "execution_count": 15,
   "id": "e6a5c85a-803e-4d95-85ae-7c13df900c79",
   "metadata": {
    "tags": []
   },
   "outputs": [],
   "source": [
    "import openai\n",
    "import json\n",
    "\n",
    "\n",
    "with open(\"../API_KEY\", \"r\") as f:\n",
    "    key = f.read()\n",
    "\n",
    "openai.api_key = key\n",
    "\n",
    "# Example dummy function hard coded to return the same weather\n",
    "# In production, this could be your backend API or an external API\n",
    "def get_current_weather(location, unit=\"fahrenheit\"):\n",
    "    \"\"\"Get the current weather in a given location\"\"\"\n",
    "    weather_info = {\n",
    "        \"location\": location,\n",
    "        \"temperature\": \"72\",\n",
    "        \"unit\": unit,\n",
    "        \"forecast\": [\"sunny\", \"windy\"],\n",
    "    }\n",
    "    return json.dumps(weather_info)"
   ]
  },
  {
   "cell_type": "code",
   "execution_count": 16,
   "id": "0e71ca24-618b-46ed-b228-1052b99f3881",
   "metadata": {},
   "outputs": [
    {
     "data": {
      "text/plain": [
       "<OpenAIObject chat.completion id=chatcmpl-7TulRYxkL7AUqB6jEBJzsyhgOimLU at 0x1dc590b4770> JSON: {\n",
       "  \"id\": \"chatcmpl-7TulRYxkL7AUqB6jEBJzsyhgOimLU\",\n",
       "  \"object\": \"chat.completion\",\n",
       "  \"created\": 1687364069,\n",
       "  \"model\": \"gpt-3.5-turbo-0613\",\n",
       "  \"choices\": [\n",
       "    {\n",
       "      \"index\": 0,\n",
       "      \"message\": {\n",
       "        \"role\": \"assistant\",\n",
       "        \"content\": \"The weather in Boston is currently sunny with scattered clouds. The temperature is 35.4 degrees Celsius, and the humidity is at 54%. The sun rose at 6:00 am and will set at 7:00 pm.\"\n",
       "      },\n",
       "      \"finish_reason\": \"stop\"\n",
       "    }\n",
       "  ],\n",
       "  \"usage\": {\n",
       "    \"prompt_tokens\": 72,\n",
       "    \"completion_tokens\": 48,\n",
       "    \"total_tokens\": 120\n",
       "  }\n",
       "}"
      ]
     },
     "execution_count": 16,
     "metadata": {},
     "output_type": "execute_result"
    }
   ],
   "source": [
    "response = openai.ChatCompletion.create(\n",
    "    model=\"gpt-3.5-turbo-0613\",\n",
    "    messages=[\n",
    "        {\"role\": \"user\", \"content\": \"What's the weather like in Boston?\"},\n",
    "        {\"role\": \"assistant\", \"content\": None,\n",
    "                              \"function_call\": {\n",
    "                                \"arguments\": \"{\\n\\\"location\\\": \\\"Boston, MA\\\"\\n}\",\n",
    "                                \"name\": \"general_context\"\n",
    "                              },\n",
    "                              \"role\": \"assistant\"\n",
    "                            },\n",
    "        {\"role\": \"function\", \"name\": 'general_context', \"content\": \"Boston: sunny with scattered clouds, 35.4C, 54% humidity, sunrise at 6:00am, sunset at 7:00pm\"},\n",
    "    ],\n",
    ")\n",
    "response"
   ]
  },
  {
   "cell_type": "code",
   "execution_count": 26,
   "id": "e29c1e87-83f5-48a9-a629-1db74758c56f",
   "metadata": {
    "tags": []
   },
   "outputs": [
    {
     "data": {
      "text/plain": [
       "int"
      ]
     },
     "execution_count": 26,
     "metadata": {},
     "output_type": "execute_result"
    }
   ],
   "source": [
    "type(response.)"
   ]
  },
  {
   "cell_type": "code",
   "execution_count": 9,
   "id": "50021983-c94d-4573-a370-ab61a8d6f363",
   "metadata": {
    "tags": []
   },
   "outputs": [
    {
     "data": {
      "text/plain": [
       "<OpenAIObject chat.completion id=chatcmpl-7RAPm31JcZyy444StKJlQI6xbx7xG at 0x1b0ff775c70> JSON: {\n",
       "  \"choices\": [\n",
       "    {\n",
       "      \"finish_reason\": \"function_call\",\n",
       "      \"index\": 0,\n",
       "      \"message\": {\n",
       "        \"content\": null,\n",
       "        \"function_call\": {\n",
       "          \"arguments\": \"{\\n\\\"location\\\": \\\"Boston, MA\\\"\\n}\",\n",
       "          \"name\": \"get_current_weather\"\n",
       "        },\n",
       "        \"role\": \"assistant\"\n",
       "      }\n",
       "    }\n",
       "  ],\n",
       "  \"created\": 1686709246,\n",
       "  \"id\": \"chatcmpl-7RAPm31JcZyy444StKJlQI6xbx7xG\",\n",
       "  \"model\": \"gpt-3.5-turbo-0613\",\n",
       "  \"object\": \"chat.completion\",\n",
       "  \"usage\": {\n",
       "    \"completion_tokens\": 17,\n",
       "    \"prompt_tokens\": 82,\n",
       "    \"total_tokens\": 99\n",
       "  }\n",
       "}"
      ]
     },
     "execution_count": 9,
     "metadata": {},
     "output_type": "execute_result"
    }
   ],
   "source": [
    "# Step 1, send model the user query and what functions it has access to\n",
    "response = openai.ChatCompletion.create(\n",
    "    model=\"gpt-3.5-turbo-0613\",\n",
    "    messages=[\n",
    "        {\"role\": \"user\", \"content\": \"What's the weather like in Boston?\"}\n",
    "    ],\n",
    "    functions=[\n",
    "        {\n",
    "            \"name\": \"get_current_weather\",\n",
    "            \"description\": \"Get the current weather in a given location\",\n",
    "            \"parameters\": {\n",
    "                \"type\": \"object\",\n",
    "                \"properties\": {\n",
    "                    \"location\": {\n",
    "                        \"type\": \"string\",\n",
    "                        \"description\": \"The city and state, e.g. San Francisco, CA\",\n",
    "                    },\n",
    "                    \"unit\": {\"type\": \"string\", \"enum\": [\"celsius\", \"fahrenheit\"]},\n",
    "                },\n",
    "                \"required\": [\"location\"],\n",
    "            },\n",
    "        }\n",
    "    ],\n",
    "    function_call=\"auto\",\n",
    ")\n",
    "   \n",
    "response"
   ]
  },
  {
   "cell_type": "code",
   "execution_count": 10,
   "id": "d2d3a08d-9ccc-45be-8db1-a5a199fb4f64",
   "metadata": {
    "tags": []
   },
   "outputs": [
    {
     "data": {
      "text/plain": [
       "<OpenAIObject at 0x1b0ff7acd60> JSON: {\n",
       "  \"content\": null,\n",
       "  \"function_call\": {\n",
       "    \"arguments\": \"{\\n\\\"location\\\": \\\"Boston, MA\\\"\\n}\",\n",
       "    \"name\": \"get_current_weather\"\n",
       "  },\n",
       "  \"role\": \"assistant\"\n",
       "}"
      ]
     },
     "execution_count": 10,
     "metadata": {},
     "output_type": "execute_result"
    }
   ],
   "source": [
    "message = response[\"choices\"][0][\"message\"]\n",
    "message"
   ]
  },
  {
   "cell_type": "code",
   "execution_count": 11,
   "id": "f6f61090-ebf3-4260-8b98-70a9aec6241d",
   "metadata": {},
   "outputs": [
    {
     "data": {
      "text/plain": [
       "<OpenAIObject chat.completion id=chatcmpl-7RAPnlXTG59ePzRgpBrp6QTyu0czW at 0x1b0ff7c70e0> JSON: {\n",
       "  \"choices\": [\n",
       "    {\n",
       "      \"finish_reason\": \"stop\",\n",
       "      \"index\": 0,\n",
       "      \"message\": {\n",
       "        \"content\": \"The weather in Boston is currently sunny and windy with a temperature of 72 degrees.\",\n",
       "        \"role\": \"assistant\"\n",
       "      }\n",
       "    }\n",
       "  ],\n",
       "  \"created\": 1686709247,\n",
       "  \"id\": \"chatcmpl-7RAPnlXTG59ePzRgpBrp6QTyu0czW\",\n",
       "  \"model\": \"gpt-3.5-turbo-0613\",\n",
       "  \"object\": \"chat.completion\",\n",
       "  \"usage\": {\n",
       "    \"completion_tokens\": 17,\n",
       "    \"prompt_tokens\": 69,\n",
       "    \"total_tokens\": 86\n",
       "  }\n",
       "}"
      ]
     },
     "execution_count": 11,
     "metadata": {},
     "output_type": "execute_result"
    }
   ],
   "source": [
    "# Step 2, check if the model wants to call a function\n",
    "if message.get(\"function_call\"):\n",
    "    function_name = message[\"function_call\"][\"name\"]\n",
    "\n",
    "    # Step 3, call the function\n",
    "    # Note: the JSON response from the model may not be valid JSON\n",
    "    function_response = get_current_weather(\n",
    "        location=message.get(\"location\"),\n",
    "        unit=message.get(\"unit\"),\n",
    "    )\n",
    "\n",
    "    # Step 4, send model the info on the function call and function response\n",
    "    second_response = openai.ChatCompletion.create(\n",
    "        model=\"gpt-3.5-turbo-0613\",\n",
    "        messages=[\n",
    "            {\"role\": \"user\", \"content\": \"What is the weather like in boston?\"},\n",
    "            message,\n",
    "            {\n",
    "                \"role\": \"function\",\n",
    "                \"name\": function_name,\n",
    "                \"content\": function_response,\n",
    "            },\n",
    "        ],\n",
    "    )\n",
    "else:\n",
    "    second_response = None\n",
    "\n",
    "second_response"
   ]
  },
  {
   "cell_type": "code",
   "execution_count": null,
   "id": "9d275039-c4cb-47f0-80fa-f39a1d12ee39",
   "metadata": {},
   "outputs": [],
   "source": []
  }
 ],
 "metadata": {
  "kernelspec": {
   "display_name": "Python 3 (ipykernel)",
   "language": "python",
   "name": "python3"
  },
  "language_info": {
   "codemirror_mode": {
    "name": "ipython",
    "version": 3
   },
   "file_extension": ".py",
   "mimetype": "text/x-python",
   "name": "python",
   "nbconvert_exporter": "python",
   "pygments_lexer": "ipython3",
   "version": "3.11.3"
  }
 },
 "nbformat": 4,
 "nbformat_minor": 5
}
