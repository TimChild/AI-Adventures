{
 "cells": [
  {
   "cell_type": "code",
   "execution_count": 1,
   "id": "e415ceb3-44fa-44ba-91cb-e24a09bb1678",
   "metadata": {
    "tags": []
   },
   "outputs": [
    {
     "name": "stdout",
     "output_type": "stream",
     "text": [
      "Collecting opencv-python-headless\n",
      "  Downloading opencv_python_headless-4.7.0.72-cp37-abi3-win_amd64.whl (38.1 MB)\n",
      "     ---------------------------------------- 0.0/38.1 MB ? eta -:--:--\n",
      "      --------------------------------------- 0.6/38.1 MB 12.6 MB/s eta 0:00:03\n",
      "     -- ------------------------------------- 2.0/38.1 MB 21.4 MB/s eta 0:00:02\n",
      "     ---- ----------------------------------- 4.0/38.1 MB 28.4 MB/s eta 0:00:02\n",
      "     ------ --------------------------------- 5.8/38.1 MB 30.8 MB/s eta 0:00:02\n",
      "     ------ --------------------------------- 5.8/38.1 MB 30.8 MB/s eta 0:00:02\n",
      "     ---------- ---------------------------- 10.5/38.1 MB 38.6 MB/s eta 0:00:01\n",
      "     ------------ -------------------------- 12.4/38.1 MB 43.7 MB/s eta 0:00:01\n",
      "     -------------- ------------------------ 14.4/38.1 MB 40.9 MB/s eta 0:00:01\n",
      "     ---------------- ---------------------- 16.4/38.1 MB 50.1 MB/s eta 0:00:01\n",
      "     ------------------ -------------------- 18.4/38.1 MB 46.9 MB/s eta 0:00:01\n",
      "     -------------------- ------------------ 20.4/38.1 MB 40.9 MB/s eta 0:00:01\n",
      "     ---------------------- ---------------- 22.4/38.1 MB 40.9 MB/s eta 0:00:01\n",
      "     ------------------------ -------------- 24.4/38.1 MB 40.9 MB/s eta 0:00:01\n",
      "     --------------------------- ----------- 26.4/38.1 MB 40.9 MB/s eta 0:00:01\n",
      "     ----------------------------- --------- 28.3/38.1 MB 40.9 MB/s eta 0:00:01\n",
      "     ------------------------------- ------- 30.3/38.1 MB 40.9 MB/s eta 0:00:01\n",
      "     --------------------------------- ----- 32.3/38.1 MB 40.9 MB/s eta 0:00:01\n",
      "     ----------------------------------- --- 34.3/38.1 MB 43.7 MB/s eta 0:00:01\n",
      "     ------------------------------------- - 36.9/38.1 MB 43.7 MB/s eta 0:00:01\n",
      "     --------------------------------------  38.1/38.1 MB 40.9 MB/s eta 0:00:01\n",
      "     --------------------------------------  38.1/38.1 MB 40.9 MB/s eta 0:00:01\n",
      "     --------------------------------------- 38.1/38.1 MB 28.4 MB/s eta 0:00:00\n",
      "Requirement already satisfied: numpy>=1.17.0 in c:\\users\\child\\.conda\\envs\\gpt\\lib\\site-packages (from opencv-python-headless) (1.21.3)\n",
      "Installing collected packages: opencv-python-headless\n",
      "Successfully installed opencv-python-headless-4.7.0.72\n",
      "Collecting torch\n",
      "  Downloading torch-2.0.1-cp38-cp38-win_amd64.whl (172.4 MB)\n",
      "     ---------------------------------------- 0.0/172.4 MB ? eta -:--:--\n",
      "     --------------------------------------- 0.3/172.4 MB 10.2 MB/s eta 0:00:17\n",
      "     --------------------------------------- 1.7/172.4 MB 17.6 MB/s eta 0:00:10\n",
      "      -------------------------------------- 3.7/172.4 MB 25.9 MB/s eta 0:00:07\n",
      "     - ------------------------------------- 4.6/172.4 MB 29.3 MB/s eta 0:00:06\n",
      "     - ------------------------------------- 4.7/172.4 MB 19.9 MB/s eta 0:00:09\n",
      "     - ------------------------------------- 6.0/172.4 MB 21.2 MB/s eta 0:00:08\n",
      "     - ------------------------------------- 7.9/172.4 MB 24.0 MB/s eta 0:00:07\n",
      "     -- ------------------------------------ 9.1/172.4 MB 24.1 MB/s eta 0:00:07\n",
      "     -- ----------------------------------- 10.6/172.4 MB 27.3 MB/s eta 0:00:06\n",
      "     -- ----------------------------------- 12.2/172.4 MB 28.5 MB/s eta 0:00:06\n",
      "     -- ----------------------------------- 13.2/172.4 MB 26.2 MB/s eta 0:00:07\n",
      "     --- ---------------------------------- 16.6/172.4 MB 36.3 MB/s eta 0:00:05\n",
      "     ---- --------------------------------- 18.6/172.4 MB 38.6 MB/s eta 0:00:04\n",
      "     ---- --------------------------------- 20.5/172.4 MB 40.9 MB/s eta 0:00:04\n",
      "     ----- -------------------------------- 23.2/172.4 MB 50.4 MB/s eta 0:00:03\n",
      "     ----- -------------------------------- 25.8/172.4 MB 43.7 MB/s eta 0:00:04\n",
      "     ------ ------------------------------- 28.4/172.4 MB 43.5 MB/s eta 0:00:04\n",
      "     ------ ------------------------------- 30.4/172.4 MB 40.9 MB/s eta 0:00:04\n",
      "     ------- ------------------------------ 32.4/172.4 MB 40.9 MB/s eta 0:00:04\n",
      "     ------- ------------------------------ 34.4/172.4 MB 40.9 MB/s eta 0:00:04\n",
      "     -------- ----------------------------- 36.4/172.4 MB 40.9 MB/s eta 0:00:04\n",
      "     -------- ----------------------------- 38.4/172.4 MB 40.9 MB/s eta 0:00:04\n",
      "     -------- ----------------------------- 40.4/172.4 MB 40.9 MB/s eta 0:00:04\n",
      "     --------- ---------------------------- 42.4/172.4 MB 40.9 MB/s eta 0:00:04\n",
      "     --------- ---------------------------- 44.4/172.4 MB 40.9 MB/s eta 0:00:04\n",
      "     ---------- --------------------------- 46.4/172.4 MB 40.9 MB/s eta 0:00:04\n",
      "     ---------- --------------------------- 48.4/172.4 MB 40.9 MB/s eta 0:00:04\n",
      "     ----------- -------------------------- 50.3/172.4 MB 40.9 MB/s eta 0:00:03\n",
      "     ----------- -------------------------- 52.3/172.4 MB 40.9 MB/s eta 0:00:03\n",
      "     ------------ ------------------------- 55.0/172.4 MB 43.7 MB/s eta 0:00:03\n",
      "     ------------ ------------------------- 57.0/172.4 MB 43.7 MB/s eta 0:00:03\n",
      "     ------------ ------------------------- 58.9/172.4 MB 40.9 MB/s eta 0:00:03\n",
      "     ------------- ------------------------ 61.0/172.4 MB 40.9 MB/s eta 0:00:03\n",
      "     ------------- ------------------------ 63.0/172.4 MB 40.9 MB/s eta 0:00:03\n",
      "     -------------- ----------------------- 64.9/172.4 MB 40.9 MB/s eta 0:00:03\n",
      "     -------------- ----------------------- 66.9/172.4 MB 40.9 MB/s eta 0:00:03\n",
      "     --------------- ---------------------- 68.9/172.4 MB 40.9 MB/s eta 0:00:03\n",
      "     --------------- ---------------------- 70.9/172.4 MB 40.9 MB/s eta 0:00:03\n",
      "     ---------------- --------------------- 72.9/172.4 MB 40.9 MB/s eta 0:00:03\n",
      "     ---------------- --------------------- 74.9/172.4 MB 40.9 MB/s eta 0:00:03\n",
      "     ---------------- --------------------- 76.9/172.4 MB 40.9 MB/s eta 0:00:03\n",
      "     ----------------- -------------------- 78.8/172.4 MB 40.9 MB/s eta 0:00:03\n",
      "     ----------------- -------------------- 80.8/172.4 MB 40.9 MB/s eta 0:00:03\n",
      "     ------------------ ------------------- 83.4/172.4 MB 43.7 MB/s eta 0:00:03\n",
      "     ------------------ ------------------- 86.1/172.4 MB 43.7 MB/s eta 0:00:02\n",
      "     ------------------- ------------------ 88.8/172.4 MB 43.7 MB/s eta 0:00:02\n",
      "     -------------------- ----------------- 90.7/172.4 MB 40.9 MB/s eta 0:00:02\n",
      "     -------------------- ----------------- 92.7/172.4 MB 40.9 MB/s eta 0:00:02\n",
      "     -------------------- ----------------- 94.7/172.4 MB 40.9 MB/s eta 0:00:02\n",
      "     --------------------- ---------------- 96.7/172.4 MB 40.9 MB/s eta 0:00:02\n",
      "     --------------------- ---------------- 98.7/172.4 MB 40.9 MB/s eta 0:00:02\n",
      "     --------------------- --------------- 100.6/172.4 MB 40.9 MB/s eta 0:00:02\n",
      "     ---------------------- -------------- 102.6/172.4 MB 40.9 MB/s eta 0:00:02\n",
      "     ---------------------- -------------- 104.6/172.4 MB 40.9 MB/s eta 0:00:02\n",
      "     ---------------------- -------------- 106.5/172.4 MB 40.9 MB/s eta 0:00:02\n",
      "     ----------------------- ------------- 108.5/172.4 MB 40.9 MB/s eta 0:00:02\n",
      "     ----------------------- ------------- 110.5/172.4 MB 40.9 MB/s eta 0:00:02\n",
      "     ------------------------ ------------ 112.5/172.4 MB 40.9 MB/s eta 0:00:02\n",
      "     ------------------------ ------------ 114.5/172.4 MB 40.9 MB/s eta 0:00:02\n",
      "     ------------------------ ------------ 115.3/172.4 MB 40.9 MB/s eta 0:00:02\n",
      "     ------------------------- ----------- 118.5/172.4 MB 43.5 MB/s eta 0:00:02\n",
      "     ------------------------- ----------- 121.1/172.4 MB 43.7 MB/s eta 0:00:02\n",
      "     -------------------------- ---------- 123.1/172.4 MB 43.7 MB/s eta 0:00:02\n",
      "     -------------------------- ---------- 125.1/172.4 MB 40.9 MB/s eta 0:00:02\n",
      "     --------------------------- --------- 127.0/172.4 MB 43.7 MB/s eta 0:00:02\n",
      "     --------------------------- --------- 129.0/172.4 MB 40.9 MB/s eta 0:00:02\n",
      "     ---------------------------- -------- 131.0/172.4 MB 40.9 MB/s eta 0:00:02\n",
      "     ---------------------------- -------- 133.0/172.4 MB 40.9 MB/s eta 0:00:01\n",
      "     ---------------------------- -------- 135.0/172.4 MB 40.9 MB/s eta 0:00:01\n",
      "     ----------------------------- ------- 136.9/172.4 MB 40.9 MB/s eta 0:00:01\n",
      "     ----------------------------- ------- 138.9/172.4 MB 40.9 MB/s eta 0:00:01\n",
      "     ------------------------------ ------ 140.9/172.4 MB 40.9 MB/s eta 0:00:01\n",
      "     ------------------------------ ------ 142.8/172.4 MB 40.9 MB/s eta 0:00:01\n",
      "     ------------------------------- ----- 144.8/172.4 MB 40.9 MB/s eta 0:00:01\n",
      "     ------------------------------- ----- 146.8/172.4 MB 40.9 MB/s eta 0:00:01\n",
      "     ------------------------------- ----- 148.7/172.4 MB 40.9 MB/s eta 0:00:01\n",
      "     -------------------------------- ---- 150.7/172.4 MB 40.9 MB/s eta 0:00:01\n",
      "     -------------------------------- ---- 152.7/172.4 MB 40.9 MB/s eta 0:00:01\n",
      "     --------------------------------- --- 154.7/172.4 MB 40.9 MB/s eta 0:00:01\n",
      "     --------------------------------- --- 156.7/172.4 MB 43.5 MB/s eta 0:00:01\n",
      "     ---------------------------------- -- 159.3/172.4 MB 43.7 MB/s eta 0:00:01\n",
      "     ---------------------------------- -- 161.3/172.4 MB 40.9 MB/s eta 0:00:01\n",
      "     ----------------------------------- - 163.3/172.4 MB 40.9 MB/s eta 0:00:01\n",
      "     ----------------------------------- - 165.3/172.4 MB 40.9 MB/s eta 0:00:01\n",
      "     ----------------------------------- - 167.3/172.4 MB 40.9 MB/s eta 0:00:01\n",
      "     ------------------------------------  169.3/172.4 MB 40.9 MB/s eta 0:00:01\n",
      "     ------------------------------------  171.2/172.4 MB 40.9 MB/s eta 0:00:01\n",
      "     ------------------------------------  172.3/172.4 MB 43.5 MB/s eta 0:00:01\n",
      "     ------------------------------------  172.3/172.4 MB 43.5 MB/s eta 0:00:01\n",
      "     ------------------------------------  172.3/172.4 MB 43.5 MB/s eta 0:00:01\n",
      "     ------------------------------------  172.3/172.4 MB 43.5 MB/s eta 0:00:01\n",
      "     ------------------------------------- 172.4/172.4 MB 13.9 MB/s eta 0:00:00\n",
      "Collecting torchvision\n",
      "  Downloading torchvision-0.15.2-cp38-cp38-win_amd64.whl (1.2 MB)\n",
      "     ---------------------------------------- 0.0/1.2 MB ? eta -:--:--\n",
      "     ------------------------------------ --- 1.1/1.2 MB 23.1 MB/s eta 0:00:01\n",
      "     ---------------------------------------- 1.2/1.2 MB 15.2 MB/s eta 0:00:00\n",
      "Requirement already satisfied: typing-extensions in c:\\users\\child\\.conda\\envs\\gpt\\lib\\site-packages (from torch) (4.5.0)\n",
      "Collecting networkx\n",
      "  Using cached networkx-3.1-py3-none-any.whl (2.1 MB)\n",
      "Requirement already satisfied: filelock in c:\\users\\child\\.conda\\envs\\gpt\\lib\\site-packages (from torch) (3.12.0)\n",
      "Collecting sympy\n",
      "  Using cached sympy-1.12-py3-none-any.whl (5.7 MB)\n",
      "Requirement already satisfied: jinja2 in c:\\users\\child\\appdata\\roaming\\python\\python38\\site-packages (from torch) (3.1.2)\n",
      "Requirement already satisfied: requests in c:\\users\\child\\appdata\\roaming\\python\\python38\\site-packages (from torchvision) (2.30.0)\n",
      "Requirement already satisfied: pillow!=8.3.*,>=5.3.0 in c:\\users\\child\\.conda\\envs\\gpt\\lib\\site-packages (from torchvision) (9.5.0)\n",
      "Requirement already satisfied: numpy in c:\\users\\child\\.conda\\envs\\gpt\\lib\\site-packages (from torchvision) (1.21.3)\n",
      "Requirement already satisfied: MarkupSafe>=2.0 in c:\\users\\child\\appdata\\roaming\\python\\python38\\site-packages (from jinja2->torch) (2.1.2)\n",
      "Requirement already satisfied: charset-normalizer<4,>=2 in c:\\users\\child\\.conda\\envs\\gpt\\lib\\site-packages (from requests->torchvision) (2.0.7)\n",
      "Requirement already satisfied: urllib3<3,>=1.21.1 in c:\\users\\child\\.conda\\envs\\gpt\\lib\\site-packages (from requests->torchvision) (1.26.7)\n",
      "Requirement already satisfied: idna<4,>=2.5 in c:\\users\\child\\.conda\\envs\\gpt\\lib\\site-packages (from requests->torchvision) (3.3)\n",
      "Requirement already satisfied: certifi>=2017.4.17 in c:\\users\\child\\.conda\\envs\\gpt\\lib\\site-packages (from requests->torchvision) (2023.5.7)\n",
      "Collecting mpmath>=0.19\n",
      "  Using cached mpmath-1.3.0-py3-none-any.whl (536 kB)\n",
      "Installing collected packages: mpmath, sympy, networkx, torch, torchvision\n",
      "Successfully installed mpmath-1.3.0 networkx-3.1 sympy-1.12 torch-2.0.1 torchvision-0.15.2\n"
     ]
    },
    {
     "name": "stderr",
     "output_type": "stream",
     "text": [
      "Cloning into 'generative_inpainting'...\n"
     ]
    }
   ],
   "source": [
    "# Cell 1: Installation\n",
    "!pip install opencv-python-headless\n",
    "!pip install torch torchvision\n",
    "!git clone https://github.com/JiahuiYu/generative_inpainting.git"
   ]
  },
  {
   "cell_type": "code",
   "execution_count": 2,
   "id": "34e30f01-e540-4cfd-bb54-80d18beaf71b",
   "metadata": {
    "tags": []
   },
   "outputs": [
    {
     "ename": "ModuleNotFoundError",
     "evalue": "No module named 'tensorflow'",
     "output_type": "error",
     "traceback": [
      "\u001b[1;31m---------------------------------------------------------------------------\u001b[0m",
      "\u001b[1;31mModuleNotFoundError\u001b[0m                       Traceback (most recent call last)",
      "Cell \u001b[1;32mIn[2], line 5\u001b[0m\n\u001b[0;32m      3\u001b[0m \u001b[38;5;28;01mimport\u001b[39;00m \u001b[38;5;21;01mnumpy\u001b[39;00m \u001b[38;5;28;01mas\u001b[39;00m \u001b[38;5;21;01mnp\u001b[39;00m\n\u001b[0;32m      4\u001b[0m \u001b[38;5;28;01mimport\u001b[39;00m \u001b[38;5;21;01mtorch\u001b[39;00m\n\u001b[1;32m----> 5\u001b[0m \u001b[38;5;28;01mfrom\u001b[39;00m \u001b[38;5;21;01mgenerative_inpainting\u001b[39;00m\u001b[38;5;21;01m.\u001b[39;00m\u001b[38;5;21;01mtest\u001b[39;00m \u001b[38;5;28;01mimport\u001b[39;00m deepfill\n",
      "File \u001b[1;32mD:\\GitHub\\ai_adventures\\image_generator\\generative_inpainting\\test.py:5\u001b[0m\n\u001b[0;32m      3\u001b[0m \u001b[38;5;28;01mimport\u001b[39;00m \u001b[38;5;21;01mcv2\u001b[39;00m\n\u001b[0;32m      4\u001b[0m \u001b[38;5;28;01mimport\u001b[39;00m \u001b[38;5;21;01mnumpy\u001b[39;00m \u001b[38;5;28;01mas\u001b[39;00m \u001b[38;5;21;01mnp\u001b[39;00m\n\u001b[1;32m----> 5\u001b[0m \u001b[38;5;28;01mimport\u001b[39;00m \u001b[38;5;21;01mtensorflow\u001b[39;00m \u001b[38;5;28;01mas\u001b[39;00m \u001b[38;5;21;01mtf\u001b[39;00m\n\u001b[0;32m      6\u001b[0m \u001b[38;5;28;01mimport\u001b[39;00m \u001b[38;5;21;01mneuralgym\u001b[39;00m \u001b[38;5;28;01mas\u001b[39;00m \u001b[38;5;21;01mng\u001b[39;00m\n\u001b[0;32m      8\u001b[0m \u001b[38;5;28;01mfrom\u001b[39;00m \u001b[38;5;21;01minpaint_model\u001b[39;00m \u001b[38;5;28;01mimport\u001b[39;00m InpaintCAModel\n",
      "\u001b[1;31mModuleNotFoundError\u001b[0m: No module named 'tensorflow'"
     ]
    }
   ],
   "source": [
    "# Cell 2: Import necessary libraries\n",
    "import cv2\n",
    "import numpy as np\n",
    "import torch\n",
    "from generative_inpainting.test import deepfill"
   ]
  },
  {
   "cell_type": "code",
   "execution_count": null,
   "id": "c91ab227-865d-4344-b9bd-29134ff6340e",
   "metadata": {},
   "outputs": [],
   "source": [
    "# Cell 3: Load the image and mask\n",
    "image = cv2.imread('path_to_your_image.jpg')\n",
    "mask = cv2.imread('path_to_your_mask.jpg', cv2.IMREAD_GRAYSCALE)"
   ]
  },
  {
   "cell_type": "code",
   "execution_count": null,
   "id": "382365fc-52a1-4d15-9652-55fb7e1cba3d",
   "metadata": {},
   "outputs": [],
   "source": [
    "# Cell 4: Preprocess the image and mask\n",
    "image = image.astype(np.float32) / 255.\n",
    "mask = mask.astype(np.float32) / 255.\n",
    "mask = np.expand_dims(mask, axis=2)"
   ]
  },
  {
   "cell_type": "code",
   "execution_count": null,
   "id": "6b2a5522-b1af-47d1-a4f2-d48af5f15de7",
   "metadata": {},
   "outputs": [],
   "source": [
    "# Cell 5: Use DeepFill to inpaint the image\n",
    "inpainted_image = deepfill.inpaint(image, mask)"
   ]
  },
  {
   "cell_type": "code",
   "execution_count": null,
   "id": "38ce6cc1-84a2-4d8c-a5c9-ef1b4dcdc59f",
   "metadata": {},
   "outputs": [],
   "source": [
    "# Cell 6: Postprocess the inpainted image and save it\n",
    "inpainted_image = (inpainted_image * 255).astype(np.uint8)\n",
    "cv2.imwrite('inpainted_image.jpg', inpainted_image)"
   ]
  }
 ],
 "metadata": {
  "kernelspec": {
   "display_name": "Python 3 (ipykernel)",
   "language": "python",
   "name": "python3"
  },
  "language_info": {
   "codemirror_mode": {
    "name": "ipython",
    "version": 3
   },
   "file_extension": ".py",
   "mimetype": "text/x-python",
   "name": "python",
   "nbconvert_exporter": "python",
   "pygments_lexer": "ipython3",
   "version": "3.8.16"
  }
 },
 "nbformat": 4,
 "nbformat_minor": 5
}
